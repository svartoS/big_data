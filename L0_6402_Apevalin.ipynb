{
 "cells": [
  {
   "cell_type": "markdown",
   "metadata": {
    "id": "82OvPKEiEqjc"
   },
   "source": [
    "# Введение в MapReduce модель на Python\n"
   ]
  },
  {
   "cell_type": "code",
   "metadata": {
    "id": "JQ2cvXLjICmI",
    "ExecuteTime": {
     "end_time": "2025-05-05T01:28:57.938869Z",
     "start_time": "2025-05-05T01:28:57.935011Z"
    }
   },
   "source": [
    "from typing import NamedTuple # requires python 3.6+\n",
    "from typing import Iterator\n",
    "import random"
   ],
   "outputs": [],
   "execution_count": 2
  },
  {
   "cell_type": "code",
   "metadata": {
    "id": "yjPHumVwEyEg",
    "ExecuteTime": {
     "end_time": "2025-05-05T01:28:59.447652Z",
     "start_time": "2025-05-05T01:28:59.441170Z"
    }
   },
   "source": [
    "def MAP(_, row:NamedTuple):\n",
    "  if (row.gender == 'female'):\n",
    "    yield (row.age, row)\n",
    "\n",
    "def REDUCE(age:str, rows:Iterator[NamedTuple]):\n",
    "  sum = 0\n",
    "  count = 0\n",
    "  for row in rows:\n",
    "    sum += row.social_contacts\n",
    "    count += 1\n",
    "  if (count > 0):\n",
    "    yield (age, sum/count)\n",
    "  else:\n",
    "    yield (age, 0)"
   ],
   "outputs": [],
   "execution_count": 3
  },
  {
   "cell_type": "markdown",
   "metadata": {
    "id": "vBKMgpG_ilaZ"
   },
   "source": [
    "Модель элемента данных"
   ]
  },
  {
   "cell_type": "code",
   "metadata": {
    "id": "Rv-XIjhTJPx3",
    "ExecuteTime": {
     "end_time": "2025-05-05T01:29:01.276049Z",
     "start_time": "2025-05-05T01:29:01.272962Z"
    }
   },
   "source": [
    "class User(NamedTuple):\n",
    "  id: int\n",
    "  age: str\n",
    "  social_contacts: int\n",
    "  gender: str"
   ],
   "outputs": [],
   "execution_count": 4
  },
  {
   "cell_type": "code",
   "metadata": {
    "id": "5KV0Ze2vQgu5",
    "ExecuteTime": {
     "end_time": "2025-05-05T01:29:02.756805Z",
     "start_time": "2025-05-05T01:29:02.752838Z"
    }
   },
   "source": [
    "input_collection = [\n",
    "    User(id=0, age=55, gender='male', social_contacts=20),\n",
    "    User(id=1, age=25, gender='female', social_contacts=240),\n",
    "    User(id=2, age=25, gender='female', social_contacts=500),\n",
    "    User(id=3, age=33, gender='female', social_contacts=800)\n",
    "]"
   ],
   "outputs": [],
   "execution_count": 5
  },
  {
   "cell_type": "markdown",
   "metadata": {
    "id": "YFeqzyZxZIFZ"
   },
   "source": [
    "Функция RECORDREADER моделирует чтение элементов с диска или по сети."
   ]
  },
  {
   "cell_type": "code",
   "metadata": {
    "id": "S5HR4E_GQoMJ",
    "ExecuteTime": {
     "end_time": "2025-05-05T01:29:04.114612Z",
     "start_time": "2025-05-05T01:29:04.111701Z"
    }
   },
   "source": [
    "def RECORDREADER():\n",
    "  return [(u.id, u) for u in input_collection]"
   ],
   "outputs": [],
   "execution_count": 6
  },
  {
   "cell_type": "code",
   "metadata": {
    "colab": {
     "base_uri": "https://localhost:8080/"
    },
    "id": "NeEoWla-ROUy",
    "outputId": "ff61b5b7-c88b-4917-ccbc-dc7045432a01",
    "ExecuteTime": {
     "end_time": "2025-05-05T01:29:05.931349Z",
     "start_time": "2025-05-05T01:29:05.922897Z"
    }
   },
   "source": [
    "list(RECORDREADER())"
   ],
   "outputs": [
    {
     "data": {
      "text/plain": [
       "[(0, User(id=0, age=55, social_contacts=20, gender='male')),\n",
       " (1, User(id=1, age=25, social_contacts=240, gender='female')),\n",
       " (2, User(id=2, age=25, social_contacts=500, gender='female')),\n",
       " (3, User(id=3, age=33, social_contacts=800, gender='female'))]"
      ]
     },
     "execution_count": 7,
     "metadata": {},
     "output_type": "execute_result"
    }
   ],
   "execution_count": 7
  },
  {
   "cell_type": "code",
   "metadata": {
    "id": "YB8orgPSZs8M",
    "ExecuteTime": {
     "end_time": "2025-05-05T01:29:07.363732Z",
     "start_time": "2025-05-05T01:29:07.361346Z"
    }
   },
   "source": [
    "def flatten(nested_iterable):\n",
    "  for iterable in nested_iterable:\n",
    "    for element in iterable:\n",
    "      yield element"
   ],
   "outputs": [],
   "execution_count": 8
  },
  {
   "cell_type": "code",
   "metadata": {
    "colab": {
     "base_uri": "https://localhost:8080/",
     "height": 68
    },
    "id": "74oyvDLaRmd5",
    "outputId": "c6147702-7153-47c7-a574-d5fe6abe29a8",
    "ExecuteTime": {
     "end_time": "2025-05-05T01:29:11.646543Z",
     "start_time": "2025-05-05T01:29:11.642332Z"
    }
   },
   "source": [
    "map_output = flatten(map(lambda x: MAP(*x), RECORDREADER()))\n",
    "map_output = list(map_output) # materialize\n",
    "map_output"
   ],
   "outputs": [
    {
     "data": {
      "text/plain": [
       "[(25, User(id=1, age=25, social_contacts=240, gender='female')),\n",
       " (25, User(id=2, age=25, social_contacts=500, gender='female')),\n",
       " (33, User(id=3, age=33, social_contacts=800, gender='female'))]"
      ]
     },
     "execution_count": 9,
     "metadata": {},
     "output_type": "execute_result"
    }
   ],
   "execution_count": 9
  },
  {
   "cell_type": "code",
   "metadata": {
    "id": "8ncYDJ3-VzDn",
    "ExecuteTime": {
     "end_time": "2025-05-05T01:29:12.971093Z",
     "start_time": "2025-05-05T01:29:12.968637Z"
    }
   },
   "source": [
    "def groupbykey(iterable):\n",
    "  t = {}\n",
    "  for (k2, v2) in iterable:\n",
    "    t[k2] = t.get(k2, []) + [v2]\n",
    "  return t.items()"
   ],
   "outputs": [],
   "execution_count": 10
  },
  {
   "cell_type": "code",
   "metadata": {
    "colab": {
     "base_uri": "https://localhost:8080/",
     "height": 85
    },
    "id": "cKzY_6COWOA2",
    "outputId": "e6791b12-e409-47e9-bcd4-e9f8ca8611bd",
    "ExecuteTime": {
     "end_time": "2025-05-05T01:29:14.202611Z",
     "start_time": "2025-05-05T01:29:14.198938Z"
    }
   },
   "source": [
    "shuffle_output = groupbykey(map_output)\n",
    "shuffle_output = list(shuffle_output)\n",
    "shuffle_output"
   ],
   "outputs": [
    {
     "data": {
      "text/plain": [
       "[(25,\n",
       "  [User(id=1, age=25, social_contacts=240, gender='female'),\n",
       "   User(id=2, age=25, social_contacts=500, gender='female')]),\n",
       " (33, [User(id=3, age=33, social_contacts=800, gender='female')])]"
      ]
     },
     "execution_count": 11,
     "metadata": {},
     "output_type": "execute_result"
    }
   ],
   "execution_count": 11
  },
  {
   "cell_type": "code",
   "metadata": {
    "colab": {
     "base_uri": "https://localhost:8080/",
     "height": 34
    },
    "id": "NlA7lkDDYL0t",
    "outputId": "6b25d03f-5c92-4f3b-f500-6d70acd598b7",
    "ExecuteTime": {
     "end_time": "2025-05-05T01:29:15.632196Z",
     "start_time": "2025-05-05T01:29:15.623791Z"
    }
   },
   "source": [
    "reduce_output = flatten(map(lambda x: REDUCE(*x), shuffle_output))\n",
    "reduce_output = list(reduce_output)\n",
    "reduce_output"
   ],
   "outputs": [
    {
     "data": {
      "text/plain": [
       "[(25, 370.0), (33, 800.0)]"
      ]
     },
     "execution_count": 12,
     "metadata": {},
     "output_type": "execute_result"
    }
   ],
   "execution_count": 12
  },
  {
   "cell_type": "markdown",
   "metadata": {
    "id": "xf6qhHEtd6bI"
   },
   "source": [
    "Все действия одним конвейером!"
   ]
  },
  {
   "cell_type": "code",
   "metadata": {
    "colab": {
     "base_uri": "https://localhost:8080/",
     "height": 34
    },
    "id": "dZaQGYxCdpw5",
    "outputId": "3f5c6425-e5c5-49d2-b2cd-ce58a9acc33c",
    "ExecuteTime": {
     "end_time": "2025-05-05T01:29:17.449638Z",
     "start_time": "2025-05-05T01:29:17.445606Z"
    }
   },
   "source": [
    "list(flatten(map(lambda x: REDUCE(*x), groupbykey(flatten(map(lambda x: MAP(*x), RECORDREADER()))))))"
   ],
   "outputs": [
    {
     "data": {
      "text/plain": [
       "[(25, 370.0), (33, 800.0)]"
      ]
     },
     "execution_count": 13,
     "metadata": {},
     "output_type": "execute_result"
    }
   ],
   "execution_count": 13
  },
  {
   "cell_type": "markdown",
   "metadata": {
    "id": "Vq3EWRIpwSiJ"
   },
   "source": [
    "# **MapReduce**\n",
    "Выделим общую для всех пользователей часть системы в отдельную функцию высшего порядка. Это наиболее простая модель MapReduce, без учёта распределённого хранения данных.\n",
    "\n",
    "Пользователь для решения своей задачи реализует RECORDREADER, MAP, REDUCE."
   ]
  },
  {
   "cell_type": "code",
   "metadata": {
    "id": "V1PZeQMwwVjc",
    "ExecuteTime": {
     "end_time": "2025-05-05T01:29:23.356916Z",
     "start_time": "2025-05-05T01:29:23.352946Z"
    }
   },
   "source": [
    "def flatten(nested_iterable):\n",
    "  for iterable in nested_iterable:\n",
    "    for element in iterable:\n",
    "      yield element\n",
    "\n",
    "def groupbykey(iterable):\n",
    "  t = {}\n",
    "  for (k2, v2) in iterable:\n",
    "    t[k2] = t.get(k2, []) + [v2]\n",
    "  return t.items()\n",
    "\n",
    "def MapReduce(RECORDREADER, MAP, REDUCE):\n",
    "  return flatten(map(lambda x: REDUCE(*x), groupbykey(flatten(map(lambda x: MAP(*x), RECORDREADER())))))"
   ],
   "outputs": [],
   "execution_count": 14
  },
  {
   "cell_type": "markdown",
   "metadata": {
    "id": "iFIVrimep678"
   },
   "source": [
    "## Спецификация MapReduce\n",
    "\n",
    "\n",
    "\n",
    "```\n",
    "f (k1, v1) -> (k2,v2)*\n",
    "g (k2, v2*) -> (k3,v3)*\n",
    "\n",
    "mapreduce ((k1,v1)*) -> (k3,v3)*\n",
    "groupby ((k2,v2)*) -> (k2,v2*)*\n",
    "flatten (e2**) -> e2*\n",
    "\n",
    "mapreduce .map(f).flatten.groupby(k2).map(g).flatten\n",
    "```\n",
    "\n",
    "\n"
   ]
  },
  {
   "cell_type": "markdown",
   "metadata": {
    "id": "QtTFyqke3KGe"
   },
   "source": [
    "# Примеры"
   ]
  },
  {
   "cell_type": "markdown",
   "metadata": {
    "id": "BNhh5763w5Vn"
   },
   "source": [
    "## SQL"
   ]
  },
  {
   "cell_type": "code",
   "metadata": {
    "colab": {
     "base_uri": "https://localhost:8080/",
     "height": 34
    },
    "id": "QkyurnvGxBGk",
    "outputId": "84761282-d2ba-435a-e8d7-a85150730e10",
    "ExecuteTime": {
     "end_time": "2025-05-05T01:29:31.093051Z",
     "start_time": "2025-05-05T01:29:31.085774Z"
    }
   },
   "source": [
    "from typing import NamedTuple # requires python 3.6+\n",
    "from typing import Iterator\n",
    "\n",
    "class User(NamedTuple):\n",
    "  id: int\n",
    "  age: str\n",
    "  social_contacts: int\n",
    "  gender: str\n",
    "\n",
    "input_collection = [\n",
    "    User(id=0, age=55, gender='male', social_contacts=20),\n",
    "    User(id=1, age=25, gender='female', social_contacts=240),\n",
    "    User(id=2, age=25, gender='female', social_contacts=500),\n",
    "    User(id=3, age=33, gender='female', social_contacts=800)\n",
    "]\n",
    "\n",
    "def MAP(_, row:NamedTuple):\n",
    "  if (row.gender == 'female'):\n",
    "    yield (row.age, row)\n",
    "\n",
    "def REDUCE(age:str, rows:Iterator[NamedTuple]):\n",
    "  sum = 0\n",
    "  count = 0\n",
    "  for row in rows:\n",
    "    sum += row.social_contacts\n",
    "    count += 1\n",
    "  if (count > 0):\n",
    "    yield (age, sum/count)\n",
    "  else:\n",
    "    yield (age, 0)\n",
    "\n",
    "def RECORDREADER():\n",
    "  return [(u.id, u) for u in input_collection]\n",
    "\n",
    "output = MapReduce(RECORDREADER, MAP, REDUCE)\n",
    "output = list(output)\n",
    "output"
   ],
   "outputs": [
    {
     "data": {
      "text/plain": [
       "[(25, 370.0), (33, 800.0)]"
      ]
     },
     "execution_count": 16,
     "metadata": {},
     "output_type": "execute_result"
    }
   ],
   "execution_count": 16
  },
  {
   "cell_type": "markdown",
   "metadata": {
    "id": "kNKYIeerx0nY"
   },
   "source": [
    "## Matrix-Vector multiplication"
   ]
  },
  {
   "cell_type": "code",
   "metadata": {
    "colab": {
     "base_uri": "https://localhost:8080/",
     "height": 102
    },
    "id": "rwcntRcCyi1V",
    "outputId": "606737ab-6b55-455c-931f-4fc45155f8a9",
    "ExecuteTime": {
     "end_time": "2025-05-05T01:30:16.767201Z",
     "start_time": "2025-05-05T01:30:16.700678Z"
    }
   },
   "source": [
    "from typing import Iterator\n",
    "import numpy as np\n",
    "\n",
    "mat = np.ones((5,4))\n",
    "vec = np.random.rand(4) # in-memory vector in all map tasks\n",
    "\n",
    "def MAP(coordinates:(int, int), value:int):\n",
    "  i, j = coordinates\n",
    "  yield (i, value*vec[j])\n",
    "\n",
    "def REDUCE(i:int, products:Iterator[NamedTuple]):\n",
    "  sum = 0\n",
    "  for p in products:\n",
    "    sum += p\n",
    "  yield (i, sum)\n",
    "\n",
    "def RECORDREADER():\n",
    "  for i in range(mat.shape[0]):\n",
    "    for j in range(mat.shape[1]):\n",
    "      yield ((i, j), mat[i,j])\n",
    "\n",
    "output = MapReduce(RECORDREADER, MAP, REDUCE)\n",
    "output = list(output)\n",
    "output"
   ],
   "outputs": [
    {
     "data": {
      "text/plain": [
       "[(0, np.float64(2.8827674769292564)),\n",
       " (1, np.float64(2.8827674769292564)),\n",
       " (2, np.float64(2.8827674769292564)),\n",
       " (3, np.float64(2.8827674769292564)),\n",
       " (4, np.float64(2.8827674769292564))]"
      ]
     },
     "execution_count": 18,
     "metadata": {},
     "output_type": "execute_result"
    }
   ],
   "execution_count": 18
  },
  {
   "cell_type": "markdown",
   "metadata": {
    "id": "ruZREYdi2o4O"
   },
   "source": [
    "## Inverted index"
   ]
  },
  {
   "cell_type": "code",
   "metadata": {
    "colab": {
     "base_uri": "https://localhost:8080/",
     "height": 102
    },
    "id": "vt9H9Alf3TYv",
    "outputId": "51aeffc9-e111-4607-bd84-cfcc7b56f238",
    "ExecuteTime": {
     "end_time": "2025-05-05T01:30:19.035046Z",
     "start_time": "2025-05-05T01:30:19.028793Z"
    }
   },
   "source": [
    "from typing import Iterator\n",
    "\n",
    "d1 = \"it is what it is\"\n",
    "d2 = \"what is it\"\n",
    "d3 = \"it is a banana\"\n",
    "documents = [d1, d2, d3]\n",
    "\n",
    "def RECORDREADER():\n",
    "  for (docid, document) in enumerate(documents):\n",
    "    yield (\"{}\".format(docid), document)\n",
    "\n",
    "def MAP(docId:str, body:str):\n",
    "  for word in set(body.split(' ')):\n",
    "    yield (word, docId)\n",
    "\n",
    "def REDUCE(word:str, docIds:Iterator[str]):\n",
    "  yield (word, sorted(docIds))\n",
    "\n",
    "output = MapReduce(RECORDREADER, MAP, REDUCE)\n",
    "output = list(output)\n",
    "output"
   ],
   "outputs": [
    {
     "data": {
      "text/plain": [
       "[('is', ['0', '1', '2']),\n",
       " ('it', ['0', '1', '2']),\n",
       " ('what', ['0', '1']),\n",
       " ('a', ['2']),\n",
       " ('banana', ['2'])]"
      ]
     },
     "execution_count": 19,
     "metadata": {},
     "output_type": "execute_result"
    }
   ],
   "execution_count": 19
  },
  {
   "cell_type": "markdown",
   "metadata": {
    "id": "R7az-6DA6qr2"
   },
   "source": [
    "## WordCount"
   ]
  },
  {
   "cell_type": "code",
   "metadata": {
    "colab": {
     "base_uri": "https://localhost:8080/",
     "height": 34
    },
    "id": "dN-nbtgG6uYG",
    "outputId": "24117576-7931-401d-a581-28e246b23453",
    "ExecuteTime": {
     "end_time": "2025-05-05T01:30:21.556031Z",
     "start_time": "2025-05-05T01:30:21.549156Z"
    }
   },
   "source": [
    "from typing import Iterator\n",
    "\n",
    "d1 = \"\"\"\n",
    "it is what it is\n",
    "it is what it is\n",
    "it is what it is\"\"\"\n",
    "d2 = \"\"\"\n",
    "what is it\n",
    "what is it\"\"\"\n",
    "d3 = \"\"\"\n",
    "it is a banana\"\"\"\n",
    "documents = [d1, d2, d3]\n",
    "\n",
    "def RECORDREADER():\n",
    "  for (docid, document) in enumerate(documents):\n",
    "    for (lineid, line) in enumerate(document.split('\\n')):\n",
    "      yield (\"{}:{}\".format(docid,lineid), line)\n",
    "\n",
    "def MAP(docId:str, line:str):\n",
    "  for word in line.split(\" \"):\n",
    "    yield (word, 1)\n",
    "\n",
    "def REDUCE(word:str, counts:Iterator[int]):\n",
    "  sum = 0\n",
    "  for c in counts:\n",
    "    sum += c\n",
    "  yield (word, sum)\n",
    "\n",
    "output = MapReduce(RECORDREADER, MAP, REDUCE)\n",
    "output = list(output)\n",
    "output"
   ],
   "outputs": [
    {
     "data": {
      "text/plain": [
       "[('', 3), ('it', 9), ('is', 9), ('what', 5), ('a', 1), ('banana', 1)]"
      ]
     },
     "execution_count": 20,
     "metadata": {},
     "output_type": "execute_result"
    }
   ],
   "execution_count": 20
  },
  {
   "cell_type": "markdown",
   "metadata": {
    "id": "h-jRAcYCAkkk"
   },
   "source": [
    "# MapReduce Distributed\n",
    "\n",
    "Добавляется в модель фабрика RECORDREARER-ов --- INPUTFORMAT, функция распределения промежуточных результатов по партициям PARTITIONER, и функция COMBINER для частичной аггрегации промежуточных результатов до распределения по новым партициям."
   ]
  },
  {
   "cell_type": "code",
   "metadata": {
    "id": "nw-b-xJsApgW",
    "ExecuteTime": {
     "end_time": "2025-05-05T01:30:24.659772Z",
     "start_time": "2025-05-05T01:30:24.652361Z"
    }
   },
   "source": [
    "def flatten(nested_iterable):\n",
    "  for iterable in nested_iterable:\n",
    "    for element in iterable:\n",
    "      yield element\n",
    "\n",
    "def groupbykey(iterable):\n",
    "  t = {}\n",
    "  for (k2, v2) in iterable:\n",
    "    t[k2] = t.get(k2, []) + [v2]\n",
    "  return t.items()\n",
    "\n",
    "def groupbykey_distributed(map_partitions, PARTITIONER):\n",
    "  global reducers\n",
    "  partitions = [dict() for _ in range(reducers)]\n",
    "  for map_partition in map_partitions:\n",
    "    for (k2, v2) in map_partition:\n",
    "      p = partitions[PARTITIONER(k2)]\n",
    "      p[k2] = p.get(k2, []) + [v2]\n",
    "  return [(partition_id, sorted(partition.items(), key=lambda x: x[0])) for (partition_id, partition) in enumerate(partitions)]\n",
    "\n",
    "def PARTITIONER(obj):\n",
    "  global reducers\n",
    "  return hash(obj) % reducers\n",
    "\n",
    "def MapReduceDistributed(INPUTFORMAT, MAP, REDUCE, PARTITIONER=PARTITIONER, COMBINER=None):\n",
    "  map_partitions = map(lambda record_reader: flatten(map(lambda k1v1: MAP(*k1v1), record_reader)), INPUTFORMAT())\n",
    "  if COMBINER != None:\n",
    "    map_partitions = map(lambda map_partition: flatten(map(lambda k2v2: COMBINER(*k2v2), groupbykey(map_partition))), map_partitions)\n",
    "  reduce_partitions = groupbykey_distributed(map_partitions, PARTITIONER) # shuffle\n",
    "  reduce_outputs = map(lambda reduce_partition: (reduce_partition[0], flatten(map(lambda reduce_input_group: REDUCE(*reduce_input_group), reduce_partition[1]))), reduce_partitions)\n",
    "\n",
    "  print(\"{} key-value pairs were sent over a network.\".format(sum([len(vs) for (k,vs) in flatten([partition for (partition_id, partition) in reduce_partitions])])))\n",
    "  return reduce_outputs"
   ],
   "outputs": [],
   "execution_count": 21
  },
  {
   "cell_type": "markdown",
   "metadata": {
    "id": "kxirlf3XqZxY"
   },
   "source": [
    "## Спецификация MapReduce Distributed\n",
    "\n",
    "\n",
    "```\n",
    "f (k1, v1) -> (k2,v2)*\n",
    "g (k2, v2*) -> (k3,v3)*\n",
    "\n",
    "e1 (k1, v1)\n",
    "e2 (k2, v2)\n",
    "partition1 (k2, v2)*\n",
    "partition2 (k2, v2*)*\n",
    "\n",
    "flatmap (e1->e2*, e1*) -> partition1*\n",
    "groupby (partition1*) -> partition2*\n",
    "\n",
    "mapreduce ((k1,v1)*) -> (k3,v3)*\n",
    "mapreduce .flatmap(f).groupby(k2).flatmap(g)\n",
    "```\n",
    "\n"
   ]
  },
  {
   "cell_type": "markdown",
   "metadata": {
    "id": "CWYw_CpbbY3C"
   },
   "source": [
    "## WordCount"
   ]
  },
  {
   "cell_type": "code",
   "metadata": {
    "colab": {
     "base_uri": "https://localhost:8080/"
    },
    "id": "uR_zfGFkMZlp",
    "outputId": "65723f27-efbd-4fc3-b591-4c3176c3d1c6",
    "ExecuteTime": {
     "end_time": "2025-05-05T01:30:28.600346Z",
     "start_time": "2025-05-05T01:30:28.592417Z"
    }
   },
   "source": [
    "from typing import Iterator\n",
    "import numpy as np\n",
    "\n",
    "d1 = \"\"\"\n",
    "it is what it is\n",
    "it is what it is\n",
    "it is what it is\"\"\"\n",
    "d2 = \"\"\"\n",
    "what is it\n",
    "what is it\"\"\"\n",
    "d3 = \"\"\"\n",
    "it is a banana\"\"\"\n",
    "documents = [d1, d2, d3, d1, d2, d3]\n",
    "\n",
    "maps = 3\n",
    "reducers = 2\n",
    "\n",
    "def INPUTFORMAT():\n",
    "  global maps\n",
    "\n",
    "  def RECORDREADER(split):\n",
    "    for (docid, document) in enumerate(split):\n",
    "      for (lineid, line) in enumerate(document.split('\\n')):\n",
    "        yield (\"{}:{}\".format(docid,lineid), line)\n",
    "\n",
    "  split_size =  int(np.ceil(len(documents)/maps))\n",
    "  for i in range(0, len(documents), split_size):\n",
    "    yield RECORDREADER(documents[i:i+split_size])\n",
    "\n",
    "def MAP(docId:str, line:str):\n",
    "  for word in line.split(\" \"):\n",
    "    yield (word, 1)\n",
    "\n",
    "def REDUCE(word:str, counts:Iterator[int]):\n",
    "  sum = 0\n",
    "  for c in counts:\n",
    "    sum += c\n",
    "  yield (word, sum)\n",
    "\n",
    "# try to set COMBINER=REDUCER and look at the number of values sent over the network\n",
    "partitioned_output = MapReduceDistributed(INPUTFORMAT, MAP, REDUCE, COMBINER=None)\n",
    "partitioned_output = [(partition_id, list(partition)) for (partition_id, partition) in partitioned_output]\n",
    "partitioned_output"
   ],
   "outputs": [
    {
     "name": "stdout",
     "output_type": "stream",
     "text": [
      "56 key-value pairs were sent over a network.\n"
     ]
    },
    {
     "data": {
      "text/plain": [
       "[(0, [('', 6), ('a', 2), ('banana', 2), ('it', 18)]),\n",
       " (1, [('is', 18), ('what', 10)])]"
      ]
     },
     "execution_count": 22,
     "metadata": {},
     "output_type": "execute_result"
    }
   ],
   "execution_count": 22
  },
  {
   "cell_type": "markdown",
   "metadata": {
    "id": "gCJGx8IQ87xS"
   },
   "source": [
    "## TeraSort"
   ]
  },
  {
   "cell_type": "code",
   "metadata": {
    "colab": {
     "base_uri": "https://localhost:8080/"
    },
    "id": "P2v8v1v_8_YR",
    "outputId": "b07ef4e6-a45e-474c-8e41-1ce846274d6d",
    "ExecuteTime": {
     "end_time": "2025-05-05T01:30:30.870Z",
     "start_time": "2025-05-05T01:30:30.861889Z"
    }
   },
   "source": [
    "import numpy as np\n",
    "\n",
    "input_values = np.random.rand(30)\n",
    "maps = 3\n",
    "reducers = 2\n",
    "min_value = 0.0\n",
    "max_value = 1.0\n",
    "\n",
    "def INPUTFORMAT():\n",
    "  global maps\n",
    "\n",
    "  def RECORDREADER(split):\n",
    "    for value in split:\n",
    "        yield (value, None)\n",
    "\n",
    "  split_size =  int(np.ceil(len(input_values)/maps))\n",
    "  for i in range(0, len(input_values), split_size):\n",
    "    yield RECORDREADER(input_values[i:i+split_size])\n",
    "\n",
    "def MAP(value:int, _):\n",
    "  yield (value, None)\n",
    "\n",
    "def PARTITIONER(key):\n",
    "  global reducers\n",
    "  global max_value\n",
    "  global min_value\n",
    "  bucket_size = (max_value-min_value)/reducers\n",
    "  bucket_id = 0\n",
    "  while((key>(bucket_id+1)*bucket_size) and ((bucket_id+1)*bucket_size<max_value)):\n",
    "    bucket_id += 1\n",
    "  return bucket_id\n",
    "\n",
    "def REDUCE(value:int, _):\n",
    "  yield (None,value)\n",
    "\n",
    "partitioned_output = MapReduceDistributed(INPUTFORMAT, MAP, REDUCE, COMBINER=None, PARTITIONER=PARTITIONER)\n",
    "partitioned_output = [(partition_id, list(partition)) for (partition_id, partition) in partitioned_output]\n",
    "partitioned_output"
   ],
   "outputs": [
    {
     "name": "stdout",
     "output_type": "stream",
     "text": [
      "30 key-value pairs were sent over a network.\n"
     ]
    },
    {
     "data": {
      "text/plain": [
       "[(0,\n",
       "  [(None, np.float64(0.01626737295636882)),\n",
       "   (None, np.float64(0.11585406591169478)),\n",
       "   (None, np.float64(0.1214420142843402)),\n",
       "   (None, np.float64(0.12423770335568696)),\n",
       "   (None, np.float64(0.1595890493536578)),\n",
       "   (None, np.float64(0.1832002568741088)),\n",
       "   (None, np.float64(0.18528468537618947)),\n",
       "   (None, np.float64(0.2545452923463809)),\n",
       "   (None, np.float64(0.26859711813658516)),\n",
       "   (None, np.float64(0.2932575019461674)),\n",
       "   (None, np.float64(0.37570038690844043)),\n",
       "   (None, np.float64(0.40166135684573645)),\n",
       "   (None, np.float64(0.4088492614534345)),\n",
       "   (None, np.float64(0.4150344463353276)),\n",
       "   (None, np.float64(0.43027865633404916)),\n",
       "   (None, np.float64(0.45740574047458615)),\n",
       "   (None, np.float64(0.47605108037017485))]),\n",
       " (1,\n",
       "  [(None, np.float64(0.5328303073184525)),\n",
       "   (None, np.float64(0.5483587043181393)),\n",
       "   (None, np.float64(0.6015531968276581)),\n",
       "   (None, np.float64(0.6210457981873215)),\n",
       "   (None, np.float64(0.6721195145558766)),\n",
       "   (None, np.float64(0.7041911818908942)),\n",
       "   (None, np.float64(0.711671205065772)),\n",
       "   (None, np.float64(0.7473623768632469)),\n",
       "   (None, np.float64(0.8039576084435416)),\n",
       "   (None, np.float64(0.8368626011521691)),\n",
       "   (None, np.float64(0.8922975739524209)),\n",
       "   (None, np.float64(0.918711318895409)),\n",
       "   (None, np.float64(0.9498495106231974))])]"
      ]
     },
     "execution_count": 23,
     "metadata": {},
     "output_type": "execute_result"
    }
   ],
   "execution_count": 23
  },
  {
   "cell_type": "code",
   "metadata": {
    "id": "MQhoJaVZI93G",
    "ExecuteTime": {
     "end_time": "2025-05-05T01:31:42.027299Z",
     "start_time": "2025-05-05T01:31:42.025221Z"
    }
   },
   "source": [],
   "outputs": [],
   "execution_count": null
  },
  {
   "cell_type": "markdown",
   "metadata": {
    "id": "Iy65YJTH99iT"
   },
   "source": [
    "# Упражнения\n",
    "Упражнения взяты из Rajaraman A., Ullman J. D. Mining of massive datasets. – Cambridge University Press, 2011.\n",
    "\n",
    "\n",
    "Для выполнения заданий переопределите функции RECORDREADER, MAP, REDUCE. Для модели распределённой системы может потребоваться переопределение функций PARTITION и COMBINER."
   ]
  },
  {
   "cell_type": "markdown",
   "metadata": {
    "id": "cfvAeZm3S8S8"
   },
   "source": [
    "### Максимальное значение ряда\n",
    "\n",
    "Разработайте MapReduce алгоритм, который находит максимальное число входного списка чисел."
   ]
  },
  {
   "cell_type": "code",
   "metadata": {
    "colab": {
     "base_uri": "https://localhost:8080/"
    },
    "id": "3GRA1JR-Tkbg",
    "outputId": "30743fcb-fc5b-4720-dacd-e36476bcc0a4",
    "ExecuteTime": {
     "end_time": "2025-05-05T01:31:45.734332Z",
     "start_time": "2025-05-05T01:31:45.729365Z"
    }
   },
   "source": [
    "import random\n",
    "\n",
    "def MAP(num_list):\n",
    "    return max(num_list)\n",
    "\n",
    "\n",
    "def REDUCE(num_list):\n",
    "    return max(num_list)\n",
    "\n",
    "\n",
    "def RECORDREADER(count):\n",
    "    return [random.randint(0, 100) for i in range(count)]\n",
    "\n",
    "\n",
    "record = RECORDREADER(100)\n",
    "print(record)\n",
    "\n",
    "part_count = 5\n",
    "record_partitional = [record[d:d + part_count] for d in range(0, len(record), part_count)]\n",
    "print(record_partitional)\n",
    "\n",
    "print(REDUCE(list(map(lambda x: MAP(x), record_partitional))))"
   ],
   "outputs": [
    {
     "name": "stdout",
     "output_type": "stream",
     "text": [
      "[25, 91, 37, 0, 35, 20, 26, 75, 30, 38, 91, 27, 56, 56, 71, 41, 81, 9, 49, 62, 50, 73, 60, 46, 94, 53, 18, 87, 28, 47, 63, 27, 7, 17, 24, 100, 28, 96, 18, 69, 19, 31, 50, 1, 76, 66, 11, 41, 26, 77, 21, 50, 63, 98, 80, 89, 52, 95, 90, 51, 15, 55, 59, 33, 26, 56, 64, 76, 4, 41, 16, 98, 3, 85, 30, 47, 93, 64, 2, 97, 43, 52, 23, 54, 14, 26, 74, 74, 62, 51, 78, 81, 27, 63, 2, 18, 33, 81, 79, 82]\n",
      "[[25, 91, 37, 0, 35], [20, 26, 75, 30, 38], [91, 27, 56, 56, 71], [41, 81, 9, 49, 62], [50, 73, 60, 46, 94], [53, 18, 87, 28, 47], [63, 27, 7, 17, 24], [100, 28, 96, 18, 69], [19, 31, 50, 1, 76], [66, 11, 41, 26, 77], [21, 50, 63, 98, 80], [89, 52, 95, 90, 51], [15, 55, 59, 33, 26], [56, 64, 76, 4, 41], [16, 98, 3, 85, 30], [47, 93, 64, 2, 97], [43, 52, 23, 54, 14], [26, 74, 74, 62, 51], [78, 81, 27, 63, 2], [18, 33, 81, 79, 82]]\n",
      "100\n"
     ]
    }
   ],
   "execution_count": 24
  },
  {
   "cell_type": "markdown",
   "metadata": {
    "id": "k86bXnqZTk-U"
   },
   "source": [
    "### Арифметическое среднее\n",
    "\n",
    "Разработайте MapReduce алгоритм, который находит арифметическое среднее.\n",
    "\n",
    "$$\\overline{X} = \\frac{1}{n}\\sum_{i=0}^{n} x_i$$\n"
   ]
  },
  {
   "cell_type": "code",
   "metadata": {
    "colab": {
     "base_uri": "https://localhost:8080/"
    },
    "id": "MPoY5pkfUNZf",
    "outputId": "11f6aec6-3457-4ffc-c122-bdf3dcf22f24",
    "ExecuteTime": {
     "end_time": "2025-05-05T01:31:48.020225Z",
     "start_time": "2025-05-05T01:31:48.014342Z"
    }
   },
   "source": [
    "def MAP(num):\n",
    "    return (1, num)\n",
    "\n",
    "\n",
    "def REDUCE(key, nums: Iterator[NamedTuple]):\n",
    "    sum = 0\n",
    "    count = 0\n",
    "    for n in nums:\n",
    "        sum += n\n",
    "        count += 1\n",
    "    yield sum / count\n",
    "\n",
    "\n",
    "def RECORDREADER(count):\n",
    "    return [random.randint(0, 100) for i in range(count)]\n",
    "\n",
    "\n",
    "map_output = list(map(lambda x: MAP(x), RECORDREADER(100)))\n",
    "print(map_output)\n",
    "\n",
    "shuffle_output = groupbykey(map_output)\n",
    "shuffle_output = list(shuffle_output)\n",
    "\n",
    "print(shuffle_output)\n",
    "\n",
    "reduce_output = list(flatten(map(lambda x: REDUCE(*x), shuffle_output)))\n",
    "print(reduce_output)"
   ],
   "outputs": [
    {
     "name": "stdout",
     "output_type": "stream",
     "text": [
      "[(1, 44), (1, 76), (1, 49), (1, 83), (1, 73), (1, 79), (1, 15), (1, 83), (1, 86), (1, 41), (1, 80), (1, 45), (1, 16), (1, 1), (1, 40), (1, 23), (1, 36), (1, 64), (1, 82), (1, 41), (1, 39), (1, 89), (1, 86), (1, 95), (1, 92), (1, 80), (1, 4), (1, 18), (1, 73), (1, 69), (1, 42), (1, 93), (1, 1), (1, 23), (1, 18), (1, 55), (1, 91), (1, 37), (1, 23), (1, 35), (1, 82), (1, 16), (1, 63), (1, 25), (1, 15), (1, 92), (1, 0), (1, 3), (1, 27), (1, 82), (1, 31), (1, 71), (1, 15), (1, 46), (1, 69), (1, 27), (1, 86), (1, 39), (1, 54), (1, 23), (1, 13), (1, 61), (1, 68), (1, 54), (1, 23), (1, 22), (1, 22), (1, 77), (1, 97), (1, 48), (1, 82), (1, 96), (1, 33), (1, 3), (1, 4), (1, 8), (1, 96), (1, 0), (1, 69), (1, 97), (1, 61), (1, 15), (1, 70), (1, 67), (1, 66), (1, 14), (1, 75), (1, 38), (1, 21), (1, 10), (1, 12), (1, 11), (1, 66), (1, 91), (1, 14), (1, 71), (1, 9), (1, 75), (1, 25), (1, 39)]\n",
      "[(1, [44, 76, 49, 83, 73, 79, 15, 83, 86, 41, 80, 45, 16, 1, 40, 23, 36, 64, 82, 41, 39, 89, 86, 95, 92, 80, 4, 18, 73, 69, 42, 93, 1, 23, 18, 55, 91, 37, 23, 35, 82, 16, 63, 25, 15, 92, 0, 3, 27, 82, 31, 71, 15, 46, 69, 27, 86, 39, 54, 23, 13, 61, 68, 54, 23, 22, 22, 77, 97, 48, 82, 96, 33, 3, 4, 8, 96, 0, 69, 97, 61, 15, 70, 67, 66, 14, 75, 38, 21, 10, 12, 11, 66, 91, 14, 71, 9, 75, 25, 39])]\n",
      "[48.09]\n"
     ]
    }
   ],
   "execution_count": 25
  },
  {
   "cell_type": "markdown",
   "metadata": {
    "id": "xanzszhsIlLe"
   },
   "source": [
    "### GroupByKey на основе сортировки\n",
    "\n",
    "Реализуйте groupByKey на основе сортировки, проверьте его работу на примерах"
   ]
  },
  {
   "cell_type": "code",
   "metadata": {
    "colab": {
     "base_uri": "https://localhost:8080/"
    },
    "id": "hQPn3USsIkEC",
    "outputId": "cbc1f6c3-9d46-48c8-b975-e38931b8756f",
    "ExecuteTime": {
     "end_time": "2025-05-05T01:31:50.763788Z",
     "start_time": "2025-05-05T01:31:50.756193Z"
    }
   },
   "source": [
    "def group_by_key(iterable):\n",
    "    sorted_data = sorted(iterable, key=lambda x: x[0])\n",
    "    grouped_data = {}\n",
    "    for key, value in sorted_data:\n",
    "        if key not in grouped_data:\n",
    "            grouped_data[key] = [value]\n",
    "        else:\n",
    "            grouped_data[key].append(value)\n",
    "    result = []\n",
    "    for key, value in grouped_data.items():\n",
    "        result.append((key, value))\n",
    "    return result\n",
    "\n",
    "def MAP(num):\n",
    "    return (1, num)\n",
    "\n",
    "\n",
    "def REDUCE(key, nums: Iterator[NamedTuple]):\n",
    "    sum = 0\n",
    "    count = 0\n",
    "    for n in nums:\n",
    "        sum += n\n",
    "        count += 1\n",
    "    yield sum / count\n",
    "\n",
    "\n",
    "def RECORDREADER(count):\n",
    "    return [random.randint(0, 100) for i in range(count)]\n",
    "\n",
    "map_output = list(map(lambda x: MAP(x), RECORDREADER(100)))\n",
    "print(map_output)\n",
    "\n",
    "shuffle_output = group_by_key(map_output)\n",
    "shuffle_output = list(shuffle_output)\n",
    "\n",
    "print(shuffle_output)\n",
    "\n",
    "reduce_output = list(flatten(map(lambda x: REDUCE(*x), shuffle_output)))\n",
    "print(reduce_output)"
   ],
   "outputs": [
    {
     "name": "stdout",
     "output_type": "stream",
     "text": [
      "[(1, 84), (1, 96), (1, 30), (1, 59), (1, 60), (1, 49), (1, 79), (1, 86), (1, 20), (1, 99), (1, 23), (1, 31), (1, 73), (1, 51), (1, 64), (1, 55), (1, 66), (1, 53), (1, 77), (1, 22), (1, 35), (1, 15), (1, 54), (1, 40), (1, 36), (1, 50), (1, 87), (1, 68), (1, 61), (1, 62), (1, 70), (1, 83), (1, 93), (1, 43), (1, 66), (1, 23), (1, 64), (1, 1), (1, 2), (1, 71), (1, 3), (1, 17), (1, 89), (1, 12), (1, 100), (1, 76), (1, 76), (1, 68), (1, 18), (1, 35), (1, 20), (1, 69), (1, 47), (1, 89), (1, 74), (1, 54), (1, 85), (1, 6), (1, 32), (1, 54), (1, 22), (1, 49), (1, 75), (1, 70), (1, 1), (1, 12), (1, 40), (1, 100), (1, 52), (1, 3), (1, 70), (1, 46), (1, 60), (1, 16), (1, 51), (1, 58), (1, 36), (1, 62), (1, 90), (1, 61), (1, 98), (1, 93), (1, 86), (1, 36), (1, 20), (1, 82), (1, 36), (1, 20), (1, 71), (1, 85), (1, 90), (1, 6), (1, 18), (1, 75), (1, 91), (1, 6), (1, 15), (1, 20), (1, 0), (1, 70)]\n",
      "[(1, [84, 96, 30, 59, 60, 49, 79, 86, 20, 99, 23, 31, 73, 51, 64, 55, 66, 53, 77, 22, 35, 15, 54, 40, 36, 50, 87, 68, 61, 62, 70, 83, 93, 43, 66, 23, 64, 1, 2, 71, 3, 17, 89, 12, 100, 76, 76, 68, 18, 35, 20, 69, 47, 89, 74, 54, 85, 6, 32, 54, 22, 49, 75, 70, 1, 12, 40, 100, 52, 3, 70, 46, 60, 16, 51, 58, 36, 62, 90, 61, 98, 93, 86, 36, 20, 82, 36, 20, 71, 85, 90, 6, 18, 75, 91, 6, 15, 20, 0, 70])]\n",
      "[52.17]\n"
     ]
    }
   ],
   "execution_count": 26
  },
  {
   "cell_type": "markdown",
   "metadata": {
    "id": "5SgEjCZyGnu6"
   },
   "source": [
    "### Drop duplicates (set construction, unique elements, distinct)\n",
    "\n",
    "Реализуйте распределённую операцию исключения дубликатов"
   ]
  },
  {
   "cell_type": "code",
   "metadata": {
    "colab": {
     "base_uri": "https://localhost:8080/"
    },
    "id": "okjbyApjGhMt",
    "outputId": "c6bf50c1-0142-4f88-d95c-3a2605bbedee",
    "ExecuteTime": {
     "end_time": "2025-05-05T01:31:53.011078Z",
     "start_time": "2025-05-05T01:31:52.997695Z"
    }
   },
   "source": [
    "def flatten(nested_iterable):\n",
    "  for iterable in nested_iterable:\n",
    "    for element in iterable:\n",
    "      yield element\n",
    "\n",
    "def groupbykey(iterable):\n",
    "  t = {}\n",
    "  for (k2, v2) in iterable:\n",
    "    t[k2] = t.get(k2, []) + [v2]\n",
    "  return t.items()\n",
    "\n",
    "def groupbykey_distributed(map_partitions, PARTITIONER):\n",
    "  global reducers\n",
    "  partitions = [dict() for _ in range(reducers)]\n",
    "  for map_partition in map_partitions:\n",
    "    for (k2, v2) in map_partition:\n",
    "      p = partitions[PARTITIONER(k2)]\n",
    "      p[k2] = p.get(k2, []) + [v2]\n",
    "  return [(partition_id, sorted(partition.items(), key=lambda x: x[0])) for (partition_id, partition) in enumerate(partitions)]\n",
    "\n",
    "def PARTITIONER(obj):\n",
    "  global reducers\n",
    "  return hash(obj) % reducers\n",
    "\n",
    "def MapReduceDistributed(INPUTFORMAT, MAP, REDUCE, PARTITIONER=PARTITIONER, COMBINER=None):\n",
    "  map_partitions = map(lambda record_reader: flatten(map(lambda k1v1: MAP(*k1v1), record_reader)), INPUTFORMAT())\n",
    "  if COMBINER != None:\n",
    "    map_partitions = map(lambda map_partition: flatten(map(lambda k2v2: COMBINER(*k2v2), groupbykey(map_partition))), map_partitions)\n",
    "  reduce_partitions = groupbykey_distributed(map_partitions, PARTITIONER) # shuffle\n",
    "  reduce_outputs = map(lambda reduce_partition: (reduce_partition[0], flatten(map(lambda reduce_input_group: REDUCE(*reduce_input_group), reduce_partition[1]))), reduce_partitions)\n",
    "\n",
    "  print(\"{} key-value pairs were sent over a network.\".format(sum([len(vs) for (k,vs) in flatten([partition for (partition_id, partition) in reduce_partitions])])))\n",
    "  return reduce_outputs\n",
    "\n",
    "\n",
    "# ===================================================================================================================================================================================\n",
    "\n",
    "from typing import Iterator\n",
    "import numpy as np\n",
    "\n",
    "d1 = \"\"\"\n",
    "it is what it is\n",
    "it is what it is\n",
    "it is what it is\"\"\"\n",
    "d2 = \"\"\"\n",
    "what is it\n",
    "what is it\"\"\"\n",
    "d3 = \"\"\"\n",
    "it is a banana\"\"\"\n",
    "documents = [d1, d2, d3, d1, d2, d3]\n",
    "\n",
    "maps = 3\n",
    "reducers = 2\n",
    "\n",
    "def INPUTFORMAT():\n",
    "  global maps\n",
    "\n",
    "  def RECORDREADER(split):\n",
    "    for (docid, document) in enumerate(split):\n",
    "      for (lineid, line) in enumerate(document.split('\\n')):\n",
    "        yield (\"{}:{}\".format(docid,lineid), line)\n",
    "\n",
    "  split_size =  int(np.ceil(len(documents)/maps))\n",
    "  for i in range(0, len(documents), split_size):\n",
    "    yield RECORDREADER(documents[i:i+split_size])\n",
    "\n",
    "def MAP(docId:str, line:str):\n",
    "  for word in line.split(\" \"):\n",
    "    yield (word, word)\n",
    "\n",
    "def REDUCE(key:str, value:Iterator[str]):\n",
    "  yield key\n",
    "\n",
    "# try to set COMBINER=REDUCER and look at the number of values sent over the network\n",
    "partitioned_output = MapReduceDistributed(INPUTFORMAT, MAP, REDUCE, COMBINER=None)\n",
    "partitioned_output = [(partition_id, list(partition)) for (partition_id, partition) in partitioned_output]\n",
    "partitioned_output"
   ],
   "outputs": [
    {
     "name": "stdout",
     "output_type": "stream",
     "text": [
      "56 key-value pairs were sent over a network.\n"
     ]
    },
    {
     "data": {
      "text/plain": [
       "[(0, ['', 'a', 'banana', 'it']), (1, ['is', 'what'])]"
      ]
     },
     "execution_count": 27,
     "metadata": {},
     "output_type": "execute_result"
    }
   ],
   "execution_count": 27
  },
  {
   "cell_type": "markdown",
   "metadata": {
    "id": "e7sRGoTXuJze"
   },
   "source": [
    "#Операторы реляционной алгебры\n",
    "### Selection (Выборка)\n",
    "\n",
    "**The Map Function**: Для  каждого кортежа $t \\in R$ вычисляется истинность предиката $C$. В случае истины создаётся пара ключ-значение $(t, t)$. В паре ключ и значение одинаковы, равны $t$.\n",
    "\n",
    "**The Reduce Function:** Роль функции Reduce выполняет функция идентичности, которая возвращает то же значение, что получила на вход.\n",
    "\n"
   ]
  },
  {
   "cell_type": "code",
   "metadata": {
    "colab": {
     "base_uri": "https://localhost:8080/"
    },
    "id": "4nKIKe59uIfc",
    "outputId": "981ed60e-028a-453e-8498-643cfe288b55",
    "ExecuteTime": {
     "end_time": "2025-05-05T01:31:57.631240Z",
     "start_time": "2025-05-05T01:31:57.624867Z"
    }
   },
   "source": [
    "from collections import defaultdict\n",
    "\n",
    "def MAP(el_list):\n",
    "    mapped_result = defaultdict(list)\n",
    "    for t in el_list:\n",
    "        if C(t):  # Предикат C\n",
    "            mapped_result[t].append(t)\n",
    "    return mapped_result.items()\n",
    "\n",
    "\n",
    "def REDUCE(mapped_items):\n",
    "    reduced_result = []\n",
    "    print(mapped_items)\n",
    "    for values in mapped_items:\n",
    "        for value in values:\n",
    "            reduced_result.append(value[0])\n",
    "    return reduced_result\n",
    "\n",
    "def C(t):\n",
    "    return t[0] % 2 == 0  # Выбираем только кортежи с четным первым элементом\n",
    "\n",
    "\n",
    "def RECORDREADER(count):\n",
    "    return [(random.randint(0, 100), random.randint(0, 100), random.randint(0, 100)) for i in range(count)]\n",
    "\n",
    "record = RECORDREADER(100)\n",
    "print(record)\n",
    "\n",
    "part_count = 5\n",
    "record_partitional = [record[d:d + part_count] for d in range(0, len(record), part_count)]\n",
    "print(record_partitional)\n",
    "\n",
    "print(REDUCE(list(map(lambda x: MAP(x), record_partitional))))"
   ],
   "outputs": [
    {
     "name": "stdout",
     "output_type": "stream",
     "text": [
      "[(85, 5, 86), (99, 52, 85), (20, 17, 41), (3, 15, 92), (7, 88, 22), (48, 95, 14), (30, 88, 81), (97, 91, 26), (62, 14, 73), (43, 38, 80), (88, 66, 13), (94, 62, 47), (0, 37, 47), (71, 98, 13), (91, 93, 67), (8, 19, 2), (46, 33, 91), (88, 28, 24), (0, 43, 66), (93, 74, 36), (84, 42, 96), (96, 60, 85), (94, 58, 54), (7, 1, 64), (52, 37, 75), (3, 1, 4), (7, 71, 50), (80, 71, 46), (66, 25, 76), (78, 92, 70), (82, 23, 87), (92, 81, 10), (86, 26, 13), (81, 5, 37), (7, 14, 99), (53, 11, 57), (90, 36, 18), (82, 28, 94), (43, 12, 60), (8, 41, 14), (94, 80, 10), (27, 4, 97), (76, 48, 65), (12, 0, 94), (70, 75, 45), (28, 65, 57), (76, 10, 39), (43, 90, 93), (94, 16, 83), (60, 44, 25), (63, 81, 61), (25, 64, 6), (10, 38, 44), (90, 76, 29), (0, 41, 22), (0, 85, 47), (52, 73, 57), (89, 80, 76), (64, 14, 0), (58, 5, 42), (82, 55, 0), (25, 29, 54), (73, 76, 44), (73, 74, 5), (23, 62, 68), (91, 100, 34), (38, 89, 15), (80, 85, 78), (10, 86, 84), (71, 19, 42), (39, 78, 44), (64, 71, 3), (77, 88, 17), (41, 62, 61), (25, 84, 78), (73, 74, 31), (66, 31, 8), (5, 94, 56), (49, 59, 15), (79, 12, 33), (8, 37, 60), (39, 74, 63), (91, 51, 98), (23, 47, 28), (68, 91, 48), (98, 87, 73), (43, 100, 75), (51, 12, 56), (68, 97, 76), (60, 55, 88), (66, 31, 37), (37, 3, 18), (67, 61, 61), (90, 65, 66), (99, 54, 11), (41, 82, 4), (8, 4, 17), (54, 15, 14), (42, 53, 29), (95, 4, 56)]\n",
      "[[(85, 5, 86), (99, 52, 85), (20, 17, 41), (3, 15, 92), (7, 88, 22)], [(48, 95, 14), (30, 88, 81), (97, 91, 26), (62, 14, 73), (43, 38, 80)], [(88, 66, 13), (94, 62, 47), (0, 37, 47), (71, 98, 13), (91, 93, 67)], [(8, 19, 2), (46, 33, 91), (88, 28, 24), (0, 43, 66), (93, 74, 36)], [(84, 42, 96), (96, 60, 85), (94, 58, 54), (7, 1, 64), (52, 37, 75)], [(3, 1, 4), (7, 71, 50), (80, 71, 46), (66, 25, 76), (78, 92, 70)], [(82, 23, 87), (92, 81, 10), (86, 26, 13), (81, 5, 37), (7, 14, 99)], [(53, 11, 57), (90, 36, 18), (82, 28, 94), (43, 12, 60), (8, 41, 14)], [(94, 80, 10), (27, 4, 97), (76, 48, 65), (12, 0, 94), (70, 75, 45)], [(28, 65, 57), (76, 10, 39), (43, 90, 93), (94, 16, 83), (60, 44, 25)], [(63, 81, 61), (25, 64, 6), (10, 38, 44), (90, 76, 29), (0, 41, 22)], [(0, 85, 47), (52, 73, 57), (89, 80, 76), (64, 14, 0), (58, 5, 42)], [(82, 55, 0), (25, 29, 54), (73, 76, 44), (73, 74, 5), (23, 62, 68)], [(91, 100, 34), (38, 89, 15), (80, 85, 78), (10, 86, 84), (71, 19, 42)], [(39, 78, 44), (64, 71, 3), (77, 88, 17), (41, 62, 61), (25, 84, 78)], [(73, 74, 31), (66, 31, 8), (5, 94, 56), (49, 59, 15), (79, 12, 33)], [(8, 37, 60), (39, 74, 63), (91, 51, 98), (23, 47, 28), (68, 91, 48)], [(98, 87, 73), (43, 100, 75), (51, 12, 56), (68, 97, 76), (60, 55, 88)], [(66, 31, 37), (37, 3, 18), (67, 61, 61), (90, 65, 66), (99, 54, 11)], [(41, 82, 4), (8, 4, 17), (54, 15, 14), (42, 53, 29), (95, 4, 56)]]\n",
      "[dict_items([((20, 17, 41), [(20, 17, 41)])]), dict_items([((48, 95, 14), [(48, 95, 14)]), ((30, 88, 81), [(30, 88, 81)]), ((62, 14, 73), [(62, 14, 73)])]), dict_items([((88, 66, 13), [(88, 66, 13)]), ((94, 62, 47), [(94, 62, 47)]), ((0, 37, 47), [(0, 37, 47)])]), dict_items([((8, 19, 2), [(8, 19, 2)]), ((46, 33, 91), [(46, 33, 91)]), ((88, 28, 24), [(88, 28, 24)]), ((0, 43, 66), [(0, 43, 66)])]), dict_items([((84, 42, 96), [(84, 42, 96)]), ((96, 60, 85), [(96, 60, 85)]), ((94, 58, 54), [(94, 58, 54)]), ((52, 37, 75), [(52, 37, 75)])]), dict_items([((80, 71, 46), [(80, 71, 46)]), ((66, 25, 76), [(66, 25, 76)]), ((78, 92, 70), [(78, 92, 70)])]), dict_items([((82, 23, 87), [(82, 23, 87)]), ((92, 81, 10), [(92, 81, 10)]), ((86, 26, 13), [(86, 26, 13)])]), dict_items([((90, 36, 18), [(90, 36, 18)]), ((82, 28, 94), [(82, 28, 94)]), ((8, 41, 14), [(8, 41, 14)])]), dict_items([((94, 80, 10), [(94, 80, 10)]), ((76, 48, 65), [(76, 48, 65)]), ((12, 0, 94), [(12, 0, 94)]), ((70, 75, 45), [(70, 75, 45)])]), dict_items([((28, 65, 57), [(28, 65, 57)]), ((76, 10, 39), [(76, 10, 39)]), ((94, 16, 83), [(94, 16, 83)]), ((60, 44, 25), [(60, 44, 25)])]), dict_items([((10, 38, 44), [(10, 38, 44)]), ((90, 76, 29), [(90, 76, 29)]), ((0, 41, 22), [(0, 41, 22)])]), dict_items([((0, 85, 47), [(0, 85, 47)]), ((52, 73, 57), [(52, 73, 57)]), ((64, 14, 0), [(64, 14, 0)]), ((58, 5, 42), [(58, 5, 42)])]), dict_items([((82, 55, 0), [(82, 55, 0)])]), dict_items([((38, 89, 15), [(38, 89, 15)]), ((80, 85, 78), [(80, 85, 78)]), ((10, 86, 84), [(10, 86, 84)])]), dict_items([((64, 71, 3), [(64, 71, 3)])]), dict_items([((66, 31, 8), [(66, 31, 8)])]), dict_items([((8, 37, 60), [(8, 37, 60)]), ((68, 91, 48), [(68, 91, 48)])]), dict_items([((98, 87, 73), [(98, 87, 73)]), ((68, 97, 76), [(68, 97, 76)]), ((60, 55, 88), [(60, 55, 88)])]), dict_items([((66, 31, 37), [(66, 31, 37)]), ((90, 65, 66), [(90, 65, 66)])]), dict_items([((8, 4, 17), [(8, 4, 17)]), ((54, 15, 14), [(54, 15, 14)]), ((42, 53, 29), [(42, 53, 29)])])]\n",
      "[(20, 17, 41), (48, 95, 14), (30, 88, 81), (62, 14, 73), (88, 66, 13), (94, 62, 47), (0, 37, 47), (8, 19, 2), (46, 33, 91), (88, 28, 24), (0, 43, 66), (84, 42, 96), (96, 60, 85), (94, 58, 54), (52, 37, 75), (80, 71, 46), (66, 25, 76), (78, 92, 70), (82, 23, 87), (92, 81, 10), (86, 26, 13), (90, 36, 18), (82, 28, 94), (8, 41, 14), (94, 80, 10), (76, 48, 65), (12, 0, 94), (70, 75, 45), (28, 65, 57), (76, 10, 39), (94, 16, 83), (60, 44, 25), (10, 38, 44), (90, 76, 29), (0, 41, 22), (0, 85, 47), (52, 73, 57), (64, 14, 0), (58, 5, 42), (82, 55, 0), (38, 89, 15), (80, 85, 78), (10, 86, 84), (64, 71, 3), (66, 31, 8), (8, 37, 60), (68, 91, 48), (98, 87, 73), (68, 97, 76), (60, 55, 88), (66, 31, 37), (90, 65, 66), (8, 4, 17), (54, 15, 14), (42, 53, 29)]\n"
     ]
    }
   ],
   "execution_count": 28
  },
  {
   "cell_type": "markdown",
   "metadata": {
    "id": "w27Ca-_Ku85V"
   },
   "source": [
    "### Projection (Проекция)\n",
    "\n",
    "Проекция на множество атрибутов $S$.\n",
    "\n",
    "**The Map Function:** Для каждого кортежа $t \\in R$ создайте кортеж $t′$, исключая  из $t$ те значения, атрибуты которых не принадлежат  $S$. Верните пару $(t′, t′)$.\n",
    "\n",
    "**The Reduce Function:** Для каждого ключа $t′$, созданного любой Map задачей, вы получаете одну или несколько пар $(t′, t′)$. Reduce функция преобразует $(t′, [t′, t′, . . . , t′])$ в $(t′, t′)$, так, что для ключа $t′$ возвращается одна пара  $(t′, t′)$."
   ]
  },
  {
   "cell_type": "code",
   "metadata": {
    "colab": {
     "base_uri": "https://localhost:8080/"
    },
    "id": "BEvuY4GqvhS6",
    "outputId": "f0f78415-f28a-4127-80c1-eff71647e430",
    "ExecuteTime": {
     "end_time": "2025-05-05T01:31:59.938382Z",
     "start_time": "2025-05-05T01:31:59.931381Z"
    }
   },
   "source": [
    "S = set([1 ,12, 56])\n",
    "\n",
    "def MAP(t):\n",
    "  res_list = []\n",
    "  for el in t:\n",
    "    if el in S:\n",
    "      res_list.append(el)\n",
    "    res = tuple(res_list)\n",
    "    return (res, res)\n",
    "\n",
    "\n",
    "def REDUCE(key, values: Iterator[NamedTuple]):\n",
    "    return (key, key)\n",
    "\n",
    "def RECORDREADER(count):\n",
    "    return [(random.randint(0, 100), random.randint(0, 100), random.randint(0, 100)) for i in range(count)]\n",
    "\n",
    "def group_by_key(iterable):\n",
    "  t = {}\n",
    "  for (k2, v2) in iterable:\n",
    "    t[k2] = t.get(k2, []) + [v2]\n",
    "  return t.items()\n",
    "\n",
    "record = RECORDREADER(100)\n",
    "print(record)\n",
    "map_output = list(map(lambda x: MAP(x), RECORDREADER(100)))\n",
    "print(map_output)\n",
    "\n",
    "shuffle_output = group_by_key(map_output)\n",
    "shuffle_output = list(shuffle_output)\n",
    "\n",
    "print(shuffle_output)\n",
    "\n",
    "reduce_output = list(map(lambda x: REDUCE(*x)[0], shuffle_output))\n",
    "print(reduce_output)"
   ],
   "outputs": [
    {
     "name": "stdout",
     "output_type": "stream",
     "text": [
      "[(34, 5, 99), (98, 37, 81), (97, 1, 83), (43, 92, 57), (96, 77, 62), (7, 6, 12), (82, 97, 100), (73, 70, 100), (10, 68, 84), (85, 55, 63), (38, 62, 76), (85, 54, 92), (12, 41, 46), (38, 79, 20), (58, 28, 97), (18, 26, 28), (100, 19, 37), (52, 96, 31), (53, 45, 12), (93, 45, 51), (20, 86, 23), (78, 82, 27), (28, 59, 39), (27, 68, 39), (86, 20, 35), (80, 14, 20), (92, 40, 73), (24, 50, 28), (93, 11, 17), (47, 100, 98), (86, 58, 5), (0, 56, 39), (13, 17, 47), (19, 6, 87), (3, 47, 55), (54, 1, 21), (80, 28, 97), (50, 44, 45), (28, 62, 31), (17, 32, 19), (92, 1, 63), (7, 83, 11), (2, 31, 99), (16, 48, 61), (33, 17, 0), (50, 49, 38), (79, 59, 58), (37, 43, 7), (23, 26, 5), (55, 23, 79), (3, 36, 9), (7, 3, 1), (11, 50, 9), (18, 64, 15), (99, 11, 94), (32, 76, 14), (27, 47, 57), (40, 39, 21), (47, 72, 98), (41, 82, 43), (40, 57, 3), (98, 73, 98), (84, 77, 92), (22, 87, 93), (36, 55, 15), (44, 74, 73), (18, 34, 51), (76, 24, 80), (50, 16, 46), (43, 99, 97), (19, 12, 8), (55, 96, 71), (81, 23, 31), (66, 55, 37), (47, 29, 54), (100, 17, 69), (64, 90, 63), (98, 89, 63), (15, 6, 79), (51, 56, 1), (47, 45, 88), (0, 34, 77), (5, 31, 86), (94, 2, 54), (44, 50, 55), (91, 25, 93), (20, 93, 28), (52, 44, 56), (64, 97, 100), (88, 85, 5), (62, 36, 44), (43, 28, 4), (8, 89, 60), (35, 29, 75), (62, 3, 32), (53, 7, 84), (88, 7, 50), (5, 18, 45), (58, 86, 47), (78, 49, 72)]\n",
      "[((), ()), ((), ()), ((), ()), ((), ()), ((), ()), ((), ()), ((), ()), ((), ()), ((), ()), ((), ()), ((56,), (56,)), ((), ()), ((), ()), ((), ()), ((), ()), ((), ()), ((), ()), ((), ()), ((), ()), ((), ()), ((), ()), ((), ()), ((), ()), ((), ()), ((), ()), ((), ()), ((), ()), ((), ()), ((), ()), ((), ()), ((), ()), ((1,), (1,)), ((), ()), ((), ()), ((), ()), ((), ()), ((), ()), ((), ()), ((), ()), ((), ()), ((), ()), ((), ()), ((), ()), ((), ()), ((), ()), ((), ()), ((), ()), ((), ()), ((), ()), ((), ()), ((), ()), ((), ()), ((), ()), ((), ()), ((), ()), ((12,), (12,)), ((), ()), ((), ()), ((), ()), ((), ()), ((), ()), ((1,), (1,)), ((), ()), ((), ()), ((), ()), ((), ()), ((), ()), ((), ()), ((), ()), ((), ()), ((), ()), ((), ()), ((), ()), ((), ()), ((), ()), ((), ()), ((), ()), ((), ()), ((), ()), ((), ()), ((), ()), ((), ()), ((), ()), ((), ()), ((), ()), ((), ()), ((), ()), ((), ()), ((), ()), ((), ()), ((), ()), ((), ()), ((), ()), ((), ()), ((), ()), ((), ()), ((), ()), ((), ()), ((), ()), ((), ())]\n",
      "[((), [(), (), (), (), (), (), (), (), (), (), (), (), (), (), (), (), (), (), (), (), (), (), (), (), (), (), (), (), (), (), (), (), (), (), (), (), (), (), (), (), (), (), (), (), (), (), (), (), (), (), (), (), (), (), (), (), (), (), (), (), (), (), (), (), (), (), (), (), (), (), (), (), (), (), (), (), (), (), (), (), (), (), (), (), (), (), (), (), (), (), (), (), (), (), (), ()]), ((56,), [(56,)]), ((1,), [(1,), (1,)]), ((12,), [(12,)])]\n",
      "[(), (56,), (1,), (12,)]\n"
     ]
    }
   ],
   "execution_count": 29
  },
  {
   "cell_type": "markdown",
   "metadata": {
    "id": "7gau6lKXvn2R"
   },
   "source": [
    "### Union (Объединение)\n",
    "\n",
    "**The Map Function:** Превратите каждый входной кортеж $t$ в пару ключ-значение $(t, t)$.\n",
    "\n",
    "**The Reduce Function:** С каждым ключом $t$ будет ассоциировано одно или два значений. В обоих случаях создайте $(t, t)$ в качестве выходного значения."
   ]
  },
  {
   "cell_type": "code",
   "metadata": {
    "colab": {
     "base_uri": "https://localhost:8080/"
    },
    "id": "Sns7a5agv3nw",
    "outputId": "713e3347-7ade-4c0a-e45b-d3cbf8996e4f",
    "ExecuteTime": {
     "end_time": "2025-05-05T01:32:02.871481Z",
     "start_time": "2025-05-05T01:32:02.865315Z"
    }
   },
   "source": [
    "def MAP(t):\n",
    "  return (t, t)\n",
    "\n",
    "\n",
    "def REDUCE(key, values: Iterator[NamedTuple]):\n",
    "    return (key, key)\n",
    "\n",
    "def RECORDREADER(count):\n",
    "    return [(random.randint(0, 100), random.randint(0, 100), random.randint(0, 100)) for i in range(count)]\n",
    "\n",
    "def group_by_key(iterable):\n",
    "  t = {}\n",
    "  for (k2, v2) in iterable:\n",
    "    t[k2] = t.get(k2, []) + [v2]\n",
    "  return t.items()\n",
    "\n",
    "record = RECORDREADER(100)\n",
    "print(record)\n",
    "map_output = list(map(lambda x: MAP(x), RECORDREADER(100)))\n",
    "print(map_output)\n",
    "\n",
    "shuffle_output = group_by_key(map_output)\n",
    "shuffle_output = list(shuffle_output)\n",
    "\n",
    "print(shuffle_output)\n",
    "\n",
    "reduce_output = list(map(lambda x: REDUCE(*x)[0], shuffle_output))\n",
    "print(reduce_output)"
   ],
   "outputs": [
    {
     "name": "stdout",
     "output_type": "stream",
     "text": [
      "[(73, 52, 9), (96, 27, 19), (80, 84, 94), (79, 33, 15), (31, 35, 69), (51, 72, 90), (65, 79, 19), (62, 56, 96), (95, 25, 55), (5, 90, 60), (49, 18, 31), (18, 86, 35), (23, 39, 49), (47, 75, 32), (77, 64, 66), (81, 84, 4), (31, 100, 5), (70, 26, 100), (38, 30, 42), (62, 99, 35), (79, 96, 92), (96, 10, 73), (97, 88, 31), (68, 28, 84), (87, 14, 99), (81, 43, 18), (88, 63, 73), (55, 90, 9), (94, 22, 27), (90, 16, 94), (98, 54, 41), (36, 33, 9), (91, 98, 94), (94, 54, 90), (32, 68, 1), (10, 20, 64), (9, 56, 17), (13, 45, 77), (98, 40, 79), (20, 60, 4), (80, 19, 95), (12, 55, 59), (31, 56, 48), (22, 26, 43), (60, 52, 19), (16, 51, 73), (57, 23, 60), (36, 51, 98), (62, 11, 85), (21, 82, 100), (92, 9, 31), (79, 90, 89), (94, 44, 63), (61, 30, 90), (36, 27, 97), (31, 27, 67), (29, 72, 90), (68, 78, 10), (45, 10, 9), (90, 59, 44), (30, 8, 33), (42, 88, 13), (96, 80, 85), (96, 90, 40), (56, 62, 13), (42, 60, 64), (87, 53, 64), (99, 50, 15), (96, 66, 94), (91, 94, 75), (27, 37, 83), (46, 35, 7), (98, 21, 18), (3, 95, 88), (13, 8, 13), (71, 87, 13), (68, 14, 99), (84, 33, 86), (65, 83, 88), (17, 53, 37), (8, 13, 16), (99, 13, 97), (58, 43, 70), (35, 99, 56), (86, 100, 18), (7, 34, 49), (34, 46, 99), (10, 98, 75), (96, 45, 14), (13, 19, 35), (77, 49, 21), (27, 66, 44), (0, 99, 5), (61, 49, 81), (66, 75, 15), (20, 50, 32), (42, 88, 0), (6, 56, 34), (100, 56, 57), (70, 10, 47)]\n",
      "[((32, 74, 58), (32, 74, 58)), ((3, 70, 17), (3, 70, 17)), ((57, 15, 47), (57, 15, 47)), ((86, 64, 24), (86, 64, 24)), ((74, 95, 11), (74, 95, 11)), ((78, 38, 45), (78, 38, 45)), ((66, 51, 58), (66, 51, 58)), ((16, 14, 98), (16, 14, 98)), ((23, 22, 40), (23, 22, 40)), ((29, 62, 14), (29, 62, 14)), ((6, 6, 15), (6, 6, 15)), ((26, 96, 88), (26, 96, 88)), ((79, 83, 79), (79, 83, 79)), ((29, 83, 1), (29, 83, 1)), ((37, 77, 16), (37, 77, 16)), ((6, 86, 20), (6, 86, 20)), ((58, 28, 50), (58, 28, 50)), ((81, 26, 4), (81, 26, 4)), ((82, 37, 24), (82, 37, 24)), ((44, 100, 48), (44, 100, 48)), ((43, 89, 61), (43, 89, 61)), ((21, 32, 8), (21, 32, 8)), ((8, 42, 80), (8, 42, 80)), ((100, 76, 21), (100, 76, 21)), ((91, 96, 63), (91, 96, 63)), ((94, 72, 50), (94, 72, 50)), ((9, 7, 13), (9, 7, 13)), ((52, 11, 12), (52, 11, 12)), ((96, 34, 16), (96, 34, 16)), ((43, 85, 66), (43, 85, 66)), ((15, 75, 45), (15, 75, 45)), ((8, 18, 20), (8, 18, 20)), ((5, 56, 52), (5, 56, 52)), ((50, 94, 28), (50, 94, 28)), ((57, 10, 74), (57, 10, 74)), ((32, 43, 80), (32, 43, 80)), ((33, 72, 81), (33, 72, 81)), ((52, 79, 33), (52, 79, 33)), ((19, 78, 26), (19, 78, 26)), ((63, 96, 48), (63, 96, 48)), ((2, 96, 7), (2, 96, 7)), ((55, 91, 100), (55, 91, 100)), ((7, 11, 34), (7, 11, 34)), ((29, 53, 10), (29, 53, 10)), ((8, 10, 47), (8, 10, 47)), ((64, 98, 55), (64, 98, 55)), ((0, 48, 46), (0, 48, 46)), ((92, 70, 50), (92, 70, 50)), ((88, 96, 32), (88, 96, 32)), ((60, 36, 11), (60, 36, 11)), ((5, 60, 55), (5, 60, 55)), ((22, 63, 59), (22, 63, 59)), ((94, 87, 27), (94, 87, 27)), ((36, 41, 49), (36, 41, 49)), ((64, 94, 77), (64, 94, 77)), ((35, 38, 48), (35, 38, 48)), ((65, 89, 88), (65, 89, 88)), ((65, 9, 90), (65, 9, 90)), ((23, 56, 26), (23, 56, 26)), ((49, 11, 98), (49, 11, 98)), ((1, 10, 29), (1, 10, 29)), ((24, 46, 10), (24, 46, 10)), ((60, 18, 99), (60, 18, 99)), ((79, 55, 51), (79, 55, 51)), ((73, 48, 80), (73, 48, 80)), ((22, 70, 84), (22, 70, 84)), ((66, 55, 5), (66, 55, 5)), ((19, 8, 62), (19, 8, 62)), ((70, 64, 19), (70, 64, 19)), ((87, 8, 91), (87, 8, 91)), ((39, 84, 3), (39, 84, 3)), ((32, 63, 22), (32, 63, 22)), ((44, 11, 54), (44, 11, 54)), ((33, 38, 12), (33, 38, 12)), ((79, 95, 23), (79, 95, 23)), ((12, 49, 55), (12, 49, 55)), ((9, 57, 73), (9, 57, 73)), ((58, 50, 100), (58, 50, 100)), ((2, 32, 34), (2, 32, 34)), ((12, 1, 11), (12, 1, 11)), ((75, 69, 28), (75, 69, 28)), ((81, 93, 49), (81, 93, 49)), ((40, 100, 96), (40, 100, 96)), ((51, 74, 15), (51, 74, 15)), ((61, 43, 29), (61, 43, 29)), ((56, 4, 91), (56, 4, 91)), ((66, 70, 29), (66, 70, 29)), ((0, 82, 30), (0, 82, 30)), ((63, 33, 3), (63, 33, 3)), ((49, 90, 0), (49, 90, 0)), ((83, 36, 13), (83, 36, 13)), ((65, 30, 77), (65, 30, 77)), ((56, 92, 76), (56, 92, 76)), ((31, 60, 54), (31, 60, 54)), ((40, 48, 26), (40, 48, 26)), ((5, 53, 69), (5, 53, 69)), ((19, 78, 9), (19, 78, 9)), ((5, 68, 60), (5, 68, 60)), ((6, 64, 49), (6, 64, 49)), ((3, 29, 78), (3, 29, 78))]\n",
      "[((32, 74, 58), [(32, 74, 58)]), ((3, 70, 17), [(3, 70, 17)]), ((57, 15, 47), [(57, 15, 47)]), ((86, 64, 24), [(86, 64, 24)]), ((74, 95, 11), [(74, 95, 11)]), ((78, 38, 45), [(78, 38, 45)]), ((66, 51, 58), [(66, 51, 58)]), ((16, 14, 98), [(16, 14, 98)]), ((23, 22, 40), [(23, 22, 40)]), ((29, 62, 14), [(29, 62, 14)]), ((6, 6, 15), [(6, 6, 15)]), ((26, 96, 88), [(26, 96, 88)]), ((79, 83, 79), [(79, 83, 79)]), ((29, 83, 1), [(29, 83, 1)]), ((37, 77, 16), [(37, 77, 16)]), ((6, 86, 20), [(6, 86, 20)]), ((58, 28, 50), [(58, 28, 50)]), ((81, 26, 4), [(81, 26, 4)]), ((82, 37, 24), [(82, 37, 24)]), ((44, 100, 48), [(44, 100, 48)]), ((43, 89, 61), [(43, 89, 61)]), ((21, 32, 8), [(21, 32, 8)]), ((8, 42, 80), [(8, 42, 80)]), ((100, 76, 21), [(100, 76, 21)]), ((91, 96, 63), [(91, 96, 63)]), ((94, 72, 50), [(94, 72, 50)]), ((9, 7, 13), [(9, 7, 13)]), ((52, 11, 12), [(52, 11, 12)]), ((96, 34, 16), [(96, 34, 16)]), ((43, 85, 66), [(43, 85, 66)]), ((15, 75, 45), [(15, 75, 45)]), ((8, 18, 20), [(8, 18, 20)]), ((5, 56, 52), [(5, 56, 52)]), ((50, 94, 28), [(50, 94, 28)]), ((57, 10, 74), [(57, 10, 74)]), ((32, 43, 80), [(32, 43, 80)]), ((33, 72, 81), [(33, 72, 81)]), ((52, 79, 33), [(52, 79, 33)]), ((19, 78, 26), [(19, 78, 26)]), ((63, 96, 48), [(63, 96, 48)]), ((2, 96, 7), [(2, 96, 7)]), ((55, 91, 100), [(55, 91, 100)]), ((7, 11, 34), [(7, 11, 34)]), ((29, 53, 10), [(29, 53, 10)]), ((8, 10, 47), [(8, 10, 47)]), ((64, 98, 55), [(64, 98, 55)]), ((0, 48, 46), [(0, 48, 46)]), ((92, 70, 50), [(92, 70, 50)]), ((88, 96, 32), [(88, 96, 32)]), ((60, 36, 11), [(60, 36, 11)]), ((5, 60, 55), [(5, 60, 55)]), ((22, 63, 59), [(22, 63, 59)]), ((94, 87, 27), [(94, 87, 27)]), ((36, 41, 49), [(36, 41, 49)]), ((64, 94, 77), [(64, 94, 77)]), ((35, 38, 48), [(35, 38, 48)]), ((65, 89, 88), [(65, 89, 88)]), ((65, 9, 90), [(65, 9, 90)]), ((23, 56, 26), [(23, 56, 26)]), ((49, 11, 98), [(49, 11, 98)]), ((1, 10, 29), [(1, 10, 29)]), ((24, 46, 10), [(24, 46, 10)]), ((60, 18, 99), [(60, 18, 99)]), ((79, 55, 51), [(79, 55, 51)]), ((73, 48, 80), [(73, 48, 80)]), ((22, 70, 84), [(22, 70, 84)]), ((66, 55, 5), [(66, 55, 5)]), ((19, 8, 62), [(19, 8, 62)]), ((70, 64, 19), [(70, 64, 19)]), ((87, 8, 91), [(87, 8, 91)]), ((39, 84, 3), [(39, 84, 3)]), ((32, 63, 22), [(32, 63, 22)]), ((44, 11, 54), [(44, 11, 54)]), ((33, 38, 12), [(33, 38, 12)]), ((79, 95, 23), [(79, 95, 23)]), ((12, 49, 55), [(12, 49, 55)]), ((9, 57, 73), [(9, 57, 73)]), ((58, 50, 100), [(58, 50, 100)]), ((2, 32, 34), [(2, 32, 34)]), ((12, 1, 11), [(12, 1, 11)]), ((75, 69, 28), [(75, 69, 28)]), ((81, 93, 49), [(81, 93, 49)]), ((40, 100, 96), [(40, 100, 96)]), ((51, 74, 15), [(51, 74, 15)]), ((61, 43, 29), [(61, 43, 29)]), ((56, 4, 91), [(56, 4, 91)]), ((66, 70, 29), [(66, 70, 29)]), ((0, 82, 30), [(0, 82, 30)]), ((63, 33, 3), [(63, 33, 3)]), ((49, 90, 0), [(49, 90, 0)]), ((83, 36, 13), [(83, 36, 13)]), ((65, 30, 77), [(65, 30, 77)]), ((56, 92, 76), [(56, 92, 76)]), ((31, 60, 54), [(31, 60, 54)]), ((40, 48, 26), [(40, 48, 26)]), ((5, 53, 69), [(5, 53, 69)]), ((19, 78, 9), [(19, 78, 9)]), ((5, 68, 60), [(5, 68, 60)]), ((6, 64, 49), [(6, 64, 49)]), ((3, 29, 78), [(3, 29, 78)])]\n",
      "[(32, 74, 58), (3, 70, 17), (57, 15, 47), (86, 64, 24), (74, 95, 11), (78, 38, 45), (66, 51, 58), (16, 14, 98), (23, 22, 40), (29, 62, 14), (6, 6, 15), (26, 96, 88), (79, 83, 79), (29, 83, 1), (37, 77, 16), (6, 86, 20), (58, 28, 50), (81, 26, 4), (82, 37, 24), (44, 100, 48), (43, 89, 61), (21, 32, 8), (8, 42, 80), (100, 76, 21), (91, 96, 63), (94, 72, 50), (9, 7, 13), (52, 11, 12), (96, 34, 16), (43, 85, 66), (15, 75, 45), (8, 18, 20), (5, 56, 52), (50, 94, 28), (57, 10, 74), (32, 43, 80), (33, 72, 81), (52, 79, 33), (19, 78, 26), (63, 96, 48), (2, 96, 7), (55, 91, 100), (7, 11, 34), (29, 53, 10), (8, 10, 47), (64, 98, 55), (0, 48, 46), (92, 70, 50), (88, 96, 32), (60, 36, 11), (5, 60, 55), (22, 63, 59), (94, 87, 27), (36, 41, 49), (64, 94, 77), (35, 38, 48), (65, 89, 88), (65, 9, 90), (23, 56, 26), (49, 11, 98), (1, 10, 29), (24, 46, 10), (60, 18, 99), (79, 55, 51), (73, 48, 80), (22, 70, 84), (66, 55, 5), (19, 8, 62), (70, 64, 19), (87, 8, 91), (39, 84, 3), (32, 63, 22), (44, 11, 54), (33, 38, 12), (79, 95, 23), (12, 49, 55), (9, 57, 73), (58, 50, 100), (2, 32, 34), (12, 1, 11), (75, 69, 28), (81, 93, 49), (40, 100, 96), (51, 74, 15), (61, 43, 29), (56, 4, 91), (66, 70, 29), (0, 82, 30), (63, 33, 3), (49, 90, 0), (83, 36, 13), (65, 30, 77), (56, 92, 76), (31, 60, 54), (40, 48, 26), (5, 53, 69), (19, 78, 9), (5, 68, 60), (6, 64, 49), (3, 29, 78)]\n"
     ]
    }
   ],
   "execution_count": 31
  },
  {
   "cell_type": "markdown",
   "metadata": {
    "id": "dQ8TuEbjv4J8"
   },
   "source": [
    "### Intersection (Пересечение)\n",
    "\n",
    "**The Map Function:** Превратите каждый кортеж $t$ в пары ключ-значение $(t, t)$.\n",
    "\n",
    "**The Reduce Function:** Если для ключа $t$ есть список из двух элементов $[t, t]$ $-$ создайте пару $(t, t)$. Иначе, ничего не создавайте."
   ]
  },
  {
   "cell_type": "code",
   "metadata": {
    "colab": {
     "base_uri": "https://localhost:8080/"
    },
    "id": "XKlBZh4IwERR",
    "outputId": "94358799-b501-47e1-f257-af5b97e3adb5",
    "ExecuteTime": {
     "end_time": "2025-05-05T01:32:05.427190Z",
     "start_time": "2025-05-05T01:32:05.421025Z"
    }
   },
   "source": [
    "def MAP(t):\n",
    "  return (t, t)\n",
    "\n",
    "\n",
    "def REDUCE(key, values: Iterator[NamedTuple]):\n",
    "  if len(values) == 2:\n",
    "    return (key, key)\n",
    "\n",
    "def RECORDREADER(count):\n",
    "    return [(random.randint(0, 3), random.randint(0, 3)) for i in range(count)]\n",
    "\n",
    "def group_by_key(iterable):\n",
    "  t = {}\n",
    "  for (k2, v2) in iterable:\n",
    "    t[k2] = t.get(k2, []) + [v2]\n",
    "  return t.items()\n",
    "\n",
    "record = RECORDREADER(100)\n",
    "print(record)\n",
    "map_output = list(map(lambda x: MAP(x), RECORDREADER(100)))\n",
    "print(map_output)\n",
    "\n",
    "shuffle_output = group_by_key(map_output)\n",
    "shuffle_output = list(shuffle_output)\n",
    "\n",
    "print(shuffle_output)\n",
    "\n",
    "reduce_output = [el[0] for el in list(map(lambda x: REDUCE(*x), shuffle_output)) if el is not None]\n",
    "print(reduce_output)"
   ],
   "outputs": [
    {
     "name": "stdout",
     "output_type": "stream",
     "text": [
      "[(2, 2), (3, 0), (2, 0), (3, 1), (0, 2), (3, 2), (2, 0), (0, 2), (0, 1), (2, 3), (1, 2), (2, 3), (0, 3), (0, 0), (2, 0), (0, 0), (2, 2), (0, 3), (2, 2), (2, 1), (0, 0), (1, 3), (2, 1), (3, 1), (1, 1), (0, 3), (3, 0), (2, 0), (2, 1), (2, 3), (1, 0), (1, 3), (1, 3), (2, 2), (0, 2), (1, 3), (0, 1), (1, 2), (0, 0), (3, 0), (3, 2), (1, 2), (0, 1), (0, 0), (3, 1), (2, 3), (0, 3), (1, 0), (0, 1), (0, 3), (1, 0), (1, 3), (3, 2), (1, 2), (3, 3), (3, 0), (0, 1), (1, 2), (2, 1), (3, 3), (0, 2), (1, 2), (2, 0), (0, 1), (0, 3), (0, 1), (3, 2), (3, 1), (0, 2), (0, 3), (0, 3), (3, 0), (0, 1), (3, 3), (3, 3), (3, 3), (3, 0), (1, 3), (1, 3), (0, 2), (0, 3), (3, 2), (3, 0), (2, 1), (0, 0), (1, 1), (3, 3), (0, 2), (1, 3), (1, 0), (2, 2), (2, 2), (3, 3), (1, 1), (2, 0), (2, 1), (3, 3), (2, 2), (1, 0), (2, 3)]\n",
      "[((2, 0), (2, 0)), ((3, 1), (3, 1)), ((0, 1), (0, 1)), ((1, 2), (1, 2)), ((2, 0), (2, 0)), ((1, 0), (1, 0)), ((1, 2), (1, 2)), ((2, 1), (2, 1)), ((2, 3), (2, 3)), ((1, 3), (1, 3)), ((0, 3), (0, 3)), ((0, 2), (0, 2)), ((0, 3), (0, 3)), ((0, 2), (0, 2)), ((0, 2), (0, 2)), ((1, 2), (1, 2)), ((2, 3), (2, 3)), ((0, 1), (0, 1)), ((3, 3), (3, 3)), ((0, 0), (0, 0)), ((2, 3), (2, 3)), ((0, 0), (0, 0)), ((3, 1), (3, 1)), ((1, 1), (1, 1)), ((2, 3), (2, 3)), ((0, 2), (0, 2)), ((1, 1), (1, 1)), ((1, 1), (1, 1)), ((2, 2), (2, 2)), ((3, 3), (3, 3)), ((0, 1), (0, 1)), ((1, 1), (1, 1)), ((0, 1), (0, 1)), ((0, 3), (0, 3)), ((0, 2), (0, 2)), ((3, 2), (3, 2)), ((3, 1), (3, 1)), ((1, 0), (1, 0)), ((3, 0), (3, 0)), ((0, 2), (0, 2)), ((1, 3), (1, 3)), ((2, 1), (2, 1)), ((1, 1), (1, 1)), ((2, 1), (2, 1)), ((0, 1), (0, 1)), ((0, 1), (0, 1)), ((2, 2), (2, 2)), ((0, 0), (0, 0)), ((1, 2), (1, 2)), ((0, 3), (0, 3)), ((3, 3), (3, 3)), ((3, 1), (3, 1)), ((0, 1), (0, 1)), ((0, 1), (0, 1)), ((1, 3), (1, 3)), ((0, 0), (0, 0)), ((3, 0), (3, 0)), ((0, 2), (0, 2)), ((1, 0), (1, 0)), ((2, 1), (2, 1)), ((3, 3), (3, 3)), ((3, 3), (3, 3)), ((1, 2), (1, 2)), ((3, 0), (3, 0)), ((1, 3), (1, 3)), ((1, 3), (1, 3)), ((3, 2), (3, 2)), ((3, 2), (3, 2)), ((0, 0), (0, 0)), ((3, 3), (3, 3)), ((0, 0), (0, 0)), ((1, 2), (1, 2)), ((1, 2), (1, 2)), ((2, 2), (2, 2)), ((0, 3), (0, 3)), ((3, 3), (3, 3)), ((3, 2), (3, 2)), ((0, 1), (0, 1)), ((2, 3), (2, 3)), ((2, 3), (2, 3)), ((1, 0), (1, 0)), ((2, 3), (2, 3)), ((0, 3), (0, 3)), ((0, 1), (0, 1)), ((1, 3), (1, 3)), ((2, 2), (2, 2)), ((0, 3), (0, 3)), ((1, 0), (1, 0)), ((1, 1), (1, 1)), ((3, 0), (3, 0)), ((1, 1), (1, 1)), ((1, 1), (1, 1)), ((2, 0), (2, 0)), ((1, 1), (1, 1)), ((0, 3), (0, 3)), ((2, 2), (2, 2)), ((3, 3), (3, 3)), ((0, 0), (0, 0)), ((0, 2), (0, 2)), ((0, 1), (0, 1))]\n",
      "[((2, 0), [(2, 0), (2, 0), (2, 0)]), ((3, 1), [(3, 1), (3, 1), (3, 1), (3, 1)]), ((0, 1), [(0, 1), (0, 1), (0, 1), (0, 1), (0, 1), (0, 1), (0, 1), (0, 1), (0, 1), (0, 1), (0, 1)]), ((1, 2), [(1, 2), (1, 2), (1, 2), (1, 2), (1, 2), (1, 2), (1, 2)]), ((1, 0), [(1, 0), (1, 0), (1, 0), (1, 0), (1, 0)]), ((2, 1), [(2, 1), (2, 1), (2, 1), (2, 1)]), ((2, 3), [(2, 3), (2, 3), (2, 3), (2, 3), (2, 3), (2, 3), (2, 3)]), ((1, 3), [(1, 3), (1, 3), (1, 3), (1, 3), (1, 3), (1, 3)]), ((0, 3), [(0, 3), (0, 3), (0, 3), (0, 3), (0, 3), (0, 3), (0, 3), (0, 3)]), ((0, 2), [(0, 2), (0, 2), (0, 2), (0, 2), (0, 2), (0, 2), (0, 2), (0, 2)]), ((3, 3), [(3, 3), (3, 3), (3, 3), (3, 3), (3, 3), (3, 3), (3, 3), (3, 3)]), ((0, 0), [(0, 0), (0, 0), (0, 0), (0, 0), (0, 0), (0, 0), (0, 0)]), ((1, 1), [(1, 1), (1, 1), (1, 1), (1, 1), (1, 1), (1, 1), (1, 1), (1, 1), (1, 1)]), ((2, 2), [(2, 2), (2, 2), (2, 2), (2, 2), (2, 2)]), ((3, 2), [(3, 2), (3, 2), (3, 2), (3, 2)]), ((3, 0), [(3, 0), (3, 0), (3, 0), (3, 0)])]\n",
      "[]\n"
     ]
    }
   ],
   "execution_count": 32
  },
  {
   "cell_type": "markdown",
   "metadata": {
    "id": "AVOpqoY3wE5k"
   },
   "source": [
    "### Difference (Разница)\n",
    "\n",
    "**The Map Function:** Для кортежа $t \\in R$, создайте пару $(t, R)$, и для кортежа $t \\in S$, создайте пару $(t, S)$. Задумка заключается в том, чтобы значение пары было именем отношения $R$ or $S$, которому принадлежит кортеж (а лучше, единичный бит, по которому можно два отношения различить $R$ or $S$), а не весь набор атрибутов отношения.\n",
    "\n",
    "**The Reduce Function:** Для каждого ключа $t$, если соответствующее значение является списком $[R]$, создайте пару $(t, t)$. В иных случаях не предпринимайте действий."
   ]
  },
  {
   "cell_type": "code",
   "metadata": {
    "colab": {
     "base_uri": "https://localhost:8080/"
    },
    "id": "QE_AC09lwZIZ",
    "outputId": "8672fa9e-9038-4773-f873-b31ed0910ff4",
    "ExecuteTime": {
     "end_time": "2025-05-05T01:32:10.548174Z",
     "start_time": "2025-05-05T01:32:10.540271Z"
    }
   },
   "source": [
    "rels = [1, 2]\n",
    "class Tuple: # класс кортежа, который хранит данные и имя представления из массива rels выше\n",
    "  def __init__(self, data: tuple, rel_id: int):\n",
    "    self.data = data\n",
    "    self.rel_id = rel_id\n",
    "\n",
    "def get_random_tuple(count):\n",
    "  data = tuple([(random.randint(0, 3), random.randint(0, 3)) for i in range(count)])\n",
    "  rel_id = rels[random.randint(0, len(rels) - 1)]\n",
    "  return Tuple(data, rel_id)\n",
    "\n",
    "\n",
    "def RECORDREADER(count):\n",
    "    return [get_random_tuple(3) for i in range(count)]\n",
    "\n",
    "def MAP(t: Tuple):\n",
    "  return (t.data, t.rel_id)\n",
    "\n",
    "def REDUCE(key, values: Iterator[NamedTuple]):\n",
    "  if values == [rels[0]]: # если соответствующее значение является списком  [R] , создайте пару  (t,t)\n",
    "    return (key, key)\n",
    "\n",
    "def group_by_key(iterable):\n",
    "  t = {}\n",
    "  for (k2, v2) in iterable:\n",
    "    t[k2] = t.get(k2, []) + [v2]\n",
    "  return t.items()\n",
    "\n",
    "record = RECORDREADER(100)\n",
    "print(record)\n",
    "map_output = list(map(lambda x: MAP(x), RECORDREADER(100)))\n",
    "print(map_output)\n",
    "\n",
    "shuffle_output = group_by_key(map_output)\n",
    "shuffle_output = list(shuffle_output)\n",
    "\n",
    "print(shuffle_output)\n",
    "\n",
    "reduce_output = [el[0] for el in list(map(lambda x: REDUCE(*x), shuffle_output)) if el is not None]\n",
    "print(reduce_output)"
   ],
   "outputs": [
    {
     "name": "stdout",
     "output_type": "stream",
     "text": [
      "[<__main__.Tuple object at 0x000001FAB6D83B00>, <__main__.Tuple object at 0x000001FAB6D95AC0>, <__main__.Tuple object at 0x000001FAB6D957F0>, <__main__.Tuple object at 0x000001FAB6D94AD0>, <__main__.Tuple object at 0x000001FAB6D95760>, <__main__.Tuple object at 0x000001FAB6D95F40>, <__main__.Tuple object at 0x000001FAB6D96180>, <__main__.Tuple object at 0x000001FAB6D96150>, <__main__.Tuple object at 0x000001FAB6D953D0>, <__main__.Tuple object at 0x000001FAB6D94740>, <__main__.Tuple object at 0x000001FAB6D97B90>, <__main__.Tuple object at 0x000001FAB6D95A30>, <__main__.Tuple object at 0x000001FAB6D95E80>, <__main__.Tuple object at 0x000001FAB6D95070>, <__main__.Tuple object at 0x000001FAB6D95640>, <__main__.Tuple object at 0x000001FAB6D978C0>, <__main__.Tuple object at 0x000001FAB6D97B30>, <__main__.Tuple object at 0x000001FAB6D94110>, <__main__.Tuple object at 0x000001FAB6D95E20>, <__main__.Tuple object at 0x000001FAB6D97F80>, <__main__.Tuple object at 0x000001FAB6D95B50>, <__main__.Tuple object at 0x000001FAB6D95DF0>, <__main__.Tuple object at 0x000001FAB6D960F0>, <__main__.Tuple object at 0x000001FAB6D95CD0>, <__main__.Tuple object at 0x000001FAB6D96000>, <__main__.Tuple object at 0x000001FAB6D95340>, <__main__.Tuple object at 0x000001FAB6D94AA0>, <__main__.Tuple object at 0x000001FAB6D94E90>, <__main__.Tuple object at 0x000001FAB6D95520>, <__main__.Tuple object at 0x000001FAB6D97B60>, <__main__.Tuple object at 0x000001FAB6D94CE0>, <__main__.Tuple object at 0x000001FAB6D97FE0>, <__main__.Tuple object at 0x000001FAB6D97590>, <__main__.Tuple object at 0x000001FAB6D94FE0>, <__main__.Tuple object at 0x000001FAB6D94500>, <__main__.Tuple object at 0x000001FAB6D94080>, <__main__.Tuple object at 0x000001FAB6D94C20>, <__main__.Tuple object at 0x000001FAB6D94BF0>, <__main__.Tuple object at 0x000001FAB6D95D90>, <__main__.Tuple object at 0x000001FAB6D977A0>, <__main__.Tuple object at 0x000001FAB6D95D30>, <__main__.Tuple object at 0x000001FAB6D95EE0>, <__main__.Tuple object at 0x000001FAB6D94410>, <__main__.Tuple object at 0x000001FAB6D944A0>, <__main__.Tuple object at 0x000001FAB6D94950>, <__main__.Tuple object at 0x000001FAB6D951C0>, <__main__.Tuple object at 0x000001FAB6D97A70>, <__main__.Tuple object at 0x000001FAB6D95550>, <__main__.Tuple object at 0x000001FAB6D97BC0>, <__main__.Tuple object at 0x000001FAB6D97F50>, <__main__.Tuple object at 0x000001FAB6D953A0>, <__main__.Tuple object at 0x000001FAB6D978F0>, <__main__.Tuple object at 0x000001FAB6D94440>, <__main__.Tuple object at 0x000001FAB6D96060>, <__main__.Tuple object at 0x000001FAB6D94980>, <__main__.Tuple object at 0x000001FAB6D94CB0>, <__main__.Tuple object at 0x000001FAB6D979E0>, <__main__.Tuple object at 0x000001FAB6D952E0>, <__main__.Tuple object at 0x000001FAB6D94050>, <__main__.Tuple object at 0x000001FAB6D95190>, <__main__.Tuple object at 0x000001FAB6D94FB0>, <__main__.Tuple object at 0x000001FAB6D94BC0>, <__main__.Tuple object at 0x000001FAB6D96FF0>, <__main__.Tuple object at 0x000001FAB6D979B0>, <__main__.Tuple object at 0x000001FAB6D97AA0>, <__main__.Tuple object at 0x000001FAB6D95C40>, <__main__.Tuple object at 0x000001FAB6D95100>, <__main__.Tuple object at 0x000001FAB6D94350>, <__main__.Tuple object at 0x000001FAB6D94A40>, <__main__.Tuple object at 0x000001FAB6D95040>, <__main__.Tuple object at 0x000001FAB6D94590>, <__main__.Tuple object at 0x000001FAB6D94D10>, <__main__.Tuple object at 0x000001FAB6D95370>, <__main__.Tuple object at 0x000001FAB6D95310>, <__main__.Tuple object at 0x000001FAB6D942C0>, <__main__.Tuple object at 0x000001FAB6D94530>, <__main__.Tuple object at 0x000001FAB6D94D70>, <__main__.Tuple object at 0x000001FAB6D94E00>, <__main__.Tuple object at 0x000001FAB6D94380>, <__main__.Tuple object at 0x000001FAB6D946B0>, <__main__.Tuple object at 0x000001FAB6D97020>, <__main__.Tuple object at 0x000001FAB6D97E00>, <__main__.Tuple object at 0x000001FAB6D97D10>, <__main__.Tuple object at 0x000001FAB6D94170>, <__main__.Tuple object at 0x000001FAB6D97860>, <__main__.Tuple object at 0x000001FAB6D97D70>, <__main__.Tuple object at 0x000001FAB6D95C10>, <__main__.Tuple object at 0x000001FAB6D97AD0>, <__main__.Tuple object at 0x000001FAB6D96030>, <__main__.Tuple object at 0x000001FAB6D94710>, <__main__.Tuple object at 0x000001FAB6D97EF0>, <__main__.Tuple object at 0x000001FAB6D97D40>, <__main__.Tuple object at 0x000001FAB6D97DD0>, <__main__.Tuple object at 0x000001FAB6D959D0>, <__main__.Tuple object at 0x000001FAB6D94A70>, <__main__.Tuple object at 0x000001FAB6D95F10>, <__main__.Tuple object at 0x000001FAB6D97CB0>, <__main__.Tuple object at 0x000001FAB6D97CE0>, <__main__.Tuple object at 0x000001FAB6D945C0>, <__main__.Tuple object at 0x000001FAB6D943E0>]\n",
      "[(((2, 3), (1, 0), (3, 0)), 1), (((2, 3), (3, 2), (2, 3)), 2), (((3, 3), (2, 2), (2, 3)), 2), (((0, 0), (2, 1), (2, 3)), 2), (((0, 2), (0, 2), (0, 3)), 2), (((2, 2), (1, 2), (0, 3)), 2), (((1, 1), (3, 1), (2, 3)), 2), (((3, 0), (3, 2), (3, 2)), 2), (((0, 0), (2, 1), (1, 1)), 1), (((0, 3), (2, 2), (2, 1)), 1), (((2, 0), (1, 0), (3, 3)), 1), (((0, 1), (0, 0), (2, 0)), 2), (((3, 1), (3, 3), (3, 1)), 2), (((3, 0), (2, 3), (1, 3)), 1), (((2, 3), (0, 1), (0, 3)), 1), (((1, 3), (0, 0), (1, 0)), 2), (((3, 2), (2, 0), (0, 2)), 2), (((0, 3), (3, 2), (0, 0)), 2), (((3, 3), (3, 0), (1, 1)), 1), (((3, 0), (0, 1), (0, 0)), 1), (((2, 3), (1, 3), (1, 1)), 1), (((2, 1), (2, 3), (2, 2)), 2), (((1, 3), (1, 1), (2, 0)), 2), (((3, 0), (0, 2), (3, 3)), 1), (((2, 2), (2, 1), (3, 0)), 2), (((0, 3), (2, 2), (0, 2)), 2), (((0, 0), (0, 0), (0, 3)), 2), (((1, 3), (1, 0), (1, 2)), 1), (((2, 0), (3, 0), (3, 3)), 1), (((1, 1), (1, 3), (2, 3)), 2), (((3, 0), (3, 3), (3, 2)), 2), (((3, 0), (3, 1), (1, 2)), 1), (((1, 1), (2, 2), (1, 2)), 1), (((0, 3), (0, 1), (0, 0)), 1), (((2, 3), (2, 3), (1, 3)), 1), (((0, 1), (2, 3), (1, 3)), 1), (((0, 1), (3, 1), (1, 0)), 2), (((3, 0), (0, 0), (0, 3)), 2), (((0, 3), (2, 3), (0, 1)), 1), (((3, 0), (1, 2), (3, 2)), 1), (((1, 2), (3, 3), (3, 2)), 2), (((0, 3), (3, 3), (2, 2)), 2), (((0, 2), (2, 2), (3, 2)), 2), (((0, 1), (2, 2), (1, 2)), 2), (((1, 1), (1, 1), (2, 3)), 2), (((1, 2), (0, 0), (3, 3)), 2), (((3, 2), (3, 0), (1, 1)), 2), (((2, 0), (3, 1), (2, 0)), 2), (((2, 0), (0, 2), (1, 2)), 2), (((2, 1), (3, 2), (0, 1)), 1), (((1, 3), (2, 3), (0, 1)), 2), (((0, 1), (0, 3), (1, 1)), 1), (((2, 0), (2, 1), (0, 0)), 2), (((3, 1), (3, 1), (1, 2)), 1), (((0, 1), (2, 2), (0, 2)), 1), (((3, 3), (3, 2), (1, 3)), 2), (((1, 2), (2, 0), (3, 3)), 2), (((2, 1), (3, 1), (2, 1)), 2), (((3, 0), (2, 0), (3, 0)), 1), (((3, 2), (1, 1), (1, 1)), 1), (((2, 0), (2, 1), (2, 0)), 1), (((3, 0), (1, 2), (1, 2)), 1), (((1, 3), (3, 3), (0, 3)), 2), (((1, 1), (0, 0), (3, 1)), 1), (((0, 3), (0, 3), (1, 3)), 2), (((2, 1), (0, 1), (3, 0)), 1), (((0, 1), (3, 0), (2, 3)), 2), (((1, 1), (0, 1), (0, 1)), 2), (((2, 3), (0, 3), (1, 3)), 1), (((2, 2), (2, 1), (1, 2)), 1), (((1, 2), (1, 0), (0, 1)), 1), (((3, 2), (1, 0), (3, 1)), 1), (((2, 1), (2, 2), (1, 3)), 2), (((3, 3), (0, 0), (2, 1)), 2), (((1, 0), (3, 1), (3, 3)), 2), (((2, 2), (0, 1), (0, 0)), 2), (((1, 2), (1, 0), (2, 2)), 2), (((1, 1), (2, 0), (0, 1)), 2), (((3, 0), (3, 3), (1, 3)), 1), (((1, 3), (2, 3), (3, 0)), 2), (((1, 0), (0, 0), (3, 0)), 1), (((1, 2), (2, 2), (1, 0)), 1), (((2, 1), (3, 2), (1, 0)), 1), (((1, 1), (1, 3), (3, 3)), 1), (((2, 1), (1, 3), (0, 1)), 2), (((2, 1), (2, 0), (0, 0)), 1), (((2, 2), (2, 2), (3, 2)), 1), (((0, 1), (3, 1), (3, 3)), 2), (((2, 0), (2, 0), (2, 2)), 1), (((1, 2), (3, 3), (3, 3)), 1), (((2, 1), (0, 1), (3, 2)), 2), (((0, 0), (0, 2), (0, 2)), 2), (((3, 0), (3, 1), (2, 3)), 2), (((2, 2), (3, 2), (0, 1)), 2), (((1, 3), (3, 3), (1, 3)), 1), (((2, 1), (0, 1), (2, 0)), 2), (((2, 0), (2, 2), (0, 0)), 1), (((1, 0), (1, 3), (1, 0)), 1), (((1, 2), (3, 1), (2, 1)), 2), (((0, 1), (0, 0), (1, 0)), 2)]\n",
      "[(((2, 3), (1, 0), (3, 0)), [1]), (((2, 3), (3, 2), (2, 3)), [2]), (((3, 3), (2, 2), (2, 3)), [2]), (((0, 0), (2, 1), (2, 3)), [2]), (((0, 2), (0, 2), (0, 3)), [2]), (((2, 2), (1, 2), (0, 3)), [2]), (((1, 1), (3, 1), (2, 3)), [2]), (((3, 0), (3, 2), (3, 2)), [2]), (((0, 0), (2, 1), (1, 1)), [1]), (((0, 3), (2, 2), (2, 1)), [1]), (((2, 0), (1, 0), (3, 3)), [1]), (((0, 1), (0, 0), (2, 0)), [2]), (((3, 1), (3, 3), (3, 1)), [2]), (((3, 0), (2, 3), (1, 3)), [1]), (((2, 3), (0, 1), (0, 3)), [1]), (((1, 3), (0, 0), (1, 0)), [2]), (((3, 2), (2, 0), (0, 2)), [2]), (((0, 3), (3, 2), (0, 0)), [2]), (((3, 3), (3, 0), (1, 1)), [1]), (((3, 0), (0, 1), (0, 0)), [1]), (((2, 3), (1, 3), (1, 1)), [1]), (((2, 1), (2, 3), (2, 2)), [2]), (((1, 3), (1, 1), (2, 0)), [2]), (((3, 0), (0, 2), (3, 3)), [1]), (((2, 2), (2, 1), (3, 0)), [2]), (((0, 3), (2, 2), (0, 2)), [2]), (((0, 0), (0, 0), (0, 3)), [2]), (((1, 3), (1, 0), (1, 2)), [1]), (((2, 0), (3, 0), (3, 3)), [1]), (((1, 1), (1, 3), (2, 3)), [2]), (((3, 0), (3, 3), (3, 2)), [2]), (((3, 0), (3, 1), (1, 2)), [1]), (((1, 1), (2, 2), (1, 2)), [1]), (((0, 3), (0, 1), (0, 0)), [1]), (((2, 3), (2, 3), (1, 3)), [1]), (((0, 1), (2, 3), (1, 3)), [1]), (((0, 1), (3, 1), (1, 0)), [2]), (((3, 0), (0, 0), (0, 3)), [2]), (((0, 3), (2, 3), (0, 1)), [1]), (((3, 0), (1, 2), (3, 2)), [1]), (((1, 2), (3, 3), (3, 2)), [2]), (((0, 3), (3, 3), (2, 2)), [2]), (((0, 2), (2, 2), (3, 2)), [2]), (((0, 1), (2, 2), (1, 2)), [2]), (((1, 1), (1, 1), (2, 3)), [2]), (((1, 2), (0, 0), (3, 3)), [2]), (((3, 2), (3, 0), (1, 1)), [2]), (((2, 0), (3, 1), (2, 0)), [2]), (((2, 0), (0, 2), (1, 2)), [2]), (((2, 1), (3, 2), (0, 1)), [1]), (((1, 3), (2, 3), (0, 1)), [2]), (((0, 1), (0, 3), (1, 1)), [1]), (((2, 0), (2, 1), (0, 0)), [2]), (((3, 1), (3, 1), (1, 2)), [1]), (((0, 1), (2, 2), (0, 2)), [1]), (((3, 3), (3, 2), (1, 3)), [2]), (((1, 2), (2, 0), (3, 3)), [2]), (((2, 1), (3, 1), (2, 1)), [2]), (((3, 0), (2, 0), (3, 0)), [1]), (((3, 2), (1, 1), (1, 1)), [1]), (((2, 0), (2, 1), (2, 0)), [1]), (((3, 0), (1, 2), (1, 2)), [1]), (((1, 3), (3, 3), (0, 3)), [2]), (((1, 1), (0, 0), (3, 1)), [1]), (((0, 3), (0, 3), (1, 3)), [2]), (((2, 1), (0, 1), (3, 0)), [1]), (((0, 1), (3, 0), (2, 3)), [2]), (((1, 1), (0, 1), (0, 1)), [2]), (((2, 3), (0, 3), (1, 3)), [1]), (((2, 2), (2, 1), (1, 2)), [1]), (((1, 2), (1, 0), (0, 1)), [1]), (((3, 2), (1, 0), (3, 1)), [1]), (((2, 1), (2, 2), (1, 3)), [2]), (((3, 3), (0, 0), (2, 1)), [2]), (((1, 0), (3, 1), (3, 3)), [2]), (((2, 2), (0, 1), (0, 0)), [2]), (((1, 2), (1, 0), (2, 2)), [2]), (((1, 1), (2, 0), (0, 1)), [2]), (((3, 0), (3, 3), (1, 3)), [1]), (((1, 3), (2, 3), (3, 0)), [2]), (((1, 0), (0, 0), (3, 0)), [1]), (((1, 2), (2, 2), (1, 0)), [1]), (((2, 1), (3, 2), (1, 0)), [1]), (((1, 1), (1, 3), (3, 3)), [1]), (((2, 1), (1, 3), (0, 1)), [2]), (((2, 1), (2, 0), (0, 0)), [1]), (((2, 2), (2, 2), (3, 2)), [1]), (((0, 1), (3, 1), (3, 3)), [2]), (((2, 0), (2, 0), (2, 2)), [1]), (((1, 2), (3, 3), (3, 3)), [1]), (((2, 1), (0, 1), (3, 2)), [2]), (((0, 0), (0, 2), (0, 2)), [2]), (((3, 0), (3, 1), (2, 3)), [2]), (((2, 2), (3, 2), (0, 1)), [2]), (((1, 3), (3, 3), (1, 3)), [1]), (((2, 1), (0, 1), (2, 0)), [2]), (((2, 0), (2, 2), (0, 0)), [1]), (((1, 0), (1, 3), (1, 0)), [1]), (((1, 2), (3, 1), (2, 1)), [2]), (((0, 1), (0, 0), (1, 0)), [2])]\n",
      "[((2, 3), (1, 0), (3, 0)), ((0, 0), (2, 1), (1, 1)), ((0, 3), (2, 2), (2, 1)), ((2, 0), (1, 0), (3, 3)), ((3, 0), (2, 3), (1, 3)), ((2, 3), (0, 1), (0, 3)), ((3, 3), (3, 0), (1, 1)), ((3, 0), (0, 1), (0, 0)), ((2, 3), (1, 3), (1, 1)), ((3, 0), (0, 2), (3, 3)), ((1, 3), (1, 0), (1, 2)), ((2, 0), (3, 0), (3, 3)), ((3, 0), (3, 1), (1, 2)), ((1, 1), (2, 2), (1, 2)), ((0, 3), (0, 1), (0, 0)), ((2, 3), (2, 3), (1, 3)), ((0, 1), (2, 3), (1, 3)), ((0, 3), (2, 3), (0, 1)), ((3, 0), (1, 2), (3, 2)), ((2, 1), (3, 2), (0, 1)), ((0, 1), (0, 3), (1, 1)), ((3, 1), (3, 1), (1, 2)), ((0, 1), (2, 2), (0, 2)), ((3, 0), (2, 0), (3, 0)), ((3, 2), (1, 1), (1, 1)), ((2, 0), (2, 1), (2, 0)), ((3, 0), (1, 2), (1, 2)), ((1, 1), (0, 0), (3, 1)), ((2, 1), (0, 1), (3, 0)), ((2, 3), (0, 3), (1, 3)), ((2, 2), (2, 1), (1, 2)), ((1, 2), (1, 0), (0, 1)), ((3, 2), (1, 0), (3, 1)), ((3, 0), (3, 3), (1, 3)), ((1, 0), (0, 0), (3, 0)), ((1, 2), (2, 2), (1, 0)), ((2, 1), (3, 2), (1, 0)), ((1, 1), (1, 3), (3, 3)), ((2, 1), (2, 0), (0, 0)), ((2, 2), (2, 2), (3, 2)), ((2, 0), (2, 0), (2, 2)), ((1, 2), (3, 3), (3, 3)), ((1, 3), (3, 3), (1, 3)), ((2, 0), (2, 2), (0, 0)), ((1, 0), (1, 3), (1, 0))]\n"
     ]
    }
   ],
   "execution_count": 33
  },
  {
   "cell_type": "markdown",
   "metadata": {
    "id": "j8I58V2VwhSm"
   },
   "source": [
    "### Natural Join\n",
    "\n",
    "**The Map Function:** Для каждого кортежа $(a, b)$ отношения $R$, создайте пару $(b,(R, a))$. Для каждого кортежа $(b, c)$ отношения $S$, создайте пару $(b,(S, c))$.\n",
    "\n",
    "**The Reduce Function:** Каждый ключ $b$ будет асоциирован со списком пар, которые принимают форму либо $(R, a)$, либо $(S, c)$. Создайте все пары, одни, состоящие из  первого компонента $R$, а другие, из первого компонента $S$, то есть $(R, a)$ и $(S, c)$. На выходе вы получаете последовательность пар ключ-значение из списков ключей и значений. Ключ не нужен. Каждое значение, это тройка $(a, b, c)$ такая, что $(R, a)$ и $(S, c)$ это принадлежат входному списку значений."
   ]
  },
  {
   "cell_type": "code",
   "metadata": {
    "colab": {
     "base_uri": "https://localhost:8080/"
    },
    "id": "yHiuuTctw86I",
    "outputId": "44df5b37-09ad-4e8c-99fe-9c14c2d6924d",
    "ExecuteTime": {
     "end_time": "2025-05-05T01:32:14.805393Z",
     "start_time": "2025-05-05T01:32:14.797244Z"
    }
   },
   "source": [
    "rels = [1, 2]\n",
    "class Tuple: # класс кортежа, который хранит данные и имя представления из массива rels выше\n",
    "  def __init__(self, data: tuple, rel_id: int):\n",
    "    self.data = data\n",
    "    self.rel_id = rel_id\n",
    "\n",
    "def get_random_tuple():\n",
    "  data = (random.randint(0, 3), random.randint(0, 3))\n",
    "  rel_id = rels[random.randint(0, len(rels) - 1)]\n",
    "  return Tuple(data, rel_id)\n",
    "\n",
    "\n",
    "def RECORDREADER(count):\n",
    "  return [get_random_tuple() for i in range(count)]\n",
    "\n",
    "def MAP(t: Tuple):\n",
    "  if t.rel_id == rels[0]:\n",
    "    return (t.data[1], (t.rel_id, t.data[0]))\n",
    "  else:\n",
    "    return (t.data[0], (t.rel_id, t.data[1]))\n",
    "\n",
    "def REDUCE(key, values: Iterator[NamedTuple]):\n",
    "  res = []\n",
    "  for v in values:\n",
    "    res.append((v[0], key, v[1]))\n",
    "  return res\n",
    "\n",
    "def group_by_key(iterable):\n",
    "  t = {}\n",
    "  for (k2, v2) in iterable:\n",
    "    t[k2] = t.get(k2, []) + [v2]\n",
    "  return t.items()\n",
    "\n",
    "record = RECORDREADER(100)\n",
    "print(record)\n",
    "map_output = list(map(lambda x: MAP(x), RECORDREADER(100)))\n",
    "print(map_output)\n",
    "\n",
    "shuffle_output = group_by_key(map_output)\n",
    "shuffle_output = list(shuffle_output)\n",
    "\n",
    "print(shuffle_output)\n",
    "\n",
    "reduce_output = list(map(lambda x: REDUCE(*x), shuffle_output))\n",
    "print(reduce_output)"
   ],
   "outputs": [
    {
     "name": "stdout",
     "output_type": "stream",
     "text": [
      "[<__main__.Tuple object at 0x000001FAAC39B980>, <__main__.Tuple object at 0x000001FAABECC4A0>, <__main__.Tuple object at 0x000001FAB6D81310>, <__main__.Tuple object at 0x000001FAB6D83E00>, <__main__.Tuple object at 0x000001FAB6D94830>, <__main__.Tuple object at 0x000001FAB6D940B0>, <__main__.Tuple object at 0x000001FAB6D95460>, <__main__.Tuple object at 0x000001FAB6D942F0>, <__main__.Tuple object at 0x000001FAB6D97C20>, <__main__.Tuple object at 0x000001FAB6D97890>, <__main__.Tuple object at 0x000001FAB6D973B0>, <__main__.Tuple object at 0x000001FAB6D977D0>, <__main__.Tuple object at 0x000001FAB6D97650>, <__main__.Tuple object at 0x000001FAB6D974D0>, <__main__.Tuple object at 0x000001FAB6D974A0>, <__main__.Tuple object at 0x000001FAB6D97470>, <__main__.Tuple object at 0x000001FAB6D961E0>, <__main__.Tuple object at 0x000001FAB6D960C0>, <__main__.Tuple object at 0x000001FAB6D95BB0>, <__main__.Tuple object at 0x000001FAB6D95A60>, <__main__.Tuple object at 0x000001FAB6D95880>, <__main__.Tuple object at 0x000001FAB6D95AF0>, <__main__.Tuple object at 0x000001FAB6D95700>, <__main__.Tuple object at 0x000001FAB6D95A00>, <__main__.Tuple object at 0x000001FAB6D954C0>, <__main__.Tuple object at 0x000001FAB6D970E0>, <__main__.Tuple object at 0x000001FAB6D97110>, <__main__.Tuple object at 0x000001FAB6D95610>, <__main__.Tuple object at 0x000001FAB6D958B0>, <__main__.Tuple object at 0x000001FAB6D94920>, <__main__.Tuple object at 0x000001FAB6D94B30>, <__main__.Tuple object at 0x000001FAB6D94680>, <__main__.Tuple object at 0x000001FAB6D95A90>, <__main__.Tuple object at 0x000001FAB6D950A0>, <__main__.Tuple object at 0x000001FAB6D95730>, <__main__.Tuple object at 0x000001FAB6D94B00>, <__main__.Tuple object at 0x000001FAB6D941D0>, <__main__.Tuple object at 0x000001FAB6D94E60>, <__main__.Tuple object at 0x000001FAB6D94B60>, <__main__.Tuple object at 0x000001FAB6D948F0>, <__main__.Tuple object at 0x000001FAB6D940E0>, <__main__.Tuple object at 0x000001FAB6D947D0>, <__main__.Tuple object at 0x000001FAB6D95C70>, <__main__.Tuple object at 0x000001FAB6D95CA0>, <__main__.Tuple object at 0x000001FAB6D94C50>, <__main__.Tuple object at 0x000001FAB6D95E50>, <__main__.Tuple object at 0x000001FAB6D95DC0>, <__main__.Tuple object at 0x000001FAB6D944D0>, <__main__.Tuple object at 0x000001FAB6D949E0>, <__main__.Tuple object at 0x000001FAB6D955B0>, <__main__.Tuple object at 0x000001FAB6D95790>, <__main__.Tuple object at 0x000001FAB6D95B80>, <__main__.Tuple object at 0x000001FAB6D95670>, <__main__.Tuple object at 0x000001FAB6D96210>, <__main__.Tuple object at 0x000001FAB6D96240>, <__main__.Tuple object at 0x000001FAB6D96270>, <__main__.Tuple object at 0x000001FAB6D962A0>, <__main__.Tuple object at 0x000001FAB6D962D0>, <__main__.Tuple object at 0x000001FAB6D96300>, <__main__.Tuple object at 0x000001FAB6D96330>, <__main__.Tuple object at 0x000001FAB6D96360>, <__main__.Tuple object at 0x000001FAB6D96390>, <__main__.Tuple object at 0x000001FAB6D963C0>, <__main__.Tuple object at 0x000001FAB6D963F0>, <__main__.Tuple object at 0x000001FAB6D96420>, <__main__.Tuple object at 0x000001FAB6D96450>, <__main__.Tuple object at 0x000001FAB6D96480>, <__main__.Tuple object at 0x000001FAB6D964B0>, <__main__.Tuple object at 0x000001FAB6D964E0>, <__main__.Tuple object at 0x000001FAB6D96510>, <__main__.Tuple object at 0x000001FAB6D96570>, <__main__.Tuple object at 0x000001FAB6D965A0>, <__main__.Tuple object at 0x000001FAB6D965D0>, <__main__.Tuple object at 0x000001FAB6D96630>, <__main__.Tuple object at 0x000001FAB6D96600>, <__main__.Tuple object at 0x000001FAB6D96660>, <__main__.Tuple object at 0x000001FAB6D96690>, <__main__.Tuple object at 0x000001FAB6D966C0>, <__main__.Tuple object at 0x000001FAB6D966F0>, <__main__.Tuple object at 0x000001FAB6D96720>, <__main__.Tuple object at 0x000001FAB6D96750>, <__main__.Tuple object at 0x000001FAB6D96780>, <__main__.Tuple object at 0x000001FAB6D967B0>, <__main__.Tuple object at 0x000001FAB6D967E0>, <__main__.Tuple object at 0x000001FAB6D96810>, <__main__.Tuple object at 0x000001FAB6D96840>, <__main__.Tuple object at 0x000001FAB6D96870>, <__main__.Tuple object at 0x000001FAB6D968A0>, <__main__.Tuple object at 0x000001FAB6D968D0>, <__main__.Tuple object at 0x000001FAB6D96900>, <__main__.Tuple object at 0x000001FAB6D96930>, <__main__.Tuple object at 0x000001FAB6D96960>, <__main__.Tuple object at 0x000001FAB6D97920>, <__main__.Tuple object at 0x000001FAB6D97950>, <__main__.Tuple object at 0x000001FAB6D96990>, <__main__.Tuple object at 0x000001FAB6D969F0>, <__main__.Tuple object at 0x000001FAB6D969C0>, <__main__.Tuple object at 0x000001FAB6D96A20>, <__main__.Tuple object at 0x000001FAB6D96A50>, <__main__.Tuple object at 0x000001FAB6D96A80>]\n",
      "[(3, (1, 1)), (0, (2, 1)), (0, (1, 3)), (3, (1, 0)), (3, (1, 0)), (0, (1, 2)), (0, (2, 2)), (1, (2, 0)), (0, (1, 1)), (2, (2, 1)), (3, (2, 3)), (2, (2, 0)), (3, (1, 0)), (1, (2, 3)), (0, (1, 3)), (0, (2, 3)), (0, (2, 3)), (3, (2, 1)), (2, (1, 3)), (1, (2, 0)), (1, (2, 2)), (0, (2, 0)), (0, (1, 0)), (0, (2, 0)), (2, (2, 2)), (0, (1, 3)), (1, (2, 0)), (1, (1, 3)), (2, (1, 3)), (1, (1, 3)), (2, (2, 2)), (1, (1, 2)), (2, (2, 1)), (3, (1, 3)), (2, (2, 0)), (3, (2, 3)), (1, (2, 1)), (0, (2, 1)), (1, (2, 0)), (0, (2, 0)), (1, (2, 3)), (1, (1, 0)), (2, (2, 0)), (0, (1, 0)), (0, (1, 2)), (0, (1, 0)), (1, (2, 0)), (1, (1, 0)), (3, (2, 2)), (0, (1, 3)), (2, (2, 1)), (2, (1, 0)), (3, (2, 2)), (2, (2, 1)), (1, (2, 2)), (1, (2, 2)), (0, (2, 3)), (2, (1, 2)), (2, (1, 2)), (3, (2, 3)), (2, (2, 1)), (3, (2, 1)), (1, (1, 1)), (3, (2, 2)), (2, (2, 3)), (2, (2, 0)), (1, (2, 2)), (1, (2, 2)), (1, (2, 1)), (2, (2, 2)), (0, (2, 2)), (2, (2, 2)), (0, (1, 2)), (0, (1, 3)), (2, (2, 2)), (3, (2, 3)), (3, (2, 3)), (3, (2, 3)), (2, (1, 2)), (0, (2, 0)), (3, (2, 1)), (0, (1, 0)), (1, (2, 0)), (3, (1, 3)), (3, (2, 1)), (3, (1, 0)), (1, (1, 0)), (1, (1, 1)), (0, (1, 1)), (0, (1, 1)), (1, (2, 3)), (0, (2, 3)), (0, (1, 3)), (2, (1, 2)), (0, (2, 2)), (2, (2, 1)), (0, (2, 0)), (2, (1, 2)), (2, (1, 2)), (1, (1, 3))]\n",
      "[(3, [(1, 1), (1, 0), (1, 0), (2, 3), (1, 0), (2, 1), (1, 3), (2, 3), (2, 2), (2, 2), (2, 3), (2, 1), (2, 2), (2, 3), (2, 3), (2, 3), (2, 1), (1, 3), (2, 1), (1, 0)]), (0, [(2, 1), (1, 3), (1, 2), (2, 2), (1, 1), (1, 3), (2, 3), (2, 3), (2, 0), (1, 0), (2, 0), (1, 3), (2, 1), (2, 0), (1, 0), (1, 2), (1, 0), (1, 3), (2, 3), (2, 2), (1, 2), (1, 3), (2, 0), (1, 0), (1, 1), (1, 1), (2, 3), (1, 3), (2, 2), (2, 0)]), (1, [(2, 0), (2, 3), (2, 0), (2, 2), (2, 0), (1, 3), (1, 3), (1, 2), (2, 1), (2, 0), (2, 3), (1, 0), (2, 0), (1, 0), (2, 2), (2, 2), (1, 1), (2, 2), (2, 2), (2, 1), (2, 0), (1, 0), (1, 1), (2, 3), (1, 3)]), (2, [(2, 1), (2, 0), (1, 3), (2, 2), (1, 3), (2, 2), (2, 1), (2, 0), (2, 0), (2, 1), (1, 0), (2, 1), (1, 2), (1, 2), (2, 1), (2, 3), (2, 0), (2, 2), (2, 2), (2, 2), (1, 2), (1, 2), (2, 1), (1, 2), (1, 2)])]\n",
      "[[(1, 3, 1), (1, 3, 0), (1, 3, 0), (2, 3, 3), (1, 3, 0), (2, 3, 1), (1, 3, 3), (2, 3, 3), (2, 3, 2), (2, 3, 2), (2, 3, 3), (2, 3, 1), (2, 3, 2), (2, 3, 3), (2, 3, 3), (2, 3, 3), (2, 3, 1), (1, 3, 3), (2, 3, 1), (1, 3, 0)], [(2, 0, 1), (1, 0, 3), (1, 0, 2), (2, 0, 2), (1, 0, 1), (1, 0, 3), (2, 0, 3), (2, 0, 3), (2, 0, 0), (1, 0, 0), (2, 0, 0), (1, 0, 3), (2, 0, 1), (2, 0, 0), (1, 0, 0), (1, 0, 2), (1, 0, 0), (1, 0, 3), (2, 0, 3), (2, 0, 2), (1, 0, 2), (1, 0, 3), (2, 0, 0), (1, 0, 0), (1, 0, 1), (1, 0, 1), (2, 0, 3), (1, 0, 3), (2, 0, 2), (2, 0, 0)], [(2, 1, 0), (2, 1, 3), (2, 1, 0), (2, 1, 2), (2, 1, 0), (1, 1, 3), (1, 1, 3), (1, 1, 2), (2, 1, 1), (2, 1, 0), (2, 1, 3), (1, 1, 0), (2, 1, 0), (1, 1, 0), (2, 1, 2), (2, 1, 2), (1, 1, 1), (2, 1, 2), (2, 1, 2), (2, 1, 1), (2, 1, 0), (1, 1, 0), (1, 1, 1), (2, 1, 3), (1, 1, 3)], [(2, 2, 1), (2, 2, 0), (1, 2, 3), (2, 2, 2), (1, 2, 3), (2, 2, 2), (2, 2, 1), (2, 2, 0), (2, 2, 0), (2, 2, 1), (1, 2, 0), (2, 2, 1), (1, 2, 2), (1, 2, 2), (2, 2, 1), (2, 2, 3), (2, 2, 0), (2, 2, 2), (2, 2, 2), (2, 2, 2), (1, 2, 2), (1, 2, 2), (2, 2, 1), (1, 2, 2), (1, 2, 2)]]\n"
     ]
    }
   ],
   "execution_count": 34
  },
  {
   "cell_type": "markdown",
   "metadata": {
    "id": "kYdlr0YUxE27"
   },
   "source": [
    "### Grouping and Aggregation (Группировка и аггрегация)\n",
    "\n",
    "**The Map Function:** Для каждого кортежа $(a, b, c$) создайте пару $(a, b)$.\n",
    "\n",
    "**The Reduce Function:** Ключ представляет ту или иную группу. Примение аггрегирующую операцию $\\theta$ к списку значений $[b1, b2, . . . , bn]$ ассоциированных с ключом $a$. Возвращайте в выходной поток $(a, x)$, где $x$ результат применения  $\\theta$ к списку. Например, если $\\theta$ это $SUM$, тогда $x = b1 + b2 + · · · + bn$, а если $\\theta$ is $MAX$, тогда $x$ это максимальное из значений $b1, b2, . . . , bn$."
   ]
  },
  {
   "cell_type": "code",
   "metadata": {
    "colab": {
     "base_uri": "https://localhost:8080/"
    },
    "id": "MLPckfEGxico",
    "outputId": "798fe3a0-3aa1-4e60-c98f-92a49cee93ec",
    "ExecuteTime": {
     "end_time": "2025-05-05T01:32:18.267548Z",
     "start_time": "2025-05-05T01:32:18.260721Z"
    }
   },
   "source": [
    "def get_random_tuple():\n",
    "  return (random.randint(0, 3), random.randint(0, 3), random.randint(0, 3))\n",
    "\n",
    "def RECORDREADER(count):\n",
    "  return [get_random_tuple() for i in range(count)]\n",
    "\n",
    "def MAP(t: Tuple):\n",
    "  return (t[0], t[1])\n",
    "\n",
    "def tetta(values):\n",
    "  return sum(values)\n",
    "\n",
    "\n",
    "def REDUCE(key, values: Iterator[NamedTuple]):\n",
    "  x = tetta(values)\n",
    "  return (key, x)\n",
    "\n",
    "def group_by_key(iterable):\n",
    "  t = {}\n",
    "  for (k2, v2) in iterable:\n",
    "    t[k2] = t.get(k2, []) + [v2]\n",
    "  return t.items()\n",
    "\n",
    "record = RECORDREADER(100)\n",
    "print(record)\n",
    "map_output = list(map(lambda x: MAP(x), RECORDREADER(100)))\n",
    "print(map_output)\n",
    "\n",
    "shuffle_output = group_by_key(map_output)\n",
    "shuffle_output = list(shuffle_output)\n",
    "\n",
    "print(shuffle_output)\n",
    "\n",
    "reduce_output = list(map(lambda x: REDUCE(*x), shuffle_output))\n",
    "print(reduce_output)"
   ],
   "outputs": [
    {
     "name": "stdout",
     "output_type": "stream",
     "text": [
      "[(2, 1, 1), (2, 2, 0), (1, 0, 1), (3, 2, 2), (3, 3, 3), (0, 0, 1), (3, 0, 1), (3, 2, 1), (1, 0, 0), (1, 1, 2), (1, 3, 2), (3, 3, 1), (3, 2, 1), (2, 0, 2), (1, 1, 1), (0, 2, 1), (0, 3, 3), (3, 2, 0), (3, 3, 3), (2, 2, 2), (1, 2, 2), (3, 3, 1), (1, 3, 3), (2, 3, 2), (0, 2, 0), (1, 1, 1), (0, 0, 1), (0, 2, 2), (2, 1, 0), (1, 2, 2), (3, 3, 0), (1, 0, 1), (0, 2, 2), (1, 2, 3), (3, 0, 0), (3, 0, 3), (3, 1, 3), (3, 2, 1), (1, 2, 1), (1, 1, 2), (3, 2, 0), (3, 2, 2), (3, 1, 3), (2, 2, 3), (0, 0, 0), (3, 3, 3), (0, 0, 2), (2, 2, 1), (2, 1, 0), (3, 0, 2), (3, 1, 2), (1, 3, 2), (0, 1, 0), (1, 3, 1), (3, 3, 2), (3, 3, 0), (1, 2, 1), (3, 3, 3), (3, 2, 1), (1, 1, 2), (3, 3, 0), (3, 0, 1), (1, 3, 0), (3, 0, 1), (0, 2, 3), (0, 1, 2), (3, 2, 0), (2, 3, 2), (1, 2, 2), (1, 3, 0), (2, 2, 1), (2, 3, 2), (0, 2, 2), (0, 3, 2), (2, 3, 0), (1, 1, 1), (0, 1, 2), (2, 3, 0), (2, 3, 1), (1, 0, 1), (3, 3, 1), (3, 2, 0), (2, 0, 3), (3, 1, 1), (0, 0, 3), (1, 2, 1), (0, 2, 2), (3, 1, 0), (2, 0, 3), (0, 0, 3), (3, 1, 2), (0, 1, 2), (0, 0, 1), (1, 1, 3), (3, 3, 3), (2, 3, 0), (1, 1, 3), (2, 2, 1), (0, 1, 3), (3, 3, 1)]\n",
      "[(0, 2), (0, 3), (1, 0), (0, 2), (2, 3), (0, 3), (2, 1), (1, 3), (1, 2), (3, 1), (1, 3), (0, 3), (2, 3), (2, 3), (3, 2), (0, 1), (2, 3), (0, 2), (0, 3), (0, 2), (0, 2), (0, 3), (1, 2), (1, 0), (2, 1), (0, 3), (0, 1), (1, 3), (3, 1), (0, 1), (2, 3), (3, 1), (2, 2), (3, 0), (2, 3), (3, 1), (3, 2), (0, 1), (3, 0), (1, 0), (2, 2), (1, 3), (2, 3), (1, 0), (0, 0), (2, 2), (0, 1), (2, 3), (0, 0), (0, 3), (0, 1), (0, 2), (3, 3), (1, 0), (0, 3), (1, 1), (3, 3), (1, 1), (2, 3), (0, 1), (2, 3), (2, 1), (1, 3), (3, 0), (2, 2), (1, 3), (1, 1), (2, 3), (3, 0), (1, 1), (1, 0), (3, 1), (2, 1), (0, 2), (1, 2), (3, 3), (0, 0), (0, 3), (2, 2), (1, 2), (1, 3), (2, 0), (1, 0), (1, 1), (3, 3), (1, 2), (0, 2), (3, 2), (3, 2), (2, 0), (3, 2), (3, 3), (0, 1), (2, 0), (0, 0), (3, 3), (1, 3), (0, 0), (2, 1), (0, 1)]\n",
      "[(0, [2, 3, 2, 3, 3, 1, 2, 3, 2, 2, 3, 3, 1, 1, 1, 0, 1, 0, 3, 1, 2, 3, 1, 2, 0, 3, 2, 1, 0, 0, 1]), (1, [0, 3, 2, 3, 2, 0, 3, 0, 3, 0, 0, 1, 1, 3, 3, 1, 1, 0, 2, 2, 3, 0, 1, 2, 3]), (2, [3, 1, 3, 3, 3, 1, 3, 2, 3, 2, 3, 2, 3, 3, 3, 1, 2, 3, 1, 2, 0, 0, 0, 1]), (3, [1, 2, 1, 1, 0, 1, 2, 0, 3, 3, 0, 0, 1, 3, 3, 2, 2, 2, 3, 3])]\n",
      "[(0, 52), (1, 39), (2, 48), (3, 33)]\n"
     ]
    }
   ],
   "execution_count": 35
  },
  {
   "cell_type": "markdown",
   "metadata": {
    "id": "03IffTEOJgOb"
   },
   "source": [
    "#"
   ]
  },
  {
   "cell_type": "markdown",
   "metadata": {
    "id": "IIrRgvG4RIS4"
   },
   "source": [
    "### Matrix-Vector multiplication\n",
    "\n",
    "Случай, когда вектор не помещается в памяти Map задачи\n"
   ]
  },
  {
   "cell_type": "code",
   "execution_count": null,
   "metadata": {
    "id": "KQhDbiL3zS9r"
   },
   "outputs": [],
   "source": []
  },
  {
   "cell_type": "markdown",
   "metadata": {
    "id": "GIo2t7nNxvA9"
   },
   "source": [
    "## Matrix multiplication (Перемножение матриц)\n",
    "\n",
    "Если у нас есть матрица $M$ с элементами $m_{ij}$ в строке $i$ и столбце $j$, и матрица $N$ с элементами $n_{jk}$ в строке $j$ и столбце $k$, тогда их произведение $P = MN$ есть матрица $P$ с элементами $p_{ik}$ в строке $i$ и столбце $k$, где\n",
    "\n",
    "$$p_{ik} =\\sum_{j} m_{ij}n_{jk}$$\n",
    "\n",
    "Необходимым требованием является одинаковое количество столбцов в $M$ и строк в $N$, чтобы операция суммирования по  $j$ была осмысленной. Мы можем размышлять о матрице, как об отношении с тремя атрибутами: номер строки, номер столбца, само значение. Таким образом матрица $M$ предстваляется как отношение $ M(I, J, V )$, с кортежами $(i, j, m_{ij})$, и, аналогично, матрица $N$ представляется как отношение $N(J, K, W)$, с кортежами $(j, k, n_{jk})$. Так как большие матрицы как правило разреженные (большинство значений равно 0), и так как мы можем нулевыми значениями пренебречь (не хранить), такое реляционное представление достаточно эффективно для больших матриц. Однако, возможно, что координаты $i$, $j$, и $k$ неявно закодированы в смещение позиции элемента относительно начала файла, вместо явного хранения. Тогда, функция Map (или Reader) должна быть разработана таким образом, чтобы реконструировать компоненты $I$, $J$, и $K$ кортежей из смещения.\n",
    "\n",
    "Произведение $MN$ это фактически join, за которым следуют группировка по ключу и аггрегация. Таким образом join отношений $M(I, J, V )$ и $N(J, K, W)$, имеющих общим только атрибут $J$, создаст кортежи $(i, j, k, v, w)$ из каждого кортежа $(i, j, v) \\in M$ и кортежа $(j, k, w) \\in N$. Такой 5 компонентный кортеж представляет пару элементов матрицы $(m_{ij} , n_{jk})$. Что нам хотелось бы получить на самом деле, это произведение этих элементов, то есть, 4 компонентный кортеж$(i, j, k, v \\times w)$, так как он представляет произведение $m_{ij}n_{jk}$. Мы представляем отношение как результат одной MapReduce операции, в которой мы можем произвести группировку и аггрегацию, с $I$ и $K$  атрибутами, по которым идёт группировка, и суммой  $V \\times W$.\n",
    "\n",
    "\n",
    "\n"
   ]
  },
  {
   "cell_type": "code",
   "metadata": {
    "id": "1MBkGaLAYVCt",
    "ExecuteTime": {
     "end_time": "2025-05-05T01:32:23.308630Z",
     "start_time": "2025-05-05T01:32:23.304756Z"
    }
   },
   "source": [
    "# MapReduce model\n",
    "def flatten(nested_iterable):\n",
    "  for iterable in nested_iterable:\n",
    "    for element in iterable:\n",
    "      yield element\n",
    "\n",
    "def groupbykey(iterable):\n",
    "  t = {}\n",
    "  for (k2, v2) in iterable:\n",
    "    t[k2] = t.get(k2, []) + [v2]\n",
    "  return t.items()\n",
    "\n",
    "def MapReduce(RECORDREADER, MAP, REDUCE):\n",
    "  return flatten(map(lambda x: REDUCE(*x), groupbykey(flatten(map(lambda x: MAP(*x), RECORDREADER())))))"
   ],
   "outputs": [],
   "execution_count": 36
  },
  {
   "cell_type": "markdown",
   "metadata": {
    "id": "sMspsOT0ZB35"
   },
   "source": [
    "Реализуйте перемножение матриц с использованием модельного кода MapReduce для одной машины в случае, когда одна матрица хранится в памяти, а другая генерируется RECORDREADER-ом."
   ]
  },
  {
   "cell_type": "code",
   "metadata": {
    "id": "psP1XekbsEjS",
    "ExecuteTime": {
     "end_time": "2025-05-05T01:32:26.804671Z",
     "start_time": "2025-05-05T01:32:26.799560Z"
    }
   },
   "source": [
    "import numpy as np\n",
    "I = 2\n",
    "J = 3\n",
    "K = 4*10\n",
    "small_mat = np.random.rand(I,J)\n",
    "big_mat = np.random.rand(J,K)\n",
    "\n",
    "def RECORDREADER():\n",
    "  for j in range(big_mat.shape[0]):\n",
    "    for k in range(big_mat.shape[1]):\n",
    "      yield ((j, k), big_mat[j,k])\n",
    "\n",
    "def MAP(k1, v1):\n",
    "  (j, k) = k1\n",
    "  w = v1\n",
    "  for i in range(small_mat.shape[0]):\n",
    "    yield ((i, k), w * small_mat[i][j])\n",
    "\n",
    "def REDUCE(key, values):\n",
    "  (i, k) = key\n",
    "  el_value = 0\n",
    "  for v in values:\n",
    "    el_value += v\n",
    "  yield ((i, k), el_value)"
   ],
   "outputs": [],
   "execution_count": 37
  },
  {
   "cell_type": "markdown",
   "metadata": {
    "id": "rnt306LHhHrm"
   },
   "source": [
    "Проверьте своё решение"
   ]
  },
  {
   "cell_type": "code",
   "metadata": {
    "colab": {
     "base_uri": "https://localhost:8080/"
    },
    "id": "Ewy_ZNYqW5a2",
    "outputId": "b70a696d-8fa9-4940-a6a7-8183af3a3893",
    "ExecuteTime": {
     "end_time": "2025-05-05T01:32:43.860315Z",
     "start_time": "2025-05-05T01:32:43.853835Z"
    }
   },
   "source": [
    "reference_solution = np.matmul(small_mat, big_mat)\n",
    "solution = MapReduce(RECORDREADER, MAP, REDUCE)\n",
    "\n",
    "def asmatrix(reduce_output):\n",
    "  reduce_output = list(reduce_output)\n",
    "  I = max(i for ((i,k), vw) in reduce_output)+1\n",
    "  K = max(k for ((i,k), vw) in reduce_output)+1\n",
    "  mat = np.empty(shape=(I,K))\n",
    "  for ((i,k), vw) in reduce_output:\n",
    "    mat[i,k] = vw\n",
    "  return mat\n",
    "\n",
    "np.allclose(reference_solution, asmatrix(solution)) "
   ],
   "outputs": [
    {
     "data": {
      "text/plain": [
       "True"
      ]
     },
     "execution_count": 38,
     "metadata": {},
     "output_type": "execute_result"
    }
   ],
   "execution_count": 38
  },
  {
   "cell_type": "code",
   "metadata": {
    "colab": {
     "base_uri": "https://localhost:8080/"
    },
    "id": "TK7v4CEcfxqf",
    "outputId": "80c5f156-ef28-4eda-e568-9a60af8694ce",
    "ExecuteTime": {
     "end_time": "2025-05-05T01:32:50.090849Z",
     "start_time": "2025-05-05T01:32:50.086406Z"
    }
   },
   "source": [
    "reduce_output = list(MapReduce(RECORDREADER, MAP, REDUCE))\n",
    "max(i for ((i,k), vw) in reduce_output)"
   ],
   "outputs": [
    {
     "data": {
      "text/plain": [
       "1"
      ]
     },
     "execution_count": 39,
     "metadata": {},
     "output_type": "execute_result"
    }
   ],
   "execution_count": 39
  },
  {
   "cell_type": "markdown",
   "metadata": {
    "id": "i4yyg3kOZqJJ"
   },
   "source": [
    "Реализуйте перемножение матриц  с использованием модельного кода MapReduce для одной машины в случае, когда обе матрицы генерируются в RECORDREADER. Например, сначала одна, а потом другая."
   ]
  },
  {
   "cell_type": "code",
   "metadata": {
    "colab": {
     "base_uri": "https://localhost:8080/"
    },
    "id": "3B7rIAJCaHZq",
    "outputId": "bc583b0c-8f00-4ed2-c8d3-aa7c80afee0c",
    "ExecuteTime": {
     "end_time": "2025-05-05T01:32:55.823079Z",
     "start_time": "2025-05-05T01:32:55.811928Z"
    }
   },
   "source": [
    "import numpy as np\n",
    "I = 2\n",
    "J = 3\n",
    "K = 4*10\n",
    "small_mat = np.random.rand(I,J)\n",
    "big_mat = np.random.rand(J,K)\n",
    "reference_solution = np.matmul(small_mat, big_mat)\n",
    "\n",
    "def RECORDREADER():\n",
    "  for i in range(small_mat.shape[0]):\n",
    "    for j in range(small_mat.shape[1]):\n",
    "      yield ((0, i, j), small_mat[i,j]) \n",
    "\n",
    "  for j in range(big_mat.shape[0]):\n",
    "    for k in range(big_mat.shape[1]):\n",
    "      yield ((1, j, k), big_mat[j,k]) \n",
    "\n",
    "def MAP_JOIN(k1, v1):\n",
    "  (mat_num, i, j) = k1\n",
    "  w = v1\n",
    "  if mat_num == 0:\n",
    "    yield (j, (mat_num, i, w))\n",
    "  else:\n",
    "    yield (i, (mat_num, j, w))\n",
    "\n",
    "\n",
    "def REDUCE_JOIN(key, values):\n",
    "  from_first_mat = [v for v in values if v[0] == 0]\n",
    "  from_second_mat = [v for v in values if v[0] == 1]\n",
    "  for f in from_first_mat:\n",
    "    for s in from_second_mat:\n",
    "      yield ((f[1], s[1]), f[2] * s[2])\n",
    "\n",
    "\n",
    "def MAP_MUL(k1, v1):\n",
    "  (i, k) = k1\n",
    "  yield ((i, k), v1)\n",
    "\n",
    "\n",
    "def REDUCE_MUL(key, values):\n",
    "  res_el_value = 0\n",
    "  for v in values:\n",
    "    res_el_value += v\n",
    "  yield (key, res_el_value)\n",
    "\n",
    "\n",
    "def GET_JOINED():\n",
    "  for j in joined:\n",
    "    yield j\n",
    "\n",
    "joined = MapReduce(RECORDREADER, MAP_JOIN, REDUCE_JOIN)\n",
    "solution = MapReduce(GET_JOINED, MAP_MUL, REDUCE_MUL)\n",
    "np.allclose(reference_solution, asmatrix(solution)) # should return true"
   ],
   "outputs": [
    {
     "data": {
      "text/plain": [
       "True"
      ]
     },
     "execution_count": 40,
     "metadata": {},
     "output_type": "execute_result"
    }
   ],
   "execution_count": 40
  },
  {
   "cell_type": "markdown",
   "metadata": {
    "id": "mXyzQi1DaIwo"
   },
   "source": [
    "Реализуйте перемножение матриц с использованием модельного кода MapReduce Distributed, когда каждая матрица генерируется в своём RECORDREADER."
   ]
  },
  {
   "cell_type": "code",
   "execution_count": null,
   "metadata": {
    "colab": {
     "base_uri": "https://localhost:8080/"
    },
    "id": "TDM_s78Rb5eR",
    "outputId": "b1b15bdd-541f-4d09-b155-ec16db5b905e"
   },
   "outputs": [
    {
     "name": "stdout",
     "output_type": "stream",
     "text": [
      "126 key-value pairs were sent over a network.\n",
      "[(0, [((0, 0), 0.013998545059063125), ((0, 1), 0.006146411005643418), ((0, 2), 0.0013094070280139968), ((0, 3), 0.006761229708196888), ((0, 4), 0.001640529289576924), ((0, 5), 0.002799185187369619), ((0, 6), 0.0105191523833935), ((0, 7), 0.0013711064884254377), ((0, 8), 0.013411951239838366), ((0, 9), 0.005426143970943269), ((0, 10), 0.007609049702543101), ((0, 11), 0.006972608712276354), ((0, 12), 0.003454543044118363), ((0, 13), 0.013734923700417226), ((0, 14), 0.00011522547046654885), ((0, 15), 0.009908856673628218), ((0, 16), 0.012300277275695567), ((0, 17), 0.013799111322498551), ((0, 18), 0.013437119711956177), ((0, 19), 0.0017433486286859733), ((0, 20), 0.0010128292848794714), ((0, 21), 0.004086297228970294), ((0, 22), 0.0003102038136482358), ((0, 23), 0.005563291398424726), ((0, 24), 0.0005735526644171284), ((0, 25), 0.01207463764694144), ((0, 26), 0.011518737208141352), ((0, 27), 0.010662534328019476), ((0, 28), 0.008448857997781917), ((0, 29), 0.005187936973873036), ((0, 30), 0.0035696083947617005), ((0, 31), 0.0028641525158209767), ((0, 32), 0.0010862624579781185), ((0, 33), 0.0003418553453386167), ((0, 34), 0.010643621526182881), ((0, 35), 0.005801520521354021), ((0, 36), 0.012334521167428182), ((0, 37), 0.006268822816143237), ((0, 38), 0.012567039556183077), ((0, 39), 0.008848954634097324), ((1, 0), 0.8209462838707906), ((1, 1), 0.3604569798458181), ((1, 2), 0.07679032565076657), ((1, 3), 0.39651309331946444), ((1, 4), 0.09620902873669784), ((1, 5), 0.16415853702949382), ((1, 6), 0.616896900512275), ((1, 7), 0.08040869759784343), ((1, 8), 0.7865454219239013), ((1, 9), 0.3182168368140325), ((1, 10), 0.44623359432962156), ((1, 11), 0.4089094393079354), ((1, 12), 0.20259207386017172), ((1, 13), 0.8054861789944482), ((1, 14), 0.006757410958614842), ((1, 15), 0.581106038470529), ((1, 16), 0.7213511745297352), ((1, 17), 0.8092504694686251), ((1, 18), 0.7880214298639154), ((1, 19), 0.10223888069598953), ((1, 20), 0.059397489818342614), ((1, 21), 0.23964137063964175), ((1, 22), 0.018191938303773265), ((1, 23), 0.32625986346132296), ((1, 24), 0.033636061924348655), ((1, 25), 0.7081185125682156), ((1, 26), 0.6755176674439854), ((1, 27), 0.6253055511340518), ((1, 28), 0.49548424832482413), ((1, 29), 0.3042471600932208), ((1, 30), 0.20934009457335143), ((1, 31), 0.16796855347335446), ((1, 32), 0.0637039866945408), ((1, 33), 0.020048146017532326), ((1, 34), 0.6241964076966569), ((1, 35), 0.34023083775568236), ((1, 36), 0.7233594114961165), ((1, 37), 0.36763583454162513), ((1, 38), 0.7369954791284716), ((1, 39), 0.5189479615454836), ((0, 0), 0.23438804103108238), ((0, 1), 0.017137264226021524), ((0, 2), 0.20335457446823096), ((0, 3), 0.023508080878235086), ((0, 4), 0.4278262002649454), ((0, 5), 0.48889438633944365), ((0, 6), 0.2935860677973556), ((0, 7), 0.5050979615941361), ((0, 8), 0.06935631410580015), ((0, 9), 0.00048444711622495776), ((0, 10), 0.49797655290978116), ((0, 11), 0.18309022677487521), ((0, 12), 0.3649542280550704), ((0, 13), 0.25881227589887124), ((0, 14), 0.1462718696444861), ((0, 15), 0.02869760459826969), ((0, 16), 0.28959156607131153), ((0, 17), 0.38910403651100384), ((0, 18), 0.28837462042637), ((0, 19), 0.5242014803483825), ((0, 20), 0.2692063731873702), ((0, 21), 0.15517554612512174), ((0, 22), 0.23318609371149646), ((0, 23), 0.12323694916580251), ((0, 24), 0.35024751134949683), ((0, 25), 0.2756943511100371), ((0, 26), 0.1913264105499605), ((0, 27), 0.381943557517119), ((0, 28), 0.16295848867064208), ((0, 29), 0.3280189193634425), ((0, 30), 0.051099897880585735), ((0, 31), 0.44699997001497255), ((0, 32), 0.3138039647617423), ((0, 33), 0.4927306542206963), ((0, 34), 0.06636913693358974), ((0, 35), 0.4066468003156872), ((0, 36), 0.48087991293086224), ((0, 37), 0.36950421146755824), ((0, 38), 0.28125115110886956), ((0, 39), 0.29898654191391166), ((1, 0), 0.10625999514587947), ((1, 1), 0.0077691916595233465), ((1, 2), 0.09219094967827772), ((1, 3), 0.010657406192831079), ((1, 4), 0.19395533050000857), ((1, 5), 0.22164063870642567), ((1, 6), 0.1330974652196861), ((1, 7), 0.2289865417667323), ((1, 8), 0.03144273729921699), ((1, 9), 0.000219624465446481), ((1, 10), 0.22575804576965613), ((1, 11), 0.08300409237080593), ((1, 12), 0.16545227448894168), ((1, 13), 0.11733274044071683), ((1, 14), 0.06631246240221214), ((1, 15), 0.013010080684560698), ((1, 16), 0.13128655485005952), ((1, 17), 0.17640060836302832), ((1, 18), 0.13073485162426596), ((1, 19), 0.23764713639931534), ((1, 20), 0.12204491228431029), ((1, 21), 0.07034895084868267), ((1, 22), 0.1057150914221956), ((1, 23), 0.05586956383331268), ((1, 24), 0.15878497338061068), ((1, 25), 0.12498624196792557), ((1, 26), 0.08673797249588054), ((1, 27), 0.17315439981166508), ((1, 28), 0.07387735372055948), ((1, 29), 0.1487076244418709), ((1, 30), 0.02316617723694323), ((1, 31), 0.2026477734745028), ((1, 32), 0.1422632640541528), ((1, 33), 0.22337981364319703), ((1, 34), 0.03008849827566174), ((1, 35), 0.1843536335623121), ((1, 36), 0.21800727114319018), ((1, 37), 0.16751501289998832), ((1, 38), 0.12750542143759935), ((1, 39), 0.1355457742327496)]), (1, [((0, 0), 0.10081141971317066), ((0, 1), 0.08830532819004047), ((0, 2), 0.07307535503236318), ((0, 3), 0.17924015061356272), ((0, 4), 0.10567121550373501), ((0, 5), 0.05815456105781246), ((0, 6), 0.04684439132974166), ((0, 7), 0.09122923622272457), ((0, 8), 0.005549859104590213), ((0, 9), 0.08762651348373746), ((0, 10), 0.13244473845560759), ((0, 11), 0.03716659601179695), ((0, 12), 0.06746354831866573), ((0, 13), 0.03410516664551607), ((0, 14), 0.09270376751768347), ((0, 15), 0.19531891306322863), ((0, 16), 0.047693380630196895), ((0, 17), 0.12548746962409663), ((0, 18), 0.19234353801936593), ((0, 19), 0.12895323984004786), ((0, 20), 0.12005229489674162), ((0, 21), 0.18698864909772317), ((0, 22), 0.1127333203335673), ((0, 23), 0.025994237150964092), ((0, 24), 0.07792329549613822), ((0, 25), 0.11879987257613812), ((0, 26), 0.15449988604938938), ((0, 27), 0.006518657078524871), ((0, 28), 0.04114211227262115), ((0, 29), 0.12824052642348313), ((0, 30), 0.15885689727293267), ((0, 31), 0.028696509921714783), ((0, 32), 0.1769817608059509), ((0, 33), 0.09275368675516549), ((0, 34), 0.13585200848389573), ((0, 35), 0.00671505065860508), ((0, 36), 0.031863776216918764), ((0, 37), 0.03837247665136558), ((0, 38), 0.09098785726104656), ((0, 39), 0.18947815490305406), ((1, 0), 0.44475784755261555), ((1, 1), 0.3895837178463883), ((1, 2), 0.322392420479829), ((1, 3), 0.790768186865241), ((1, 4), 0.4661981994641985), ((1, 5), 0.25656515377950473), ((1, 6), 0.2066671684319744), ((1, 7), 0.40248335805340424), ((1, 8), 0.02448475972861782), ((1, 9), 0.38658893641665165), ((1, 10), 0.5843171037843178), ((1, 11), 0.1639708605443321), ((1, 12), 0.29763436150231704), ((1, 13), 0.1504645064104902), ((1, 14), 0.4089886663484447), ((1, 15), 0.8617041562104774), ((1, 16), 0.21041272280408826), ((1, 17), 0.5536231613802565), ((1, 18), 0.8485774548512934), ((1, 19), 0.5689133785574781), ((1, 20), 0.5296443639415475), ((1, 21), 0.8249528607581896), ((1, 22), 0.4973546552729126), ((1, 23), 0.1146808664824765), ((1, 24), 0.343780469292816), ((1, 25), 0.5241189516705635), ((1, 26), 0.6816195720877584), ((1, 27), 0.028758883660474525), ((1, 28), 0.18150996534124222), ((1, 29), 0.5657690434615625), ((1, 30), 0.7008417488913308), ((1, 31), 0.12660270058062384), ((1, 32), 0.7808046669324197), ((1, 33), 0.4092088990629243), ((1, 34), 0.5993492309790704), ((1, 35), 0.029625329011588), ((1, 36), 0.14057598400514873), ((1, 37), 0.16929094113823576), ((1, 38), 0.4014184470765939), ((1, 39), 0.8359360137243813)])]\n",
      "aa (0, [((0, 0), 0.013998545059063125), ((0, 1), 0.006146411005643418), ((0, 2), 0.0013094070280139968), ((0, 3), 0.006761229708196888), ((0, 4), 0.001640529289576924), ((0, 5), 0.002799185187369619), ((0, 6), 0.0105191523833935), ((0, 7), 0.0013711064884254377), ((0, 8), 0.013411951239838366), ((0, 9), 0.005426143970943269), ((0, 10), 0.007609049702543101), ((0, 11), 0.006972608712276354), ((0, 12), 0.003454543044118363), ((0, 13), 0.013734923700417226), ((0, 14), 0.00011522547046654885), ((0, 15), 0.009908856673628218), ((0, 16), 0.012300277275695567), ((0, 17), 0.013799111322498551), ((0, 18), 0.013437119711956177), ((0, 19), 0.0017433486286859733), ((0, 20), 0.0010128292848794714), ((0, 21), 0.004086297228970294), ((0, 22), 0.0003102038136482358), ((0, 23), 0.005563291398424726), ((0, 24), 0.0005735526644171284), ((0, 25), 0.01207463764694144), ((0, 26), 0.011518737208141352), ((0, 27), 0.010662534328019476), ((0, 28), 0.008448857997781917), ((0, 29), 0.005187936973873036), ((0, 30), 0.0035696083947617005), ((0, 31), 0.0028641525158209767), ((0, 32), 0.0010862624579781185), ((0, 33), 0.0003418553453386167), ((0, 34), 0.010643621526182881), ((0, 35), 0.005801520521354021), ((0, 36), 0.012334521167428182), ((0, 37), 0.006268822816143237), ((0, 38), 0.012567039556183077), ((0, 39), 0.008848954634097324), ((1, 0), 0.8209462838707906), ((1, 1), 0.3604569798458181), ((1, 2), 0.07679032565076657), ((1, 3), 0.39651309331946444), ((1, 4), 0.09620902873669784), ((1, 5), 0.16415853702949382), ((1, 6), 0.616896900512275), ((1, 7), 0.08040869759784343), ((1, 8), 0.7865454219239013), ((1, 9), 0.3182168368140325), ((1, 10), 0.44623359432962156), ((1, 11), 0.4089094393079354), ((1, 12), 0.20259207386017172), ((1, 13), 0.8054861789944482), ((1, 14), 0.006757410958614842), ((1, 15), 0.581106038470529), ((1, 16), 0.7213511745297352), ((1, 17), 0.8092504694686251), ((1, 18), 0.7880214298639154), ((1, 19), 0.10223888069598953), ((1, 20), 0.059397489818342614), ((1, 21), 0.23964137063964175), ((1, 22), 0.018191938303773265), ((1, 23), 0.32625986346132296), ((1, 24), 0.033636061924348655), ((1, 25), 0.7081185125682156), ((1, 26), 0.6755176674439854), ((1, 27), 0.6253055511340518), ((1, 28), 0.49548424832482413), ((1, 29), 0.3042471600932208), ((1, 30), 0.20934009457335143), ((1, 31), 0.16796855347335446), ((1, 32), 0.0637039866945408), ((1, 33), 0.020048146017532326), ((1, 34), 0.6241964076966569), ((1, 35), 0.34023083775568236), ((1, 36), 0.7233594114961165), ((1, 37), 0.36763583454162513), ((1, 38), 0.7369954791284716), ((1, 39), 0.5189479615454836), ((0, 0), 0.23438804103108238), ((0, 1), 0.017137264226021524), ((0, 2), 0.20335457446823096), ((0, 3), 0.023508080878235086), ((0, 4), 0.4278262002649454), ((0, 5), 0.48889438633944365), ((0, 6), 0.2935860677973556), ((0, 7), 0.5050979615941361), ((0, 8), 0.06935631410580015), ((0, 9), 0.00048444711622495776), ((0, 10), 0.49797655290978116), ((0, 11), 0.18309022677487521), ((0, 12), 0.3649542280550704), ((0, 13), 0.25881227589887124), ((0, 14), 0.1462718696444861), ((0, 15), 0.02869760459826969), ((0, 16), 0.28959156607131153), ((0, 17), 0.38910403651100384), ((0, 18), 0.28837462042637), ((0, 19), 0.5242014803483825), ((0, 20), 0.2692063731873702), ((0, 21), 0.15517554612512174), ((0, 22), 0.23318609371149646), ((0, 23), 0.12323694916580251), ((0, 24), 0.35024751134949683), ((0, 25), 0.2756943511100371), ((0, 26), 0.1913264105499605), ((0, 27), 0.381943557517119), ((0, 28), 0.16295848867064208), ((0, 29), 0.3280189193634425), ((0, 30), 0.051099897880585735), ((0, 31), 0.44699997001497255), ((0, 32), 0.3138039647617423), ((0, 33), 0.4927306542206963), ((0, 34), 0.06636913693358974), ((0, 35), 0.4066468003156872), ((0, 36), 0.48087991293086224), ((0, 37), 0.36950421146755824), ((0, 38), 0.28125115110886956), ((0, 39), 0.29898654191391166), ((1, 0), 0.10625999514587947), ((1, 1), 0.0077691916595233465), ((1, 2), 0.09219094967827772), ((1, 3), 0.010657406192831079), ((1, 4), 0.19395533050000857), ((1, 5), 0.22164063870642567), ((1, 6), 0.1330974652196861), ((1, 7), 0.2289865417667323), ((1, 8), 0.03144273729921699), ((1, 9), 0.000219624465446481), ((1, 10), 0.22575804576965613), ((1, 11), 0.08300409237080593), ((1, 12), 0.16545227448894168), ((1, 13), 0.11733274044071683), ((1, 14), 0.06631246240221214), ((1, 15), 0.013010080684560698), ((1, 16), 0.13128655485005952), ((1, 17), 0.17640060836302832), ((1, 18), 0.13073485162426596), ((1, 19), 0.23764713639931534), ((1, 20), 0.12204491228431029), ((1, 21), 0.07034895084868267), ((1, 22), 0.1057150914221956), ((1, 23), 0.05586956383331268), ((1, 24), 0.15878497338061068), ((1, 25), 0.12498624196792557), ((1, 26), 0.08673797249588054), ((1, 27), 0.17315439981166508), ((1, 28), 0.07387735372055948), ((1, 29), 0.1487076244418709), ((1, 30), 0.02316617723694323), ((1, 31), 0.2026477734745028), ((1, 32), 0.1422632640541528), ((1, 33), 0.22337981364319703), ((1, 34), 0.03008849827566174), ((1, 35), 0.1843536335623121), ((1, 36), 0.21800727114319018), ((1, 37), 0.16751501289998832), ((1, 38), 0.12750542143759935), ((1, 39), 0.1355457742327496)])\n",
      "aa (1, [((0, 0), 0.10081141971317066), ((0, 1), 0.08830532819004047), ((0, 2), 0.07307535503236318), ((0, 3), 0.17924015061356272), ((0, 4), 0.10567121550373501), ((0, 5), 0.05815456105781246), ((0, 6), 0.04684439132974166), ((0, 7), 0.09122923622272457), ((0, 8), 0.005549859104590213), ((0, 9), 0.08762651348373746), ((0, 10), 0.13244473845560759), ((0, 11), 0.03716659601179695), ((0, 12), 0.06746354831866573), ((0, 13), 0.03410516664551607), ((0, 14), 0.09270376751768347), ((0, 15), 0.19531891306322863), ((0, 16), 0.047693380630196895), ((0, 17), 0.12548746962409663), ((0, 18), 0.19234353801936593), ((0, 19), 0.12895323984004786), ((0, 20), 0.12005229489674162), ((0, 21), 0.18698864909772317), ((0, 22), 0.1127333203335673), ((0, 23), 0.025994237150964092), ((0, 24), 0.07792329549613822), ((0, 25), 0.11879987257613812), ((0, 26), 0.15449988604938938), ((0, 27), 0.006518657078524871), ((0, 28), 0.04114211227262115), ((0, 29), 0.12824052642348313), ((0, 30), 0.15885689727293267), ((0, 31), 0.028696509921714783), ((0, 32), 0.1769817608059509), ((0, 33), 0.09275368675516549), ((0, 34), 0.13585200848389573), ((0, 35), 0.00671505065860508), ((0, 36), 0.031863776216918764), ((0, 37), 0.03837247665136558), ((0, 38), 0.09098785726104656), ((0, 39), 0.18947815490305406), ((1, 0), 0.44475784755261555), ((1, 1), 0.3895837178463883), ((1, 2), 0.322392420479829), ((1, 3), 0.790768186865241), ((1, 4), 0.4661981994641985), ((1, 5), 0.25656515377950473), ((1, 6), 0.2066671684319744), ((1, 7), 0.40248335805340424), ((1, 8), 0.02448475972861782), ((1, 9), 0.38658893641665165), ((1, 10), 0.5843171037843178), ((1, 11), 0.1639708605443321), ((1, 12), 0.29763436150231704), ((1, 13), 0.1504645064104902), ((1, 14), 0.4089886663484447), ((1, 15), 0.8617041562104774), ((1, 16), 0.21041272280408826), ((1, 17), 0.5536231613802565), ((1, 18), 0.8485774548512934), ((1, 19), 0.5689133785574781), ((1, 20), 0.5296443639415475), ((1, 21), 0.8249528607581896), ((1, 22), 0.4973546552729126), ((1, 23), 0.1146808664824765), ((1, 24), 0.343780469292816), ((1, 25), 0.5241189516705635), ((1, 26), 0.6816195720877584), ((1, 27), 0.028758883660474525), ((1, 28), 0.18150996534124222), ((1, 29), 0.5657690434615625), ((1, 30), 0.7008417488913308), ((1, 31), 0.12660270058062384), ((1, 32), 0.7808046669324197), ((1, 33), 0.4092088990629243), ((1, 34), 0.5993492309790704), ((1, 35), 0.029625329011588), ((1, 36), 0.14057598400514873), ((1, 37), 0.16929094113823576), ((1, 38), 0.4014184470765939), ((1, 39), 0.8359360137243813)])\n",
      "240 key-value pairs were sent over a network.\n",
      "[(0, [((0, 1), 0.11158900342170541), ((0, 2), 0.27773933652860816), ((0, 4), 0.5351379450582573), ((0, 5), 0.5498481325846257), ((0, 8), 0.08831812445022873), ((0, 9), 0.09353710457090568), ((0, 11), 0.22722943149894853), ((0, 12), 0.4358723194178545), ((0, 15), 0.23392537433512653), ((0, 16), 0.349585223977204), ((0, 18), 0.4941552781576921), ((0, 19), 0.6548980688171164), ((0, 22), 0.346229617858712), ((0, 23), 0.15479447771519134), ((0, 25), 0.40656886133311665), ((0, 26), 0.3573450338074913), ((0, 29), 0.46144738276079866), ((0, 32), 0.49187198802567134), ((0, 33), 0.5858261963212004), ((0, 36), 0.5250782103152092), ((0, 39), 0.4973136514510631), ((1, 0), 1.3719641265692857), ((1, 1), 0.7578098893517298), ((1, 3), 1.1979386863775365), ((1, 4), 0.7563625587009049), ((1, 7), 0.71187859741798), ((1, 10), 1.2563087438835954), ((1, 11), 0.6558843922230734), ((1, 14), 0.4820585397092717), ((1, 17), 1.5392742392119099), ((1, 18), 1.7673337363394748), ((1, 21), 1.1349431822465141), ((1, 24), 0.5362015045977754), ((1, 25), 1.3572237062067047), ((1, 27), 0.8272188346061914), ((1, 28), 0.7508715673866257), ((1, 31), 0.49721902752848113), ((1, 32), 0.9867719176811133), ((1, 34), 1.253634136951389), ((1, 35), 0.5542098003295824), ((1, 38), 1.265919347642665), ((1, 39), 1.4904297495026144)]), (1, [((0, 0), 0.34919800580331617), ((0, 3), 0.2095094611999947), ((0, 6), 0.35094961151049076), ((0, 7), 0.5976983043052861), ((0, 10), 0.6380303410679318), ((0, 13), 0.3066523662448045), ((0, 14), 0.23909086263263613), ((0, 17), 0.528390617457599), ((0, 20), 0.39027149736899125), ((0, 21), 0.3462504924518152), ((0, 24), 0.4287443595100522), ((0, 27), 0.3991247489236634), ((0, 28), 0.21254945894104516), ((0, 30), 0.21352640354828012), ((0, 31), 0.4785606324525083), ((0, 34), 0.21286476694366835), ((0, 35), 0.41916337149564625), ((0, 37), 0.414145510935067), ((0, 38), 0.38480604792609924), ((1, 2), 0.4913736958088733), ((1, 5), 0.6423643295154242), ((1, 6), 0.9566615341639355), ((1, 8), 0.8424729189517361), ((1, 9), 0.7050253976961307), ((1, 12), 0.6656787098514304), ((1, 13), 1.0732834258456552), ((1, 15), 1.455820275365567), ((1, 16), 1.0630504521838828), ((1, 19), 0.908799395652783), ((1, 20), 0.7110867660442004), ((1, 22), 0.6212616849988815), ((1, 23), 0.4968102937771121), ((1, 26), 1.4438752120276244), ((1, 29), 1.0187238279966542), ((1, 30), 0.9333480207016254), ((1, 33), 0.6526368587236536), ((1, 36), 1.0819426666444554), ((1, 37), 0.7044417885798492)])]\n",
      "[((0, 1), 0.11158900342170541), ((0, 2), 0.27773933652860816), ((0, 4), 0.5351379450582573), ((0, 5), 0.5498481325846257), ((0, 8), 0.08831812445022873), ((0, 9), 0.09353710457090568), ((0, 11), 0.22722943149894853), ((0, 12), 0.4358723194178545), ((0, 15), 0.23392537433512653), ((0, 16), 0.349585223977204), ((0, 18), 0.4941552781576921), ((0, 19), 0.6548980688171164), ((0, 22), 0.346229617858712), ((0, 23), 0.15479447771519134), ((0, 25), 0.40656886133311665), ((0, 26), 0.3573450338074913), ((0, 29), 0.46144738276079866), ((0, 32), 0.49187198802567134), ((0, 33), 0.5858261963212004), ((0, 36), 0.5250782103152092), ((0, 39), 0.4973136514510631), ((1, 0), 1.3719641265692857), ((1, 1), 0.7578098893517298), ((1, 3), 1.1979386863775365), ((1, 4), 0.7563625587009049), ((1, 7), 0.71187859741798), ((1, 10), 1.2563087438835954), ((1, 11), 0.6558843922230734), ((1, 14), 0.4820585397092717), ((1, 17), 1.5392742392119099), ((1, 18), 1.7673337363394748), ((1, 21), 1.1349431822465141), ((1, 24), 0.5362015045977754), ((1, 25), 1.3572237062067047), ((1, 27), 0.8272188346061914), ((1, 28), 0.7508715673866257), ((1, 31), 0.49721902752848113), ((1, 32), 0.9867719176811133), ((1, 34), 1.253634136951389), ((1, 35), 0.5542098003295824), ((1, 38), 1.265919347642665), ((1, 39), 1.4904297495026144), ((0, 0), 0.34919800580331617), ((0, 3), 0.2095094611999947), ((0, 6), 0.35094961151049076), ((0, 7), 0.5976983043052861), ((0, 10), 0.6380303410679318), ((0, 13), 0.3066523662448045), ((0, 14), 0.23909086263263613), ((0, 17), 0.528390617457599), ((0, 20), 0.39027149736899125), ((0, 21), 0.3462504924518152), ((0, 24), 0.4287443595100522), ((0, 27), 0.3991247489236634), ((0, 28), 0.21254945894104516), ((0, 30), 0.21352640354828012), ((0, 31), 0.4785606324525083), ((0, 34), 0.21286476694366835), ((0, 35), 0.41916337149564625), ((0, 37), 0.414145510935067), ((0, 38), 0.38480604792609924), ((1, 2), 0.4913736958088733), ((1, 5), 0.6423643295154242), ((1, 6), 0.9566615341639355), ((1, 8), 0.8424729189517361), ((1, 9), 0.7050253976961307), ((1, 12), 0.6656787098514304), ((1, 13), 1.0732834258456552), ((1, 15), 1.455820275365567), ((1, 16), 1.0630504521838828), ((1, 19), 0.908799395652783), ((1, 20), 0.7110867660442004), ((1, 22), 0.6212616849988815), ((1, 23), 0.4968102937771121), ((1, 26), 1.4438752120276244), ((1, 29), 1.0187238279966542), ((1, 30), 0.9333480207016254), ((1, 33), 0.6526368587236536), ((1, 36), 1.0819426666444554), ((1, 37), 0.7044417885798492)]\n"
     ]
    },
    {
     "data": {
      "text/plain": [
       "True"
      ]
     },
     "execution_count": 38,
     "metadata": {},
     "output_type": "execute_result"
    }
   ],
   "source": [
    "def flatten(nested_iterable):\n",
    "  for iterable in nested_iterable:\n",
    "    for element in iterable:\n",
    "      yield element\n",
    "\n",
    "def groupbykey(iterable):\n",
    "  t = {}\n",
    "  for (k2, v2) in iterable:\n",
    "    t[k2] = t.get(k2, []) + [v2]\n",
    "  return t.items()\n",
    "\n",
    "def groupbykey_distributed(map_partitions, PARTITIONER):\n",
    "  global reducers\n",
    "  partitions = [dict() for _ in range(reducers)]\n",
    "  for map_partition in map_partitions:\n",
    "    for (k2, v2) in map_partition:\n",
    "      p = partitions[PARTITIONER(k2)]\n",
    "      p[k2] = p.get(k2, []) + [v2]\n",
    "  return [(partition_id, sorted(partition.items(), key=lambda x: x[0])) for (partition_id, partition) in enumerate(partitions)]\n",
    "\n",
    "def PARTITIONER(obj):\n",
    "  global reducers\n",
    "  return hash(obj) % reducers\n",
    "\n",
    "def MapReduceDistributed(INPUTFORMAT, MAP, REDUCE, PARTITIONER=PARTITIONER, COMBINER=None):\n",
    "  map_partitions = map(lambda record_reader: flatten(map(lambda k1v1: MAP(*k1v1), record_reader)), INPUTFORMAT())\n",
    "  if COMBINER != None:\n",
    "    map_partitions = map(lambda map_partition: flatten(map(lambda k2v2: COMBINER(*k2v2), groupbykey(map_partition))), map_partitions)\n",
    "  reduce_partitions = groupbykey_distributed(map_partitions, PARTITIONER) # shuffle\n",
    "  reduce_outputs = map(lambda reduce_partition: (reduce_partition[0], flatten(map(lambda reduce_input_group: REDUCE(*reduce_input_group), reduce_partition[1]))), reduce_partitions)\n",
    "\n",
    "  print(\"{} key-value pairs were sent over a network.\".format(sum([len(vs) for (k,vs) in flatten([partition for (partition_id, partition) in reduce_partitions])])))\n",
    "  return reduce_outputs\n",
    "\n",
    "def asmatrix(reduce_output):\n",
    "  reduce_output = list(reduce_output)\n",
    "  I = max(i for ((i,k), vw) in reduce_output)+1\n",
    "  K = max(k for ((i,k), vw) in reduce_output)+1\n",
    "  mat = np.empty(shape=(I,K))\n",
    "  for ((i,k), vw) in reduce_output:\n",
    "    mat[i,k] = vw\n",
    "  return mat\n",
    "\n",
    "import numpy as np\n",
    "I = 2\n",
    "J = 3\n",
    "K = 4*10\n",
    "small_mat = np.random.rand(I,J)\n",
    "big_mat = np.random.rand(J,K)\n",
    "reference_solution = np.matmul(small_mat, big_mat)\n",
    "\n",
    "def INPUTFORMAT():\n",
    "  first_mat = []\n",
    "  for i in range(small_mat.shape[0]):\n",
    "    for j in range(small_mat.shape[1]):\n",
    "      first_mat.append(((0, i, j), small_mat[i,j])) \n",
    "  yield first_mat\n",
    "\n",
    "  second_mat = []\n",
    "  for j in range(big_mat.shape[0]):\n",
    "    for k in range(big_mat.shape[1]):\n",
    "      second_mat.append(((1, j, k), big_mat[j,k]))\n",
    "  yield second_mat\n",
    "\n",
    "\n",
    "def MAP_JOIN(k1, v1):\n",
    "  (mat_num, i, j) = k1\n",
    "  w = v1\n",
    "  if mat_num == 0:\n",
    "    yield (j, (mat_num, i, w))\n",
    "  else:\n",
    "    yield (i, (mat_num, j, w))\n",
    "\n",
    "\n",
    "def REDUCE_JOIN(key, values):\n",
    "  from_first_mat = [v for v in values if v[0] == 0]\n",
    "  from_second_mat = [v for v in values if v[0] == 1]\n",
    "  for f in from_first_mat:\n",
    "    for s in from_second_mat:\n",
    "      yield ((f[1], s[1]), f[2] * s[2])\n",
    "\n",
    "\n",
    "def GET_JOINED():\n",
    "  for j in joined:\n",
    "    print(\"aa\", j)\n",
    "    yield j[1]\n",
    "\n",
    "\n",
    "def MAP_MUL(k1, v1):\n",
    "  yield (k1, v1)\n",
    "\n",
    "\n",
    "def REDUCE_MUL(key, values):\n",
    "  res_val = 0\n",
    "  for v in values:\n",
    "    res_val += v\n",
    "  yield (key, res_val)\n",
    "\n",
    "maps = 4\n",
    "reducers = 2\n",
    "partitioned_output = MapReduceDistributed(INPUTFORMAT, MAP_JOIN, REDUCE_JOIN, COMBINER=None)\n",
    "joined = [(partition_id, list(partition)) for (partition_id, partition) in partitioned_output]\n",
    "print(joined)\n",
    "\n",
    "mul_output = MapReduceDistributed(GET_JOINED, MAP_MUL, REDUCE_MUL, COMBINER=None)\n",
    "pre_result = [(partition_id, list(partition)) for (partition_id, partition) in mul_output]\n",
    "print(pre_result)\n",
    "\n",
    "solution = []\n",
    "for p in pre_result:\n",
    "  for v in p[1]:\n",
    "    solution.append(v)\n",
    "\n",
    "print(solution)\n",
    "np.allclose(reference_solution, asmatrix(solution)) # should return true\n"
   ]
  },
  {
   "cell_type": "markdown",
   "metadata": {
    "id": "ZuSA2P9Db6UM"
   },
   "source": [
    "Обобщите предыдущее решение на случай, когда каждая матрица генерируется несколькими RECORDREADER-ами, и проверьте его работоспособность. Будет ли работать решение, если RECORDREADER-ы будут генерировать случайное подмножество элементов матрицы?"
   ]
  },
  {
   "cell_type": "code",
   "metadata": {
    "colab": {
     "base_uri": "https://localhost:8080/"
    },
    "id": "ehN0FqRDcwU5",
    "outputId": "d89b0f3a-6ec4-4a32-d28f-693c1b39065d",
    "ExecuteTime": {
     "end_time": "2025-05-05T01:33:21.535051Z",
     "start_time": "2025-05-05T01:33:21.517803Z"
    }
   },
   "source": [
    "def flatten(nested_iterable):\n",
    "  for iterable in nested_iterable:\n",
    "    for element in iterable:\n",
    "      yield element\n",
    "\n",
    "def groupbykey(iterable):\n",
    "  t = {}\n",
    "  for (k2, v2) in iterable:\n",
    "    t[k2] = t.get(k2, []) + [v2]\n",
    "  return t.items()\n",
    "\n",
    "def groupbykey_distributed(map_partitions, PARTITIONER):\n",
    "  global reducers\n",
    "  partitions = [dict() for _ in range(reducers)]\n",
    "  for map_partition in map_partitions:\n",
    "    for (k2, v2) in map_partition:\n",
    "      p = partitions[PARTITIONER(k2)]\n",
    "      p[k2] = p.get(k2, []) + [v2]\n",
    "  return [(partition_id, sorted(partition.items(), key=lambda x: x[0])) for (partition_id, partition) in enumerate(partitions)]\n",
    "\n",
    "def PARTITIONER(obj):\n",
    "  global reducers\n",
    "  return hash(obj) % reducers\n",
    "\n",
    "def MapReduceDistributed(INPUTFORMAT, MAP, REDUCE, PARTITIONER=PARTITIONER, COMBINER=None):\n",
    "  map_partitions = map(lambda record_reader: flatten(map(lambda k1v1: MAP(*k1v1), record_reader)), INPUTFORMAT())\n",
    "  if COMBINER != None:\n",
    "    map_partitions = map(lambda map_partition: flatten(map(lambda k2v2: COMBINER(*k2v2), groupbykey(map_partition))), map_partitions)\n",
    "  reduce_partitions = groupbykey_distributed(map_partitions, PARTITIONER) # shuffle\n",
    "  reduce_outputs = map(lambda reduce_partition: (reduce_partition[0], flatten(map(lambda reduce_input_group: REDUCE(*reduce_input_group), reduce_partition[1]))), reduce_partitions)\n",
    "\n",
    "  print(\"{} key-value pairs were sent over a network.\".format(sum([len(vs) for (k,vs) in flatten([partition for (partition_id, partition) in reduce_partitions])])))\n",
    "  return reduce_outputs\n",
    "\n",
    "def asmatrix(reduce_output):\n",
    "  reduce_output = list(reduce_output)\n",
    "  I = max(i for ((i,k), vw) in reduce_output)+1\n",
    "  K = max(k for ((i,k), vw) in reduce_output)+1\n",
    "  mat = np.empty(shape=(I,K))\n",
    "  for ((i,k), vw) in reduce_output:\n",
    "    mat[i,k] = vw\n",
    "  return mat\n",
    "\n",
    "\n",
    "import numpy as np\n",
    "I = 2\n",
    "J = 3\n",
    "K = 4*10\n",
    "small_mat = np.random.rand(I,J)\n",
    "big_mat = np.random.rand(J,K)\n",
    "reference_solution = np.matmul(small_mat, big_mat)\n",
    "\n",
    "def INPUTFORMAT():\n",
    "  first_mat = []\n",
    "  for i in range(small_mat.shape[0]):\n",
    "    for j in range(small_mat.shape[1]):\n",
    "      first_mat.append(((0, i, j), small_mat[i,j])) \n",
    "\n",
    "  global maps\n",
    "  split_size =  int(np.ceil(len(first_mat)/maps))\n",
    "  for i in range(0, len(first_mat), split_size):\n",
    "    yield first_mat[i:i+split_size]\n",
    "\n",
    "  second_mat = []\n",
    "  for j in range(big_mat.shape[0]):\n",
    "    for k in range(big_mat.shape[1]):\n",
    "      second_mat.append(((1, j, k), big_mat[j,k]))\n",
    "\n",
    "  split_size =  int(np.ceil(len(second_mat)/maps))\n",
    "  for i in range(0, len(second_mat), split_size):\n",
    "    yield second_mat[i:i+split_size]\n",
    "\n",
    "\n",
    "def MAP_JOIN(k1, v1):\n",
    "  (mat_num, i, j) = k1\n",
    "  w = v1\n",
    "  if mat_num == 0:\n",
    "    yield (j, (mat_num, i, w))\n",
    "  else:\n",
    "    yield (i, (mat_num, j, w))\n",
    "\n",
    "\n",
    "def REDUCE_JOIN(key, values):\n",
    "  from_first_mat = [v for v in values if v[0] == 0]\n",
    "  from_second_mat = [v for v in values if v[0] == 1]\n",
    "  for f in from_first_mat:\n",
    "    for s in from_second_mat:\n",
    "      yield ((f[1], s[1]), f[2] * s[2])\n",
    "\n",
    "\n",
    "def GET_JOINED():\n",
    "  for j in joined:\n",
    "    print(\"aa\", j)\n",
    "    yield j[1]\n",
    "\n",
    "\n",
    "def MAP_MUL(k1, v1):\n",
    "  yield (k1, v1)\n",
    "\n",
    "\n",
    "def REDUCE_MUL(key, values):\n",
    "  res_val = 0\n",
    "  for v in values:\n",
    "    res_val += v\n",
    "  yield (key, res_val)\n",
    "\n",
    "maps = 3\n",
    "reducers = 2\n",
    "partitioned_output = MapReduceDistributed(INPUTFORMAT, MAP_JOIN, REDUCE_JOIN, COMBINER=None)\n",
    "joined = [(partition_id, list(partition)) for (partition_id, partition) in partitioned_output]\n",
    "print(joined)\n",
    "\n",
    "mul_output = MapReduceDistributed(GET_JOINED, MAP_MUL, REDUCE_MUL, COMBINER=None)\n",
    "pre_result = [(partition_id, list(partition)) for (partition_id, partition) in mul_output]\n",
    "print(pre_result)\n",
    "\n",
    "solution = []\n",
    "for p in pre_result:\n",
    "  for v in p[1]:\n",
    "    solution.append(v)\n",
    "\n",
    "print(solution)\n",
    "np.allclose(reference_solution, asmatrix(solution))"
   ],
   "outputs": [
    {
     "name": "stdout",
     "output_type": "stream",
     "text": [
      "126 key-value pairs were sent over a network.\n",
      "[(0, [((0, 0), np.float64(0.44125258078026425)), ((0, 1), np.float64(0.651581671572432)), ((0, 2), np.float64(0.3952073477344883)), ((0, 3), np.float64(0.5698223977065272)), ((0, 4), np.float64(0.7035208429770731)), ((0, 5), np.float64(0.6099148000344784)), ((0, 6), np.float64(0.29792280006839617)), ((0, 7), np.float64(0.22638412206657885)), ((0, 8), np.float64(0.5405467840224453)), ((0, 9), np.float64(0.6558352155608952)), ((0, 10), np.float64(0.08260557120286942)), ((0, 11), np.float64(0.6711968695762418)), ((0, 12), np.float64(0.27022171230561176)), ((0, 13), np.float64(0.49347098460889915)), ((0, 14), np.float64(0.10521511641151265)), ((0, 15), np.float64(0.30482855769675626)), ((0, 16), np.float64(0.2157718664309384)), ((0, 17), np.float64(0.5185461702274509)), ((0, 18), np.float64(0.5975382797496663)), ((0, 19), np.float64(0.6955713288390437)), ((0, 20), np.float64(0.4846803388435306)), ((0, 21), np.float64(0.7012950431856656)), ((0, 22), np.float64(0.02100047015432721)), ((0, 23), np.float64(0.21804909124071156)), ((0, 24), np.float64(0.33563806088262377)), ((0, 25), np.float64(0.4838843307636324)), ((0, 26), np.float64(0.5173648412592432)), ((0, 27), np.float64(0.5934977317148409)), ((0, 28), np.float64(0.09946823058028542)), ((0, 29), np.float64(0.04259534766431834)), ((0, 30), np.float64(0.5913654463066574)), ((0, 31), np.float64(0.06720732907044259)), ((0, 32), np.float64(0.6964672159254841)), ((0, 33), np.float64(0.3503312195388949)), ((0, 34), np.float64(0.2006463899444762)), ((0, 35), np.float64(0.6908752921831373)), ((0, 36), np.float64(0.41877010252564084)), ((0, 37), np.float64(0.2819414965722349)), ((0, 38), np.float64(0.1703615994039823)), ((0, 39), np.float64(0.16251042635858598)), ((1, 0), np.float64(0.13899033415720796)), ((1, 1), np.float64(0.20524198204670321)), ((1, 2), np.float64(0.12448652702691966)), ((1, 3), np.float64(0.17948859432718364)), ((1, 4), np.float64(0.22160232327488183)), ((1, 5), np.float64(0.1921173168309102)), ((1, 6), np.float64(0.09384282684836709)), ((1, 7), np.float64(0.07130882887592459)), ((1, 8), np.float64(0.17026705658249183)), ((1, 9), np.float64(0.20658180763880166)), ((1, 10), np.float64(0.026019963270087643)), ((1, 11), np.float64(0.2114205814336765)), ((1, 12), np.float64(0.08511724967925616)), ((1, 13), np.float64(0.15543863092289256)), ((1, 14), np.float64(0.033141753329955274)), ((1, 15), np.float64(0.09601807431927635)), ((1, 16), np.float64(0.06796607005431918)), ((1, 17), np.float64(0.163337074082168)), ((1, 18), np.float64(0.18821883155282385)), ((1, 19), np.float64(0.21909830250637244)), ((1, 20), np.float64(0.15266966175284102)), ((1, 21), np.float64(0.22090121767176507)), ((1, 22), np.float64(0.00661494683849102)), ((1, 23), np.float64(0.06868337404538429)), ((1, 24), np.float64(0.10572277255684599)), ((1, 25), np.float64(0.15241892683629674)), ((1, 26), np.float64(0.1629649667785678)), ((1, 27), np.float64(0.1869460976448531)), ((1, 28), np.float64(0.0313315393689782)), ((1, 29), np.float64(0.013417126297453378)), ((1, 30), np.float64(0.1862744481762474)), ((1, 31), np.float64(0.02116966456897843)), ((1, 32), np.float64(0.21938049835277698)), ((1, 33), np.float64(0.11035097672020472)), ((1, 34), np.float64(0.06320168991761177)), ((1, 35), np.float64(0.21761909596470244)), ((1, 36), np.float64(0.13190856897009764)), ((1, 37), np.float64(0.08880886940550885)), ((1, 38), np.float64(0.05366227113469829)), ((1, 39), np.float64(0.05118922686790654)), ((0, 0), np.float64(0.006995215494127862)), ((0, 1), np.float64(2.9644890551746332e-05)), ((0, 2), np.float64(0.0045608085716437995)), ((0, 3), np.float64(0.005411430023427642)), ((0, 4), np.float64(0.002417421851103519)), ((0, 5), np.float64(0.0041023012249415056)), ((0, 6), np.float64(0.0009185808983943152)), ((0, 7), np.float64(0.0056489771489045375)), ((0, 8), np.float64(0.00021025805564872728)), ((0, 9), np.float64(0.007780548278839356)), ((0, 10), np.float64(0.002157731750338536)), ((0, 11), np.float64(0.005463826975954468)), ((0, 12), np.float64(0.005820804390456203)), ((0, 13), np.float64(0.006322040950484659)), ((0, 14), np.float64(0.007237153654185554)), ((0, 15), np.float64(8.567761211554387e-05)), ((0, 16), np.float64(0.006501991321432244)), ((0, 17), np.float64(0.002669098070105782)), ((0, 18), np.float64(0.0013311078476392658)), ((0, 19), np.float64(7.882707175350662e-05)), ((0, 20), np.float64(0.00558549747996325)), ((0, 21), np.float64(0.006115863053834444)), ((0, 22), np.float64(0.0019429494627128002)), ((0, 23), np.float64(0.0015044480628850169)), ((0, 24), np.float64(0.001274489588057227)), ((0, 25), np.float64(0.004016296943456018)), ((0, 26), np.float64(0.002134279582246211)), ((0, 27), np.float64(0.002440136973017908)), ((0, 28), np.float64(0.0012962220701159218)), ((0, 29), np.float64(0.0035998924067767745)), ((0, 30), np.float64(0.006836466928132275)), ((0, 31), np.float64(0.0009121195369029155)), ((0, 32), np.float64(0.0061083228879141895)), ((0, 33), np.float64(0.00484002468300825)), ((0, 34), np.float64(0.004401282089252222)), ((0, 35), np.float64(0.006291067385699471)), ((0, 36), np.float64(0.006128968152063841)), ((0, 37), np.float64(0.0007182354256759618)), ((0, 38), np.float64(0.00039489543293752885)), ((0, 39), np.float64(0.003009270104673866)), ((1, 0), np.float64(0.5077912972162809)), ((1, 1), np.float64(0.0021519590699875563)), ((1, 2), np.float64(0.3310747042595406)), ((1, 3), np.float64(0.39282236175542534)), ((1, 4), np.float64(0.17548362573266013)), ((1, 5), np.float64(0.29779109197331455)), ((1, 6), np.float64(0.06668091731917417)), ((1, 7), np.float64(0.41006619978974607)), ((1, 8), np.float64(0.015262890888445967)), ((1, 9), np.float64(0.5647995700607535)), ((1, 10), np.float64(0.15663240188510685)), ((1, 11), np.float64(0.3966259209904642)), ((1, 12), np.float64(0.4225393506108836)), ((1, 13), np.float64(0.4589247290517245)), ((1, 14), np.float64(0.5253538858520342)), ((1, 15), np.float64(0.006219443251614877)), ((1, 16), np.float64(0.47198754782760527)), ((1, 17), np.float64(0.1937531120455448)), ((1, 18), np.float64(0.09662675599556868)), ((1, 19), np.float64(0.005722154100195376)), ((1, 20), np.float64(0.40545813253783425)), ((1, 21), np.float64(0.44395802192379924)), ((1, 22), np.float64(0.1410410914323971)), ((1, 23), np.float64(0.10920973543820033)), ((1, 24), np.float64(0.09251676688895344)), ((1, 25), np.float64(0.29154793539031426)), ((1, 26), np.float64(0.15492998015583592)), ((1, 27), np.float64(0.17713254437326756)), ((1, 28), np.float64(0.09409435449373532)), ((1, 29), np.float64(0.2613206178724199)), ((1, 30), np.float64(0.4962675435412451)), ((1, 31), np.float64(0.06621187914068553)), ((1, 32), np.float64(0.4434106720048316)), ((1, 33), np.float64(0.3513433452345699)), ((1, 34), np.float64(0.3194944806764401)), ((1, 35), np.float64(0.45667631988478946)), ((1, 36), np.float64(0.4449093371242585)), ((1, 37), np.float64(0.05213759301866304)), ((1, 38), np.float64(0.028665945219909665)), ((1, 39), np.float64(0.21844661846504435))]), (1, [((0, 0), np.float64(0.0385978377352853)), ((0, 1), np.float64(0.0246396825472295)), ((0, 2), np.float64(0.18651473992463768)), ((0, 3), np.float64(0.08796210481935592)), ((0, 4), np.float64(0.31821568946895856)), ((0, 5), np.float64(0.019353526669921246)), ((0, 6), np.float64(0.2660905704354644)), ((0, 7), np.float64(0.18147836510760285)), ((0, 8), np.float64(0.013099983806861207)), ((0, 9), np.float64(0.26212515176796847)), ((0, 10), np.float64(0.24911598851269923)), ((0, 11), np.float64(0.07239077574259065)), ((0, 12), np.float64(0.1270403578621194)), ((0, 13), np.float64(0.14370868325459568)), ((0, 14), np.float64(0.024625486980743252)), ((0, 15), np.float64(0.03784559669762779)), ((0, 16), np.float64(0.25950920936285743)), ((0, 17), np.float64(0.32699874954896546)), ((0, 18), np.float64(0.021836146226531666)), ((0, 19), np.float64(0.08246928382784033)), ((0, 20), np.float64(0.21175731334884756)), ((0, 21), np.float64(0.3544408598675165)), ((0, 22), np.float64(0.1307903639275002)), ((0, 23), np.float64(0.00029968665627522347)), ((0, 24), np.float64(0.181160339366016)), ((0, 25), np.float64(0.25137756600189687)), ((0, 26), np.float64(0.0453187451266202)), ((0, 27), np.float64(0.010009625205071085)), ((0, 28), np.float64(0.15504330013331571)), ((0, 29), np.float64(0.07923311844458344)), ((0, 30), np.float64(0.17340171889871814)), ((0, 31), np.float64(0.07650899084690523)), ((0, 32), np.float64(0.0002308452118847131)), ((0, 33), np.float64(0.2118342977828586)), ((0, 34), np.float64(0.3432204837389855)), ((0, 35), np.float64(0.09987160472486645)), ((0, 36), np.float64(0.20257545668024457)), ((0, 37), np.float64(0.12315931758249456)), ((0, 38), np.float64(0.3195896757520589)), ((0, 39), np.float64(0.08727140349094924)), ((1, 0), np.float64(0.04907463181471039)), ((1, 1), np.float64(0.03132774839175056)), ((1, 2), np.float64(0.23714132000328236)), ((1, 3), np.float64(0.11183807593736304)), ((1, 4), np.float64(0.4045904826445047)), ((1, 5), np.float64(0.024606746164288543)), ((1, 6), np.float64(0.3383167954392706)), ((1, 7), np.float64(0.23073789809343484)), ((1, 8), np.float64(0.016655774515386336)), ((1, 9), np.float64(0.3332750243837733)), ((1, 10), np.float64(0.31673472227285565)), ((1, 11), np.float64(0.09204014718941729)), ((1, 12), np.float64(0.16152352446399224)), ((1, 13), np.float64(0.18271621243821445)), ((1, 14), np.float64(0.03130969965535523)), ((1, 15), np.float64(0.048118206426010175)), ((1, 16), np.float64(0.329949024330098)), ((1, 17), np.float64(0.415757570360374)), ((1, 18), np.float64(0.02776323491664366)), ((1, 19), np.float64(0.10485431250399548)), ((1, 20), np.float64(0.2692356048009107)), ((1, 21), np.float64(0.4506484227790425)), ((1, 22), np.float64(0.1662914124535637)), ((1, 23), np.float64(0.000381032026129366)), ((1, 24), np.float64(0.2303335491171266)), ((1, 25), np.float64(0.31961017046153356)), ((1, 26), np.float64(0.05761982696145837)), ((1, 27), np.float64(0.012726585227675773)), ((1, 28), np.float64(0.19712743811098013)), ((1, 29), np.float64(0.10073973940889024)), ((1, 30), np.float64(0.2204689695146624)), ((1, 31), np.float64(0.09727618894294955)), ((1, 32), np.float64(0.0002935046221274386)), ((1, 33), np.float64(0.2693334854848098)), ((1, 34), np.float64(0.43638244676487725)), ((1, 35), np.float64(0.1269802278622612)), ((1, 36), np.float64(0.2575614732478053)), ((1, 37), np.float64(0.15658903502220325)), ((1, 38), np.float64(0.40633741653816086)), ((1, 39), np.float64(0.11095989427294037))])]\n",
      "aa (0, [((0, 0), np.float64(0.44125258078026425)), ((0, 1), np.float64(0.651581671572432)), ((0, 2), np.float64(0.3952073477344883)), ((0, 3), np.float64(0.5698223977065272)), ((0, 4), np.float64(0.7035208429770731)), ((0, 5), np.float64(0.6099148000344784)), ((0, 6), np.float64(0.29792280006839617)), ((0, 7), np.float64(0.22638412206657885)), ((0, 8), np.float64(0.5405467840224453)), ((0, 9), np.float64(0.6558352155608952)), ((0, 10), np.float64(0.08260557120286942)), ((0, 11), np.float64(0.6711968695762418)), ((0, 12), np.float64(0.27022171230561176)), ((0, 13), np.float64(0.49347098460889915)), ((0, 14), np.float64(0.10521511641151265)), ((0, 15), np.float64(0.30482855769675626)), ((0, 16), np.float64(0.2157718664309384)), ((0, 17), np.float64(0.5185461702274509)), ((0, 18), np.float64(0.5975382797496663)), ((0, 19), np.float64(0.6955713288390437)), ((0, 20), np.float64(0.4846803388435306)), ((0, 21), np.float64(0.7012950431856656)), ((0, 22), np.float64(0.02100047015432721)), ((0, 23), np.float64(0.21804909124071156)), ((0, 24), np.float64(0.33563806088262377)), ((0, 25), np.float64(0.4838843307636324)), ((0, 26), np.float64(0.5173648412592432)), ((0, 27), np.float64(0.5934977317148409)), ((0, 28), np.float64(0.09946823058028542)), ((0, 29), np.float64(0.04259534766431834)), ((0, 30), np.float64(0.5913654463066574)), ((0, 31), np.float64(0.06720732907044259)), ((0, 32), np.float64(0.6964672159254841)), ((0, 33), np.float64(0.3503312195388949)), ((0, 34), np.float64(0.2006463899444762)), ((0, 35), np.float64(0.6908752921831373)), ((0, 36), np.float64(0.41877010252564084)), ((0, 37), np.float64(0.2819414965722349)), ((0, 38), np.float64(0.1703615994039823)), ((0, 39), np.float64(0.16251042635858598)), ((1, 0), np.float64(0.13899033415720796)), ((1, 1), np.float64(0.20524198204670321)), ((1, 2), np.float64(0.12448652702691966)), ((1, 3), np.float64(0.17948859432718364)), ((1, 4), np.float64(0.22160232327488183)), ((1, 5), np.float64(0.1921173168309102)), ((1, 6), np.float64(0.09384282684836709)), ((1, 7), np.float64(0.07130882887592459)), ((1, 8), np.float64(0.17026705658249183)), ((1, 9), np.float64(0.20658180763880166)), ((1, 10), np.float64(0.026019963270087643)), ((1, 11), np.float64(0.2114205814336765)), ((1, 12), np.float64(0.08511724967925616)), ((1, 13), np.float64(0.15543863092289256)), ((1, 14), np.float64(0.033141753329955274)), ((1, 15), np.float64(0.09601807431927635)), ((1, 16), np.float64(0.06796607005431918)), ((1, 17), np.float64(0.163337074082168)), ((1, 18), np.float64(0.18821883155282385)), ((1, 19), np.float64(0.21909830250637244)), ((1, 20), np.float64(0.15266966175284102)), ((1, 21), np.float64(0.22090121767176507)), ((1, 22), np.float64(0.00661494683849102)), ((1, 23), np.float64(0.06868337404538429)), ((1, 24), np.float64(0.10572277255684599)), ((1, 25), np.float64(0.15241892683629674)), ((1, 26), np.float64(0.1629649667785678)), ((1, 27), np.float64(0.1869460976448531)), ((1, 28), np.float64(0.0313315393689782)), ((1, 29), np.float64(0.013417126297453378)), ((1, 30), np.float64(0.1862744481762474)), ((1, 31), np.float64(0.02116966456897843)), ((1, 32), np.float64(0.21938049835277698)), ((1, 33), np.float64(0.11035097672020472)), ((1, 34), np.float64(0.06320168991761177)), ((1, 35), np.float64(0.21761909596470244)), ((1, 36), np.float64(0.13190856897009764)), ((1, 37), np.float64(0.08880886940550885)), ((1, 38), np.float64(0.05366227113469829)), ((1, 39), np.float64(0.05118922686790654)), ((0, 0), np.float64(0.006995215494127862)), ((0, 1), np.float64(2.9644890551746332e-05)), ((0, 2), np.float64(0.0045608085716437995)), ((0, 3), np.float64(0.005411430023427642)), ((0, 4), np.float64(0.002417421851103519)), ((0, 5), np.float64(0.0041023012249415056)), ((0, 6), np.float64(0.0009185808983943152)), ((0, 7), np.float64(0.0056489771489045375)), ((0, 8), np.float64(0.00021025805564872728)), ((0, 9), np.float64(0.007780548278839356)), ((0, 10), np.float64(0.002157731750338536)), ((0, 11), np.float64(0.005463826975954468)), ((0, 12), np.float64(0.005820804390456203)), ((0, 13), np.float64(0.006322040950484659)), ((0, 14), np.float64(0.007237153654185554)), ((0, 15), np.float64(8.567761211554387e-05)), ((0, 16), np.float64(0.006501991321432244)), ((0, 17), np.float64(0.002669098070105782)), ((0, 18), np.float64(0.0013311078476392658)), ((0, 19), np.float64(7.882707175350662e-05)), ((0, 20), np.float64(0.00558549747996325)), ((0, 21), np.float64(0.006115863053834444)), ((0, 22), np.float64(0.0019429494627128002)), ((0, 23), np.float64(0.0015044480628850169)), ((0, 24), np.float64(0.001274489588057227)), ((0, 25), np.float64(0.004016296943456018)), ((0, 26), np.float64(0.002134279582246211)), ((0, 27), np.float64(0.002440136973017908)), ((0, 28), np.float64(0.0012962220701159218)), ((0, 29), np.float64(0.0035998924067767745)), ((0, 30), np.float64(0.006836466928132275)), ((0, 31), np.float64(0.0009121195369029155)), ((0, 32), np.float64(0.0061083228879141895)), ((0, 33), np.float64(0.00484002468300825)), ((0, 34), np.float64(0.004401282089252222)), ((0, 35), np.float64(0.006291067385699471)), ((0, 36), np.float64(0.006128968152063841)), ((0, 37), np.float64(0.0007182354256759618)), ((0, 38), np.float64(0.00039489543293752885)), ((0, 39), np.float64(0.003009270104673866)), ((1, 0), np.float64(0.5077912972162809)), ((1, 1), np.float64(0.0021519590699875563)), ((1, 2), np.float64(0.3310747042595406)), ((1, 3), np.float64(0.39282236175542534)), ((1, 4), np.float64(0.17548362573266013)), ((1, 5), np.float64(0.29779109197331455)), ((1, 6), np.float64(0.06668091731917417)), ((1, 7), np.float64(0.41006619978974607)), ((1, 8), np.float64(0.015262890888445967)), ((1, 9), np.float64(0.5647995700607535)), ((1, 10), np.float64(0.15663240188510685)), ((1, 11), np.float64(0.3966259209904642)), ((1, 12), np.float64(0.4225393506108836)), ((1, 13), np.float64(0.4589247290517245)), ((1, 14), np.float64(0.5253538858520342)), ((1, 15), np.float64(0.006219443251614877)), ((1, 16), np.float64(0.47198754782760527)), ((1, 17), np.float64(0.1937531120455448)), ((1, 18), np.float64(0.09662675599556868)), ((1, 19), np.float64(0.005722154100195376)), ((1, 20), np.float64(0.40545813253783425)), ((1, 21), np.float64(0.44395802192379924)), ((1, 22), np.float64(0.1410410914323971)), ((1, 23), np.float64(0.10920973543820033)), ((1, 24), np.float64(0.09251676688895344)), ((1, 25), np.float64(0.29154793539031426)), ((1, 26), np.float64(0.15492998015583592)), ((1, 27), np.float64(0.17713254437326756)), ((1, 28), np.float64(0.09409435449373532)), ((1, 29), np.float64(0.2613206178724199)), ((1, 30), np.float64(0.4962675435412451)), ((1, 31), np.float64(0.06621187914068553)), ((1, 32), np.float64(0.4434106720048316)), ((1, 33), np.float64(0.3513433452345699)), ((1, 34), np.float64(0.3194944806764401)), ((1, 35), np.float64(0.45667631988478946)), ((1, 36), np.float64(0.4449093371242585)), ((1, 37), np.float64(0.05213759301866304)), ((1, 38), np.float64(0.028665945219909665)), ((1, 39), np.float64(0.21844661846504435))])\n",
      "aa (1, [((0, 0), np.float64(0.0385978377352853)), ((0, 1), np.float64(0.0246396825472295)), ((0, 2), np.float64(0.18651473992463768)), ((0, 3), np.float64(0.08796210481935592)), ((0, 4), np.float64(0.31821568946895856)), ((0, 5), np.float64(0.019353526669921246)), ((0, 6), np.float64(0.2660905704354644)), ((0, 7), np.float64(0.18147836510760285)), ((0, 8), np.float64(0.013099983806861207)), ((0, 9), np.float64(0.26212515176796847)), ((0, 10), np.float64(0.24911598851269923)), ((0, 11), np.float64(0.07239077574259065)), ((0, 12), np.float64(0.1270403578621194)), ((0, 13), np.float64(0.14370868325459568)), ((0, 14), np.float64(0.024625486980743252)), ((0, 15), np.float64(0.03784559669762779)), ((0, 16), np.float64(0.25950920936285743)), ((0, 17), np.float64(0.32699874954896546)), ((0, 18), np.float64(0.021836146226531666)), ((0, 19), np.float64(0.08246928382784033)), ((0, 20), np.float64(0.21175731334884756)), ((0, 21), np.float64(0.3544408598675165)), ((0, 22), np.float64(0.1307903639275002)), ((0, 23), np.float64(0.00029968665627522347)), ((0, 24), np.float64(0.181160339366016)), ((0, 25), np.float64(0.25137756600189687)), ((0, 26), np.float64(0.0453187451266202)), ((0, 27), np.float64(0.010009625205071085)), ((0, 28), np.float64(0.15504330013331571)), ((0, 29), np.float64(0.07923311844458344)), ((0, 30), np.float64(0.17340171889871814)), ((0, 31), np.float64(0.07650899084690523)), ((0, 32), np.float64(0.0002308452118847131)), ((0, 33), np.float64(0.2118342977828586)), ((0, 34), np.float64(0.3432204837389855)), ((0, 35), np.float64(0.09987160472486645)), ((0, 36), np.float64(0.20257545668024457)), ((0, 37), np.float64(0.12315931758249456)), ((0, 38), np.float64(0.3195896757520589)), ((0, 39), np.float64(0.08727140349094924)), ((1, 0), np.float64(0.04907463181471039)), ((1, 1), np.float64(0.03132774839175056)), ((1, 2), np.float64(0.23714132000328236)), ((1, 3), np.float64(0.11183807593736304)), ((1, 4), np.float64(0.4045904826445047)), ((1, 5), np.float64(0.024606746164288543)), ((1, 6), np.float64(0.3383167954392706)), ((1, 7), np.float64(0.23073789809343484)), ((1, 8), np.float64(0.016655774515386336)), ((1, 9), np.float64(0.3332750243837733)), ((1, 10), np.float64(0.31673472227285565)), ((1, 11), np.float64(0.09204014718941729)), ((1, 12), np.float64(0.16152352446399224)), ((1, 13), np.float64(0.18271621243821445)), ((1, 14), np.float64(0.03130969965535523)), ((1, 15), np.float64(0.048118206426010175)), ((1, 16), np.float64(0.329949024330098)), ((1, 17), np.float64(0.415757570360374)), ((1, 18), np.float64(0.02776323491664366)), ((1, 19), np.float64(0.10485431250399548)), ((1, 20), np.float64(0.2692356048009107)), ((1, 21), np.float64(0.4506484227790425)), ((1, 22), np.float64(0.1662914124535637)), ((1, 23), np.float64(0.000381032026129366)), ((1, 24), np.float64(0.2303335491171266)), ((1, 25), np.float64(0.31961017046153356)), ((1, 26), np.float64(0.05761982696145837)), ((1, 27), np.float64(0.012726585227675773)), ((1, 28), np.float64(0.19712743811098013)), ((1, 29), np.float64(0.10073973940889024)), ((1, 30), np.float64(0.2204689695146624)), ((1, 31), np.float64(0.09727618894294955)), ((1, 32), np.float64(0.0002935046221274386)), ((1, 33), np.float64(0.2693334854848098)), ((1, 34), np.float64(0.43638244676487725)), ((1, 35), np.float64(0.1269802278622612)), ((1, 36), np.float64(0.2575614732478053)), ((1, 37), np.float64(0.15658903502220325)), ((1, 38), np.float64(0.40633741653816086)), ((1, 39), np.float64(0.11095989427294037))])\n",
      "240 key-value pairs were sent over a network.\n",
      "[(0, [((0, 1), np.float64(0.6762509990102132)), ((0, 2), np.float64(0.5862828962307698)), ((0, 4), np.float64(1.0241539542971352)), ((0, 5), np.float64(0.6333706279293412)), ((0, 8), np.float64(0.5538570258849552)), ((0, 9), np.float64(0.925740915607703)), ((0, 11), np.float64(0.749051472294787)), ((0, 12), np.float64(0.40308287455818737)), ((0, 15), np.float64(0.34275983200649957)), ((0, 16), np.float64(0.4817830671152281)), ((0, 18), np.float64(0.6207055338238372)), ((0, 19), np.float64(0.7781194397386376)), ((0, 22), np.float64(0.15373378354454023)), ((0, 23), np.float64(0.2198532259598718)), ((0, 25), np.float64(0.7392781937089853)), ((0, 26), np.float64(0.5648178659681096)), ((0, 29), np.float64(0.12542835851567857)), ((0, 32), np.float64(0.7028063840252831)), ((0, 33), np.float64(0.5670055420047617)), ((0, 36), np.float64(0.6274745273579492)), ((0, 39), np.float64(0.25279109995420906)), ((1, 0), np.float64(0.6958562631881993)), ((1, 1), np.float64(0.23872168950844133)), ((1, 3), np.float64(0.684149032019972)), ((1, 4), np.float64(0.8016764316520466)), ((1, 7), np.float64(0.7121129267591055)), ((1, 10), np.float64(0.49938708742805016)), ((1, 11), np.float64(0.700086649613558)), ((1, 14), np.float64(0.5898053388373448)), ((1, 17), np.float64(0.7728477564880868)), ((1, 18), np.float64(0.3126088224650362)), ((1, 21), np.float64(1.1155076623746067)), ((1, 24), np.float64(0.42857308856292603)), ((1, 25), np.float64(0.7635770326881446)), ((1, 27), np.float64(0.37680522724579646)), ((1, 28), np.float64(0.3225533319736936)), ((1, 31), np.float64(0.18465773265261354)), ((1, 32), np.float64(0.663084674979736)), ((1, 34), np.float64(0.8190786173589291)), ((1, 35), np.float64(0.8012756437117532)), ((1, 38), np.float64(0.4886656328927688)), ((1, 39), np.float64(0.3805957396058912))]), (1, [((0, 0), np.float64(0.4868456340096774)), ((0, 3), np.float64(0.6631959325493108)), ((0, 6), np.float64(0.5649319514022548)), ((0, 7), np.float64(0.4135114643230862)), ((0, 10), np.float64(0.33387929146590717)), ((0, 13), np.float64(0.6435017088139795)), ((0, 14), np.float64(0.13707775704644146)), ((0, 17), np.float64(0.8482140178465221)), ((0, 20), np.float64(0.7020231496723415)), ((0, 21), np.float64(1.0618517661070166)), ((0, 24), np.float64(0.518072889836697)), ((0, 27), np.float64(0.6059474938929299)), ((0, 28), np.float64(0.25580775278371704)), ((0, 30), np.float64(0.7716036321335078)), ((0, 31), np.float64(0.14462843945425075)), ((0, 34), np.float64(0.5482681557727139)), ((0, 35), np.float64(0.7970379642937032)), ((0, 37), np.float64(0.4058190495804054)), ((0, 38), np.float64(0.49034617058897867)), ((1, 2), np.float64(0.6927025512897427)), ((1, 5), np.float64(0.5145151549685133)), ((1, 6), np.float64(0.49884053960681185)), ((1, 8), np.float64(0.20218572198632412)), ((1, 9), np.float64(1.1046564020833285)), ((1, 12), np.float64(0.6691801247541319)), ((1, 13), np.float64(0.7970795724128314)), ((1, 15), np.float64(0.1503557239969014)), ((1, 16), np.float64(0.8699026422120224)), ((1, 19), np.float64(0.3296747691105633)), ((1, 20), np.float64(0.827363399091586)), ((1, 22), np.float64(0.3139474507244518)), ((1, 23), np.float64(0.178274141509714)), ((1, 26), np.float64(0.3755147738958621)), ((1, 29), np.float64(0.37547748357876354)), ((1, 30), np.float64(0.9030109612321549)), ((1, 33), np.float64(0.7310278074395844)), ((1, 36), np.float64(0.8343793793421614)), ((1, 37), np.float64(0.29753549744637514))])]\n",
      "[((0, 1), np.float64(0.6762509990102132)), ((0, 2), np.float64(0.5862828962307698)), ((0, 4), np.float64(1.0241539542971352)), ((0, 5), np.float64(0.6333706279293412)), ((0, 8), np.float64(0.5538570258849552)), ((0, 9), np.float64(0.925740915607703)), ((0, 11), np.float64(0.749051472294787)), ((0, 12), np.float64(0.40308287455818737)), ((0, 15), np.float64(0.34275983200649957)), ((0, 16), np.float64(0.4817830671152281)), ((0, 18), np.float64(0.6207055338238372)), ((0, 19), np.float64(0.7781194397386376)), ((0, 22), np.float64(0.15373378354454023)), ((0, 23), np.float64(0.2198532259598718)), ((0, 25), np.float64(0.7392781937089853)), ((0, 26), np.float64(0.5648178659681096)), ((0, 29), np.float64(0.12542835851567857)), ((0, 32), np.float64(0.7028063840252831)), ((0, 33), np.float64(0.5670055420047617)), ((0, 36), np.float64(0.6274745273579492)), ((0, 39), np.float64(0.25279109995420906)), ((1, 0), np.float64(0.6958562631881993)), ((1, 1), np.float64(0.23872168950844133)), ((1, 3), np.float64(0.684149032019972)), ((1, 4), np.float64(0.8016764316520466)), ((1, 7), np.float64(0.7121129267591055)), ((1, 10), np.float64(0.49938708742805016)), ((1, 11), np.float64(0.700086649613558)), ((1, 14), np.float64(0.5898053388373448)), ((1, 17), np.float64(0.7728477564880868)), ((1, 18), np.float64(0.3126088224650362)), ((1, 21), np.float64(1.1155076623746067)), ((1, 24), np.float64(0.42857308856292603)), ((1, 25), np.float64(0.7635770326881446)), ((1, 27), np.float64(0.37680522724579646)), ((1, 28), np.float64(0.3225533319736936)), ((1, 31), np.float64(0.18465773265261354)), ((1, 32), np.float64(0.663084674979736)), ((1, 34), np.float64(0.8190786173589291)), ((1, 35), np.float64(0.8012756437117532)), ((1, 38), np.float64(0.4886656328927688)), ((1, 39), np.float64(0.3805957396058912)), ((0, 0), np.float64(0.4868456340096774)), ((0, 3), np.float64(0.6631959325493108)), ((0, 6), np.float64(0.5649319514022548)), ((0, 7), np.float64(0.4135114643230862)), ((0, 10), np.float64(0.33387929146590717)), ((0, 13), np.float64(0.6435017088139795)), ((0, 14), np.float64(0.13707775704644146)), ((0, 17), np.float64(0.8482140178465221)), ((0, 20), np.float64(0.7020231496723415)), ((0, 21), np.float64(1.0618517661070166)), ((0, 24), np.float64(0.518072889836697)), ((0, 27), np.float64(0.6059474938929299)), ((0, 28), np.float64(0.25580775278371704)), ((0, 30), np.float64(0.7716036321335078)), ((0, 31), np.float64(0.14462843945425075)), ((0, 34), np.float64(0.5482681557727139)), ((0, 35), np.float64(0.7970379642937032)), ((0, 37), np.float64(0.4058190495804054)), ((0, 38), np.float64(0.49034617058897867)), ((1, 2), np.float64(0.6927025512897427)), ((1, 5), np.float64(0.5145151549685133)), ((1, 6), np.float64(0.49884053960681185)), ((1, 8), np.float64(0.20218572198632412)), ((1, 9), np.float64(1.1046564020833285)), ((1, 12), np.float64(0.6691801247541319)), ((1, 13), np.float64(0.7970795724128314)), ((1, 15), np.float64(0.1503557239969014)), ((1, 16), np.float64(0.8699026422120224)), ((1, 19), np.float64(0.3296747691105633)), ((1, 20), np.float64(0.827363399091586)), ((1, 22), np.float64(0.3139474507244518)), ((1, 23), np.float64(0.178274141509714)), ((1, 26), np.float64(0.3755147738958621)), ((1, 29), np.float64(0.37547748357876354)), ((1, 30), np.float64(0.9030109612321549)), ((1, 33), np.float64(0.7310278074395844)), ((1, 36), np.float64(0.8343793793421614)), ((1, 37), np.float64(0.29753549744637514))]\n"
     ]
    },
    {
     "data": {
      "text/plain": [
       "True"
      ]
     },
     "execution_count": 41,
     "metadata": {},
     "output_type": "execute_result"
    }
   ],
   "execution_count": 41
  }
 ],
 "metadata": {
  "colab": {
   "provenance": [],
   "toc_visible": true
  },
  "kernelspec": {
   "display_name": "Python 3 (ipykernel)",
   "language": "python",
   "name": "python3"
  },
  "language_info": {
   "codemirror_mode": {
    "name": "ipython",
    "version": 3
   },
   "file_extension": ".py",
   "mimetype": "text/x-python",
   "name": "python",
   "nbconvert_exporter": "python",
   "pygments_lexer": "ipython3",
   "version": "3.9.7"
  }
 },
 "nbformat": 4,
 "nbformat_minor": 0
}
