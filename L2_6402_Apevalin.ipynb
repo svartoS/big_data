{
 "nbformat": 4,
 "nbformat_minor": 0,
 "metadata": {
  "colab": {
   "provenance": [],
   "authorship_tag": "ABX9TyPM2SChW7alCxWfcCGP3z5k"
  },
  "kernelspec": {
   "name": "python3",
   "display_name": "Python 3"
  },
  "language_info": {
   "name": "python"
  }
 },
 "cells": [
  {
   "cell_type": "code",
   "execution_count": null,
   "metadata": {
    "id": "1rJO0pfdrCRi"
   },
   "outputs": [],
   "source": [
    "from pathlib import Path\n",
    "import urllib.request as ureq\n",
    "import os\n",
    "import sys\n",
    "from pyspark.sql import SparkSession, functions as F, types as T, Window\n",
    "\n",
    "os.environ['PYSPARK_PYTHON'] = sys.executable\n",
    "os.environ['PYSPARK_DRIVER_PYTHON'] = sys.executable\n",
    "os.environ['PYSPARK_SUBMIT_ARGS'] = '--packages com.databricks:spark-xml_2.12:0.17.0 pyspark-shell'\n",
    "\n",
    "spark = (\n",
    "    SparkSession.builder\n",
    "        .appName(\"L2\")\n",
    "        .getOrCreate()\n",
    ")\n"
   ]
  },
  {
   "cell_type": "code",
   "source": [
    "def download(url: str, fname: str) -> Path:\n",
    "    path = Path(fname)\n",
    "    if not path.exists():\n",
    "        print(f\"⇩  {fname}\")\n",
    "        ureq.urlretrieve(url, fname)\n",
    "    return path\n",
    "\n",
    "posts_xml  = download(\n",
    "    \"https://git.ai.ssau.ru/tk/big_data/raw/branch/bachelor/data/posts_sample.xml\",\n",
    "    \"posts_sample.xml\"\n",
    ")\n",
    "langs_csv  = download(\n",
    "    \"https://git.ai.ssau.ru/tk/big_data/raw/branch/bachelor/data/programming-languages.csv\",\n",
    "    \"programming-languages.csv\"\n",
    ")\n"
   ],
   "metadata": {
    "colab": {
     "base_uri": "https://localhost:8080/"
    },
    "id": "Ud_ChS4lrSMa",
    "executionInfo": {
     "status": "ok",
     "timestamp": 1746419204412,
     "user_tz": -240,
     "elapsed": 302577,
     "user": {
      "displayName": "Иван Апевалин",
      "userId": "06724581932212271611"
     }
    },
    "outputId": "ab711bd6-09f0-44ab-fd1e-120851aa32d9"
   },
   "execution_count": null,
   "outputs": [
    {
     "output_type": "stream",
     "name": "stdout",
     "text": [
      "⇩  posts_sample.xml\n",
      "⇩  programming-languages.csv\n"
     ]
    }
   ]
  },
  {
   "cell_type": "code",
   "source": [
    "posts = (\n",
    "    spark.read.format(\"xml\")\n",
    "        .option(\"rowTag\", \"row\")\n",
    "        .option(\"timestampFormat\", \"yyyy/MM/dd HH:mm:ss\")\n",
    "        .load(str(posts_xml))\n",
    ")\n",
    "\n",
    "languages = (\n",
    "    spark.read.option(\"header\", True).option(\"inferSchema\", True)\n",
    "        .csv(str(langs_csv))\n",
    "        .dropna()\n",
    "        .select(\"name\")\n",
    "        # «tag‑friendly» вид: только буквы/цифры/#+-\n",
    "        .withColumn(\n",
    "            \"tag\",\n",
    "            F.lower(F.regexp_replace(\"name\", r\"[^A-Za-z0-9#+-]\", \"\"))\n",
    "        )\n",
    ")\n"
   ],
   "metadata": {
    "id": "lBgFPClWrTv9"
   },
   "execution_count": null,
   "outputs": []
  },
  {
   "cell_type": "code",
   "source": [
    "posts_2010_20 = (\n",
    "    posts.filter(F.col(\"_CreationDate\")\n",
    "                 .between(\"2010-01-01\", \"2020-12-31\"))\n",
    "          .select(\n",
    "              F.year(\"_CreationDate\").alias(\"year\"),\n",
    "              \"_Tags\"\n",
    "          )\n",
    "          .where(\"_Tags IS NOT NULL\")\n",
    "          # \"<java><c#>\" → [\"java\",\"c#\"]\n",
    "          .withColumn(\n",
    "              \"tag\",\n",
    "              F.explode(\n",
    "                  F.split(\n",
    "                      F.expr(\"substring(_Tags,2,length(_Tags)-2)\"), \"><\"\n",
    "                  )\n",
    "              )\n",
    "          )\n",
    "          .select(\"year\", F.lower(\"tag\").alias(\"tag\"))\n",
    ")\n"
   ],
   "metadata": {
    "id": "XhNh5I4LrU8f"
   },
   "execution_count": null,
   "outputs": []
  },
  {
   "cell_type": "code",
   "source": [
    "lang_counts = (\n",
    "    posts_2010_20\n",
    "        .join(languages, \"tag\")              # inner‑join по полю tag\n",
    "        .groupBy(\"year\", \"name\")\n",
    "        .count()\n",
    ")\n",
    "\n",
    "top10_per_year = (\n",
    "    lang_counts\n",
    "        .withColumn(\n",
    "            \"rn\",\n",
    "            F.row_number().over(\n",
    "                Window.partitionBy(\"year\").orderBy(F.desc(\"count\"))\n",
    "            )\n",
    "        )\n",
    "        .filter(\"rn <= 10\")\n",
    "        .orderBy(\"year\", F.desc(\"count\"))\n",
    "        .select(\n",
    "            F.col(\"year\").alias(\"Year\"),\n",
    "            F.col(\"name\").alias(\"Language\"),\n",
    "            F.col(\"count\").alias(\"Count\")\n",
    "        )\n",
    ")\n",
    "\n",
    "top10_per_year.show(100, truncate=False)\n",
    "top10_per_year.write.mode(\"overwrite\").parquet(\"result_lang.parquet\")\n",
    "\n",
    "\n",
    "(\n",
    "    top10_per_year\n",
    "        .orderBy(\"Year\", F.desc(\"Count\"))  # внутри года — от популярного к редкому\n",
    "        .write\n",
    "        .mode(\"overwrite\")\n",
    "        .partitionBy(\"Year\")               # отдельная папка на год: fast‑filter\n",
    "        .option(\"compression\", \"snappy\")   # дефолт Hadoop‑friendly компрессия\n",
    "        .parquet(\"top10_languages_2010‑20.parquet\")\n",
    ")\n",
    "\n"
   ],
   "metadata": {
    "colab": {
     "base_uri": "https://localhost:8080/"
    },
    "id": "8sDCNLwwrWEm",
    "executionInfo": {
     "status": "ok",
     "timestamp": 1746426747127,
     "user_tz": -240,
     "elapsed": 26749,
     "user": {
      "displayName": "Иван Апевалин",
      "userId": "06724581932212271611"
     }
    },
    "outputId": "92bf284c-e37b-432d-9de9-08ba8f1b6376"
   },
   "execution_count": 6,
   "outputs": [
    {
     "output_type": "stream",
     "name": "stdout",
     "text": [
      "+----+-----------+-----+\n",
      "|Year|Language   |Count|\n",
      "+----+-----------+-----+\n",
      "|2010|Java       |52   |\n",
      "|2010|PHP        |46   |\n",
      "|2010|JavaScript |44   |\n",
      "|2010|Python     |26   |\n",
      "|2010|Objective-C|23   |\n",
      "|2010|C          |20   |\n",
      "|2010|Ruby       |12   |\n",
      "|2010|Delphi     |8    |\n",
      "|2010|S/SL       |4    |\n",
      "|2010|R          |3    |\n",
      "|2011|PHP        |102  |\n",
      "|2011|Java       |93   |\n",
      "|2011|JavaScript |83   |\n",
      "|2011|Python     |37   |\n",
      "|2011|Objective-C|34   |\n",
      "|2011|C          |24   |\n",
      "|2011|Ruby       |20   |\n",
      "|2011|Perl       |9    |\n",
      "|2011|Delphi     |8    |\n",
      "|2011|Bash       |7    |\n",
      "|2012|PHP        |154  |\n",
      "|2012|JavaScript |132  |\n",
      "|2012|Java       |124  |\n",
      "|2012|Python     |69   |\n",
      "|2012|Objective-C|45   |\n",
      "|2012|C          |27   |\n",
      "|2012|Ruby       |27   |\n",
      "|2012|Bash       |10   |\n",
      "|2012|R          |9    |\n",
      "|2012|MATLAB     |6    |\n",
      "|2013|PHP        |198  |\n",
      "|2013|JavaScript |198  |\n",
      "|2013|Java       |194  |\n",
      "|2013|Python     |90   |\n",
      "|2013|Objective-C|40   |\n",
      "|2013|C          |36   |\n",
      "|2013|Ruby       |32   |\n",
      "|2013|R          |26   |\n",
      "|2013|Bash       |12   |\n",
      "|2013|Scala      |11   |\n",
      "|2014|JavaScript |239  |\n",
      "|2014|Java       |228  |\n",
      "|2014|PHP        |167  |\n",
      "|2014|Python     |109  |\n",
      "|2014|C          |52   |\n",
      "|2014|Objective-C|52   |\n",
      "|2014|R          |28   |\n",
      "|2014|Ruby       |24   |\n",
      "|2014|MATLAB     |17   |\n",
      "|2014|Bash       |17   |\n",
      "|2015|JavaScript |277  |\n",
      "|2015|Java       |209  |\n",
      "|2015|PHP        |167  |\n",
      "|2015|Python     |121  |\n",
      "|2015|R          |43   |\n",
      "|2015|C          |38   |\n",
      "|2015|Objective-C|30   |\n",
      "|2015|Ruby       |21   |\n",
      "|2015|MATLAB     |16   |\n",
      "|2015|Scala      |15   |\n",
      "|2016|JavaScript |278  |\n",
      "|2016|Java       |184  |\n",
      "|2016|PHP        |155  |\n",
      "|2016|Python     |146  |\n",
      "|2016|R          |52   |\n",
      "|2016|C          |32   |\n",
      "|2016|Ruby       |24   |\n",
      "|2016|Bash       |18   |\n",
      "|2016|Scala      |16   |\n",
      "|2016|MATLAB     |15   |\n",
      "|2017|JavaScript |246  |\n",
      "|2017|Java       |204  |\n",
      "|2017|Python     |193  |\n",
      "|2017|PHP        |138  |\n",
      "|2017|R          |56   |\n",
      "|2017|C          |25   |\n",
      "|2017|TypeScript |20   |\n",
      "|2017|Objective-C|19   |\n",
      "|2017|Ruby       |17   |\n",
      "|2017|Bash       |14   |\n",
      "|2018|Python     |220  |\n",
      "|2018|JavaScript |198  |\n",
      "|2018|Java       |146  |\n",
      "|2018|PHP        |111  |\n",
      "|2018|R          |66   |\n",
      "|2018|TypeScript |27   |\n",
      "|2018|C          |24   |\n",
      "|2018|Scala      |23   |\n",
      "|2018|PowerShell |13   |\n",
      "|2018|Bash       |12   |\n",
      "|2019|Python     |166  |\n",
      "|2019|JavaScript |135  |\n",
      "|2019|Java       |95   |\n",
      "|2019|PHP        |65   |\n",
      "|2019|R          |37   |\n",
      "|2019|TypeScript |17   |\n",
      "|2019|C          |14   |\n",
      "|2019|Bash       |11   |\n",
      "|2019|MATLAB     |9    |\n",
      "|2019|Go         |9    |\n",
      "+----+-----------+-----+\n",
      "\n"
     ]
    }
   ]
  }
 ]
}
